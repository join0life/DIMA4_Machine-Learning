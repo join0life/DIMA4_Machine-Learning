{
 "cells": [
  {
   "cell_type": "markdown",
   "id": "bf304366-9b76-41a4-a457-4a62692f8d5d",
   "metadata": {},
   "source": [
    "# 패키지 로딩"
   ]
  },
  {
   "cell_type": "code",
   "execution_count": 1,
   "id": "ec634b44-c8d7-43eb-b5f3-c0887a626672",
   "metadata": {},
   "outputs": [],
   "source": [
    "import numpy as np\n",
    "import pandas as pd\n",
    "\n",
    "from sklearn.datasets import load_iris\n",
    "from sklearn.model_selection import KFold, StratifiedKFold, cross_val_score, cross_validate, train_test_split\n",
    "from sklearn.tree import DecisionTreeClassifier\n",
    "from sklearn.metrics import accuracy_score"
   ]
  },
  {
   "cell_type": "markdown",
   "id": "69a64b1c-343b-44b6-97dd-91cb3d91108a",
   "metadata": {},
   "source": [
    "# None Cross Validation (교차검증을 수행하지 않았을 때)"
   ]
  },
  {
   "cell_type": "code",
   "execution_count": 2,
   "id": "a2e5bcdd-c7da-4429-8563-2567ada67e52",
   "metadata": {},
   "outputs": [
    {
     "name": "stdout",
     "output_type": "stream",
     "text": [
      "정확도: 0.98\n"
     ]
    }
   ],
   "source": [
    "iris = load_iris()\n",
    "x_train, x_test, y_train, y_test = train_test_split(iris.data, iris.target, test_size = 0.3, random_state=10)\n",
    "model = DecisionTreeClassifier(random_state=1) # 의사결정나무 클래스\n",
    "model.fit(x_train, y_train)\n",
    "y_hat = model.predict(x_test)\n",
    "print(f'정확도: {accuracy_score(y_test, y_hat):.2f}') # 분류 정확도 : 전체 데이터의 개수 중에서 올바르게 맞춘 비율"
   ]
  },
  {
   "cell_type": "markdown",
   "id": "c87644bf-6920-401c-b304-50b4b5e9b37a",
   "metadata": {},
   "source": [
    "# K-Fold Cross Validation"
   ]
  },
  {
   "cell_type": "code",
   "execution_count": 3,
   "id": "b538538c-10f4-436f-a96f-28fdf0e50b14",
   "metadata": {},
   "outputs": [
    {
     "name": "stdout",
     "output_type": "stream",
     "text": [
      "(150, 4)\n",
      "[0 0 0 0 0 0 0 0 0 0 0 0 0 0 0 0 0 0 0 0 0 0 0 0 0 0 0 0 0 0 0 0 0 0 0 0 0\n",
      " 0 0 0 0 0 0 0 0 0 0 0 0 0 1 1 1 1 1 1 1 1 1 1 1 1 1 1 1 1 1 1 1 1 1 1 1 1\n",
      " 1 1 1 1 1 1 1 1 1 1 1 1 1 1 1 1 1 1 1 1 1 1 1 1 1 1 2 2 2 2 2 2 2 2 2 2 2\n",
      " 2 2 2 2 2 2 2 2 2 2 2 2 2 2 2 2 2 2 2 2 2 2 2 2 2 2 2 2 2 2 2 2 2 2 2 2 2\n",
      " 2 2]\n",
      "{0: 50, 1: 50, 2: 50}\n"
     ]
    }
   ],
   "source": [
    "print(iris.data.shape)\n",
    "print(iris.target)\n",
    "unique, counts = np.unique(iris.target, return_counts=True)\n",
    "print(dict(zip(unique, counts)))"
   ]
  },
  {
   "cell_type": "code",
   "execution_count": 4,
   "id": "6b1166b5-ed58-4eed-8d0b-212f1d1e9b0e",
   "metadata": {},
   "outputs": [
    {
     "name": "stdout",
     "output_type": "stream",
     "text": [
      "1번째 교차 검증 데이터 셋\n",
      "Train: [ 30  31  32  33  34  35  36  37  38  39  40  41  42  43  44  45  46  47\n",
      "  48  49  50  51  52  53  54  55  56  57  58  59  60  61  62  63  64  65\n",
      "  66  67  68  69  70  71  72  73  74  75  76  77  78  79  80  81  82  83\n",
      "  84  85  86  87  88  89  90  91  92  93  94  95  96  97  98  99 100 101\n",
      " 102 103 104 105 106 107 108 109 110 111 112 113 114 115 116 117 118 119\n",
      " 120 121 122 123 124 125 126 127 128 129 130 131 132 133 134 135 136 137\n",
      " 138 139 140 141 142 143 144 145 146 147 148 149]\n",
      "Test: [ 0  1  2  3  4  5  6  7  8  9 10 11 12 13 14 15 16 17 18 19 20 21 22 23\n",
      " 24 25 26 27 28 29]\n",
      "1번째 교차 검증 정확도: 1.00\n",
      "2번째 교차 검증 데이터 셋\n",
      "Train: [  0   1   2   3   4   5   6   7   8   9  10  11  12  13  14  15  16  17\n",
      "  18  19  20  21  22  23  24  25  26  27  28  29  60  61  62  63  64  65\n",
      "  66  67  68  69  70  71  72  73  74  75  76  77  78  79  80  81  82  83\n",
      "  84  85  86  87  88  89  90  91  92  93  94  95  96  97  98  99 100 101\n",
      " 102 103 104 105 106 107 108 109 110 111 112 113 114 115 116 117 118 119\n",
      " 120 121 122 123 124 125 126 127 128 129 130 131 132 133 134 135 136 137\n",
      " 138 139 140 141 142 143 144 145 146 147 148 149]\n",
      "Test: [30 31 32 33 34 35 36 37 38 39 40 41 42 43 44 45 46 47 48 49 50 51 52 53\n",
      " 54 55 56 57 58 59]\n",
      "2번째 교차 검증 정확도: 1.00\n",
      "3번째 교차 검증 데이터 셋\n",
      "Train: [  0   1   2   3   4   5   6   7   8   9  10  11  12  13  14  15  16  17\n",
      "  18  19  20  21  22  23  24  25  26  27  28  29  30  31  32  33  34  35\n",
      "  36  37  38  39  40  41  42  43  44  45  46  47  48  49  50  51  52  53\n",
      "  54  55  56  57  58  59  90  91  92  93  94  95  96  97  98  99 100 101\n",
      " 102 103 104 105 106 107 108 109 110 111 112 113 114 115 116 117 118 119\n",
      " 120 121 122 123 124 125 126 127 128 129 130 131 132 133 134 135 136 137\n",
      " 138 139 140 141 142 143 144 145 146 147 148 149]\n",
      "Test: [60 61 62 63 64 65 66 67 68 69 70 71 72 73 74 75 76 77 78 79 80 81 82 83\n",
      " 84 85 86 87 88 89]\n",
      "3번째 교차 검증 정확도: 0.90\n",
      "4번째 교차 검증 데이터 셋\n",
      "Train: [  0   1   2   3   4   5   6   7   8   9  10  11  12  13  14  15  16  17\n",
      "  18  19  20  21  22  23  24  25  26  27  28  29  30  31  32  33  34  35\n",
      "  36  37  38  39  40  41  42  43  44  45  46  47  48  49  50  51  52  53\n",
      "  54  55  56  57  58  59  60  61  62  63  64  65  66  67  68  69  70  71\n",
      "  72  73  74  75  76  77  78  79  80  81  82  83  84  85  86  87  88  89\n",
      " 120 121 122 123 124 125 126 127 128 129 130 131 132 133 134 135 136 137\n",
      " 138 139 140 141 142 143 144 145 146 147 148 149]\n",
      "Test: [ 90  91  92  93  94  95  96  97  98  99 100 101 102 103 104 105 106 107\n",
      " 108 109 110 111 112 113 114 115 116 117 118 119]\n",
      "4번째 교차 검증 정확도: 0.93\n",
      "5번째 교차 검증 데이터 셋\n",
      "Train: [  0   1   2   3   4   5   6   7   8   9  10  11  12  13  14  15  16  17\n",
      "  18  19  20  21  22  23  24  25  26  27  28  29  30  31  32  33  34  35\n",
      "  36  37  38  39  40  41  42  43  44  45  46  47  48  49  50  51  52  53\n",
      "  54  55  56  57  58  59  60  61  62  63  64  65  66  67  68  69  70  71\n",
      "  72  73  74  75  76  77  78  79  80  81  82  83  84  85  86  87  88  89\n",
      "  90  91  92  93  94  95  96  97  98  99 100 101 102 103 104 105 106 107\n",
      " 108 109 110 111 112 113 114 115 116 117 118 119]\n",
      "Test: [120 121 122 123 124 125 126 127 128 129 130 131 132 133 134 135 136 137\n",
      " 138 139 140 141 142 143 144 145 146 147 148 149]\n",
      "5번째 교차 검증 정확도: 0.73\n",
      "\n",
      "평균 정확도 : 0.91\n"
     ]
    }
   ],
   "source": [
    "k_fold = KFold(n_splits=5) # n_splits : 교차검증의 수, default값은 5\n",
    "x = iris.data\n",
    "y = iris.target\n",
    "k = 0 # 교차검증 횟수\n",
    "cv_acc = [] # 교차검증마다 정확도 저장 \n",
    "model = DecisionTreeClassifier(random_state=1)\n",
    "for train_idx, test_idx in k_fold.split(x):\n",
    "    k += 1\n",
    "    print(f'{k}번째 교차 검증 데이터 셋')\n",
    "    print('Train:', train_idx)\n",
    "    print('Test:', test_idx)\n",
    "    x_train, x_test = x[train_idx], x[test_idx]\n",
    "    y_train, y_test = y[train_idx], y[test_idx]\n",
    "\n",
    "    model.fit(x_train, y_train)\n",
    "    y_hat = model.predict(x_test)\n",
    "    acc = accuracy_score(y_test, y_hat)\n",
    "    print(f'{k}번째 교차 검증 정확도: {acc:.2f}')\n",
    "    cv_acc.append(acc)\n",
    "\n",
    "print()\n",
    "print(f'평균 정확도 : {np.mean(cv_acc):.2f}')"
   ]
  },
  {
   "cell_type": "markdown",
   "id": "130e0061-6ea0-4982-97cf-5eb0077b4927",
   "metadata": {},
   "source": [
    "# Stratified K-Fold Cross Validation"
   ]
  },
  {
   "cell_type": "code",
   "execution_count": 17,
   "id": "60507269-661d-422b-bbf9-b4e7a8897ce3",
   "metadata": {},
   "outputs": [
    {
     "name": "stdout",
     "output_type": "stream",
     "text": [
      "1번째 교차 검증 데이터 셋\n",
      "Train: [ 10  11  12  13  14  15  16  17  18  19  20  21  22  23  24  25  26  27\n",
      "  28  29  30  31  32  33  34  35  36  37  38  39  40  41  42  43  44  45\n",
      "  46  47  48  49  60  61  62  63  64  65  66  67  68  69  70  71  72  73\n",
      "  74  75  76  77  78  79  80  81  82  83  84  85  86  87  88  89  90  91\n",
      "  92  93  94  95  96  97  98  99 110 111 112 113 114 115 116 117 118 119\n",
      " 120 121 122 123 124 125 126 127 128 129 130 131 132 133 134 135 136 137\n",
      " 138 139 140 141 142 143 144 145 146 147 148 149]\n",
      "Test: [  0   1   2   3   4   5   6   7   8   9  50  51  52  53  54  55  56  57\n",
      "  58  59 100 101 102 103 104 105 106 107 108 109]\n",
      "1번째 교차 검증 정확도: 0.97\n",
      "2번째 교차 검증 데이터 셋\n",
      "Train: [  0   1   2   3   4   5   6   7   8   9  20  21  22  23  24  25  26  27\n",
      "  28  29  30  31  32  33  34  35  36  37  38  39  40  41  42  43  44  45\n",
      "  46  47  48  49  50  51  52  53  54  55  56  57  58  59  70  71  72  73\n",
      "  74  75  76  77  78  79  80  81  82  83  84  85  86  87  88  89  90  91\n",
      "  92  93  94  95  96  97  98  99 100 101 102 103 104 105 106 107 108 109\n",
      " 120 121 122 123 124 125 126 127 128 129 130 131 132 133 134 135 136 137\n",
      " 138 139 140 141 142 143 144 145 146 147 148 149]\n",
      "Test: [ 10  11  12  13  14  15  16  17  18  19  60  61  62  63  64  65  66  67\n",
      "  68  69 110 111 112 113 114 115 116 117 118 119]\n",
      "2번째 교차 검증 정확도: 0.97\n",
      "3번째 교차 검증 데이터 셋\n",
      "Train: [  0   1   2   3   4   5   6   7   8   9  10  11  12  13  14  15  16  17\n",
      "  18  19  30  31  32  33  34  35  36  37  38  39  40  41  42  43  44  45\n",
      "  46  47  48  49  50  51  52  53  54  55  56  57  58  59  60  61  62  63\n",
      "  64  65  66  67  68  69  80  81  82  83  84  85  86  87  88  89  90  91\n",
      "  92  93  94  95  96  97  98  99 100 101 102 103 104 105 106 107 108 109\n",
      " 110 111 112 113 114 115 116 117 118 119 130 131 132 133 134 135 136 137\n",
      " 138 139 140 141 142 143 144 145 146 147 148 149]\n",
      "Test: [ 20  21  22  23  24  25  26  27  28  29  70  71  72  73  74  75  76  77\n",
      "  78  79 120 121 122 123 124 125 126 127 128 129]\n",
      "3번째 교차 검증 정확도: 0.90\n",
      "4번째 교차 검증 데이터 셋\n",
      "Train: [  0   1   2   3   4   5   6   7   8   9  10  11  12  13  14  15  16  17\n",
      "  18  19  20  21  22  23  24  25  26  27  28  29  40  41  42  43  44  45\n",
      "  46  47  48  49  50  51  52  53  54  55  56  57  58  59  60  61  62  63\n",
      "  64  65  66  67  68  69  70  71  72  73  74  75  76  77  78  79  90  91\n",
      "  92  93  94  95  96  97  98  99 100 101 102 103 104 105 106 107 108 109\n",
      " 110 111 112 113 114 115 116 117 118 119 120 121 122 123 124 125 126 127\n",
      " 128 129 140 141 142 143 144 145 146 147 148 149]\n",
      "Test: [ 30  31  32  33  34  35  36  37  38  39  80  81  82  83  84  85  86  87\n",
      "  88  89 130 131 132 133 134 135 136 137 138 139]\n",
      "4번째 교차 검증 정확도: 1.00\n",
      "5번째 교차 검증 데이터 셋\n",
      "Train: [  0   1   2   3   4   5   6   7   8   9  10  11  12  13  14  15  16  17\n",
      "  18  19  20  21  22  23  24  25  26  27  28  29  30  31  32  33  34  35\n",
      "  36  37  38  39  50  51  52  53  54  55  56  57  58  59  60  61  62  63\n",
      "  64  65  66  67  68  69  70  71  72  73  74  75  76  77  78  79  80  81\n",
      "  82  83  84  85  86  87  88  89 100 101 102 103 104 105 106 107 108 109\n",
      " 110 111 112 113 114 115 116 117 118 119 120 121 122 123 124 125 126 127\n",
      " 128 129 130 131 132 133 134 135 136 137 138 139]\n",
      "Test: [ 40  41  42  43  44  45  46  47  48  49  90  91  92  93  94  95  96  97\n",
      "  98  99 140 141 142 143 144 145 146 147 148 149]\n",
      "5번째 교차 검증 정확도: 1.00\n",
      "\n",
      "평균 정확도 : 0.97\n"
     ]
    }
   ],
   "source": [
    "stf_k_fold = StratifiedKFold(n_splits=5) # n_splits : 교차검증의 수, default값은 5\n",
    "x = iris.data\n",
    "y = iris.target\n",
    "k = 0 # 교차검증 횟수\n",
    "cv_acc = [] # 교차검증마다 정확도 저장 \n",
    "model = DecisionTreeClassifier(random_state=1)\n",
    "for train_idx, test_idx in stf_k_fold.split(x, y):\n",
    "    k += 1\n",
    "    print(f'{k}번째 교차 검증 데이터 셋')\n",
    "    print('Train:', train_idx)\n",
    "    print('Test:', test_idx)\n",
    "    x_train, x_test = x[train_idx], x[test_idx]\n",
    "    y_train, y_test = y[train_idx], y[test_idx]\n",
    "\n",
    "    model.fit(x_train, y_train)\n",
    "    y_hat = model.predict(x_test)\n",
    "    acc = accuracy_score(y_test, y_hat)\n",
    "    print(f'{k}번째 교차 검증 정확도: {acc:.2f}')\n",
    "    cv_acc.append(acc)\n",
    "\n",
    "print()\n",
    "print(f'평균 정확도 : {np.mean(cv_acc):.2f}')"
   ]
  },
  {
   "cell_type": "markdown",
   "id": "fe9c1bd2-e292-410b-b1de-da7ab5e82de0",
   "metadata": {},
   "source": [
    "# cross_val_score()\n",
    "- estimator : 학습할 모델 객체\n",
    "- x : 독립변수 데이터 셋\n",
    "- y : 종속변수 데이터 셋\n",
    "- cv : 교차검증 k값 (default : 5), 또는 교차검증 클래스 객체"
   ]
  },
  {
   "cell_type": "code",
   "execution_count": 18,
   "id": "0a536f4d-ad6c-4216-9eb3-faa89490e885",
   "metadata": {},
   "outputs": [
    {
     "name": "stdout",
     "output_type": "stream",
     "text": [
      "score: [0.96666667 0.96666667 0.9        1.         1.        ]\n",
      "평균 정확도:0.97\n"
     ]
    }
   ],
   "source": [
    "score = cross_val_score(model, x, y)\n",
    "print('score:', score)\n",
    "print(f'평균 정확도:{np.mean(score):.2f}')"
   ]
  },
  {
   "cell_type": "markdown",
   "id": "32f0cff7-ab29-478e-b15f-629ea6a69924",
   "metadata": {},
   "source": [
    "# cross_validate()\n",
    "- 매 검증마다 소요된 학습 시간과 검증 시간을 딕셔너리로 반환한다.\n",
    "- 여러가지 평가지표를 리스트 형태로 전달 가능"
   ]
  },
  {
   "cell_type": "code",
   "execution_count": 20,
   "id": "6736ce08-0ed2-4cc8-9203-bc786804056a",
   "metadata": {},
   "outputs": [
    {
     "name": "stdout",
     "output_type": "stream",
     "text": [
      "dict_keys(['explained_variance', 'r2', 'max_error', 'matthews_corrcoef', 'neg_median_absolute_error', 'neg_mean_absolute_error', 'neg_mean_absolute_percentage_error', 'neg_mean_squared_error', 'neg_mean_squared_log_error', 'neg_root_mean_squared_error', 'neg_mean_poisson_deviance', 'neg_mean_gamma_deviance', 'accuracy', 'top_k_accuracy', 'roc_auc', 'roc_auc_ovr', 'roc_auc_ovo', 'roc_auc_ovr_weighted', 'roc_auc_ovo_weighted', 'balanced_accuracy', 'average_precision', 'neg_log_loss', 'neg_brier_score', 'positive_likelihood_ratio', 'neg_negative_likelihood_ratio', 'adjusted_rand_score', 'rand_score', 'homogeneity_score', 'completeness_score', 'v_measure_score', 'mutual_info_score', 'adjusted_mutual_info_score', 'normalized_mutual_info_score', 'fowlkes_mallows_score', 'precision', 'precision_macro', 'precision_micro', 'precision_samples', 'precision_weighted', 'recall', 'recall_macro', 'recall_micro', 'recall_samples', 'recall_weighted', 'f1', 'f1_macro', 'f1_micro', 'f1_samples', 'f1_weighted', 'jaccard', 'jaccard_macro', 'jaccard_micro', 'jaccard_samples', 'jaccard_weighted'])\n"
     ]
    }
   ],
   "source": [
    "import sklearn\n",
    "print(sklearn.metrics.SCORERS.keys()) # 평가지표"
   ]
  },
  {
   "cell_type": "code",
   "execution_count": 21,
   "id": "8e1eba36-bc47-400b-9141-e499d36c4915",
   "metadata": {},
   "outputs": [
    {
     "name": "stdout",
     "output_type": "stream",
     "text": [
      "평가지표: fit_time\n",
      "평균값: 0.00\n",
      "------------------------------\n",
      "평가지표: score_time\n",
      "평균값: 0.01\n",
      "------------------------------\n",
      "평가지표: test_accuracy\n",
      "평균값: 0.97\n",
      "------------------------------\n",
      "평가지표: test_precision_macro\n",
      "평균값: 0.97\n",
      "------------------------------\n",
      "평가지표: test_roc_auc_ovr\n",
      "평균값: 0.97\n",
      "------------------------------\n"
     ]
    }
   ],
   "source": [
    "result = cross_validate(model, x, y, cv = 5, scoring = ['accuracy','precision_macro','roc_auc_ovr'])\n",
    "for key,val in result.items():\n",
    "    print('평가지표:', key)\n",
    "    print(f'평균값: {np.mean(val):.2f}')\n",
    "    print('-'*30)"
   ]
  }
 ],
 "metadata": {
  "kernelspec": {
   "display_name": "Python 3 (ipykernel)",
   "language": "python",
   "name": "python3"
  },
  "language_info": {
   "codemirror_mode": {
    "name": "ipython",
    "version": 3
   },
   "file_extension": ".py",
   "mimetype": "text/x-python",
   "name": "python",
   "nbconvert_exporter": "python",
   "pygments_lexer": "ipython3",
   "version": "3.11.7"
  }
 },
 "nbformat": 4,
 "nbformat_minor": 5
}
