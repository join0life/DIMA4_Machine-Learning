{
 "cells": [
  {
   "cell_type": "markdown",
   "id": "218a14d0-e3e2-4c85-8423-9792c361f039",
   "metadata": {},
   "source": [
    "# 공분산 행렬 구하기"
   ]
  },
  {
   "cell_type": "code",
   "execution_count": 1,
   "id": "0f8680b1-4bee-44ab-8518-699902550e37",
   "metadata": {},
   "outputs": [],
   "source": [
    "import numpy as np\n",
    "np.set_printoptions(precision=3, suppress=True)"
   ]
  },
  {
   "cell_type": "code",
   "execution_count": 6,
   "id": "ae395bcf-3e5b-412d-8430-bd1469ed634c",
   "metadata": {},
   "outputs": [
    {
     "name": "stdout",
     "output_type": "stream",
     "text": [
      "키 컬럼 분산: 38.749\n",
      "열 평균 : [170.63  59.03  90.02]\n",
      "[[  7.07   9.07   1.78]\n",
      " [ -2.63   1.17  -0.72]\n",
      " [ -5.33  -9.93  -5.12]\n",
      " [-11.53 -17.03  -3.72]\n",
      " [  5.77  14.27   3.78]\n",
      " [  5.37  -1.83   2.48]\n",
      " [ -0.63   0.77  -0.22]\n",
      " [ -6.03  -7.43  -1.52]\n",
      " [  3.77  11.17   1.68]\n",
      " [  4.17  -0.23   1.58]]\n",
      "------------------------------\n",
      "공분산 행렬\n",
      "[[38.749 52.035 15.779]\n",
      " [52.035 95.54  23.158]\n",
      " [15.779 23.158  7.984]]\n"
     ]
    }
   ],
   "source": [
    "x = [[177.7, 68.1, 91.8],\n",
    "     [168, 60.2, 89.3],\n",
    "     [165.3, 49.1, 84.9], \n",
    "     [159.1, 42, 86.3], \n",
    "     [176.4, 73.3, 93.8],\n",
    "     [176, 57.2, 92.5], \n",
    "     [170, 59.8, 89.8], \n",
    "     [164.6, 51.6, 88.5], \n",
    "     [174.4, 70.2, 91.7], \n",
    "     [174.8, 58.8, 91.6]]\n",
    "x = np.array(x)\n",
    "print(f'키 컬럼 분산: {np.var(x[:,0], ddof=1):.3f}')\n",
    "print(f'열 평균 : {np.mean(x, axis = 0)}')\n",
    "# 데이터의 분포의 중심을 중심축으로 이동시키기 위해 각 열들의 평균 값을 0으로 맞춘다.\n",
    "x = x - np.mean(x, axis = 0)\n",
    "print(x)\n",
    "print('-' * 30)\n",
    "print('공분산 행렬')\n",
    "cov = (x.T@x)/(len(x)-1)\n",
    "print(cov)"
   ]
  },
  {
   "cell_type": "markdown",
   "id": "51576760-4da7-4085-aa77-0984faed9df1",
   "metadata": {},
   "source": [
    "# np.cov 함수와 결과 비교"
   ]
  },
  {
   "cell_type": "code",
   "execution_count": 7,
   "id": "c0c39799-1552-494e-992b-ec3d41109417",
   "metadata": {},
   "outputs": [
    {
     "name": "stdout",
     "output_type": "stream",
     "text": [
      "[[38.749 52.035 15.779]\n",
      " [52.035 95.54  23.158]\n",
      " [15.779 23.158  7.984]]\n"
     ]
    }
   ],
   "source": [
    "print(np.cov(x, rowvar=False)) # False : 열을 각각의 독립변수로 인식"
   ]
  },
  {
   "cell_type": "markdown",
   "id": "fd43b519-430a-4371-8262-b410f02dbc59",
   "metadata": {},
   "source": [
    "# 고유값, 고유벡터 행렬 구하기"
   ]
  },
  {
   "cell_type": "code",
   "execution_count": 18,
   "id": "54ee490e-0af2-49ca-b939-d491fa5ba017",
   "metadata": {},
   "outputs": [
    {
     "name": "stdout",
     "output_type": "stream",
     "text": [
      "고유값: [132.696   8.307   1.27 ]\n",
      "\n",
      "고유벡터: [[-0.501 -0.803 -0.323]\n",
      " [-0.838  0.544 -0.054]\n",
      " [-0.219 -0.244  0.945]]\n",
      "\n",
      "\n",
      "고유값 대각행렬:\n",
      "[[132.696   0.      0.   ]\n",
      " [  0.      8.307   0.   ]\n",
      " [  0.      0.      1.27 ]]\n",
      "\n",
      "첫 번째 고유벡터와 두 번째 고유벡터와의 내적\n",
      "0.0\n",
      "첫 번째 고유벡터와 세 번째 고유벡터와의 내적\n",
      "0.0\n",
      "두 번째 고유벡터와 세 번째 고유벡터와의 내적\n",
      "0.0\n"
     ]
    }
   ],
   "source": [
    "eigenvalue, eigenvector = np.linalg.eig(cov)\n",
    "print('고유값:', eigenvalue)\n",
    "print()\n",
    "print('고유벡터:', eigenvector)\n",
    "print()\n",
    "print()\n",
    "print('고유값 대각행렬:')\n",
    "eig_matrix = np.identity(3) * eigenvalue\n",
    "print(eig_matrix)\n",
    "print()\n",
    "print('첫 번째 고유벡터와 두 번째 고유벡터와의 내적')\n",
    "# 두 벡터가 서로 직교하면 내적 값이 0이 된다.\n",
    "# PC2(두번째 주성분)는 원점을 통과해서 PC1과 직교하는 벡터가 된다.\n",
    "a = eigenvector[:,0].T.dot(eigenvector[:,1])\n",
    "print(np.round(a,3))\n",
    "\n",
    "print('첫 번째 고유벡터와 세 번째 고유벡터와의 내적')\n",
    "a = eigenvector[:,0].T.dot(eigenvector[:,2])\n",
    "print(np.round(a,3))\n",
    "\n",
    "print('두 번째 고유벡터와 세 번째 고유벡터와의 내적')\n",
    "a = eigenvector[:,1].T.dot(eigenvector[:,2])\n",
    "print(np.round(a,3))"
   ]
  },
  {
   "cell_type": "code",
   "execution_count": 20,
   "id": "6b3a7811-78c2-4b86-9ac4-a8c4e2c95413",
   "metadata": {},
   "outputs": [
    {
     "name": "stdout",
     "output_type": "stream",
     "text": [
      "공분산 행렬\n",
      "[[38.749 52.035 15.779]\n",
      " [52.035 95.54  23.158]\n",
      " [15.779 23.158  7.984]]\n",
      "\n",
      "고유값 분해를 통한 공분산 행렬\n",
      "고유벡터 행렬@고유값 대각행렬@고유벡터 행렬의 역행렬\n",
      "[[38.749 52.035 15.779]\n",
      " [52.035 95.54  23.158]\n",
      " [15.779 23.158  7.984]]\n"
     ]
    }
   ],
   "source": [
    "print('공분산 행렬')\n",
    "print(cov)\n",
    "print()\n",
    "print('고유값 분해를 통한 공분산 행렬')\n",
    "print('고유벡터 행렬@고유값 대각행렬@고유벡터 행렬의 역행렬')\n",
    "print(eigenvector@eig_matrix@np.linalg.inv(eigenvector)) # inv : 역행렬 구하는 함수"
   ]
  },
  {
   "cell_type": "markdown",
   "id": "ca002250-5df8-4bf4-b7c5-f156230c32dc",
   "metadata": {},
   "source": [
    "# 첫 번째 주성분(PC1) 구하기\n",
    "- 가장 큰 분산을 나타내는 가장 큰 고유값으로 만든 고유 벡터에 표준화된 관측치를 내적하여 만든다."
   ]
  },
  {
   "cell_type": "code",
   "execution_count": 24,
   "id": "3a231f57-0599-42d7-92db-02cbaaa4924e",
   "metadata": {},
   "outputs": [
    {
     "name": "stdout",
     "output_type": "stream",
     "text": [
      "[[  7.07   9.07   1.78]\n",
      " [ -2.63   1.17  -0.72]\n",
      " [ -5.33  -9.93  -5.12]\n",
      " [-11.53 -17.03  -3.72]\n",
      " [  5.77  14.27   3.78]\n",
      " [  5.37  -1.83   2.48]\n",
      " [ -0.63   0.77  -0.22]\n",
      " [ -6.03  -7.43  -1.52]\n",
      " [  3.77  11.17   1.68]\n",
      " [  4.17  -0.23   1.58]]\n"
     ]
    }
   ],
   "source": [
    "print(x)"
   ]
  },
  {
   "cell_type": "code",
   "execution_count": 23,
   "id": "a8aa8413-88de-4357-893a-079dcd8083df",
   "metadata": {},
   "outputs": [
    {
     "name": "stdout",
     "output_type": "stream",
     "text": [
      "[-11.526   0.494  12.106  20.85  -15.668  -1.699  -0.281   9.574 -11.61\n",
      "  -2.241]\n"
     ]
    }
   ],
   "source": [
    "PC1 = eigenvector[:,0].dot(x.T)\n",
    "print(np.round(PC1, 3))"
   ]
  },
  {
   "cell_type": "markdown",
   "id": "94ac15c6-d0e0-4403-a540-015f983ea0f0",
   "metadata": {},
   "source": [
    "# 공분산을 이용한 주성분 분석"
   ]
  },
  {
   "cell_type": "code",
   "execution_count": 26,
   "id": "6f900087-64f0-4250-b70f-776424aa5daa",
   "metadata": {},
   "outputs": [
    {
     "name": "stdout",
     "output_type": "stream",
     "text": [
      "PCA를 이용한 차원 축소(3차원->2차원)\n",
      "고유벡터 VT - 주성분 2개 선택\n",
      "[[-0.501 -0.838 -0.219]\n",
      " [-0.803  0.544 -0.244]]\n",
      "\n",
      "고유벡터 VT와 원본 데이터 XT의 내적\n",
      "[[-11.526  -1.18 ]\n",
      " [  0.494   2.924]\n",
      " [ 12.106   0.129]\n",
      " [ 20.85    0.906]\n",
      " [-15.668   2.204]\n",
      " [ -1.699  -5.912]\n",
      " [ -0.281   0.978]\n",
      " [  9.574   1.173]\n",
      " [-11.61    2.637]\n",
      " [ -2.241  -3.859]]\n"
     ]
    }
   ],
   "source": [
    "print('PCA를 이용한 차원 축소(3차원->2차원)')\n",
    "VT = np.array([eigenvector[:,0], eigenvector[:,1]]) # 가장 큰 분산으로 만들어낸 두개의 벡터를 가져와서 2차원으로 축소\n",
    "print('고유벡터 VT - 주성분 2개 선택')\n",
    "print(VT)\n",
    "print()\n",
    "print('고유벡터 VT와 원본 데이터 XT의 내적')\n",
    "Z = VT.dot(x.T)\n",
    "print(Z.T)"
   ]
  },
  {
   "cell_type": "markdown",
   "id": "84f4fbec-47f3-4ddc-9033-e6844ce21570",
   "metadata": {},
   "source": [
    "# PCA 클래스와 결과 비교"
   ]
  },
  {
   "cell_type": "code",
   "execution_count": 27,
   "id": "74e03789-5c50-4bb3-90aa-bf212e5dfb11",
   "metadata": {},
   "outputs": [
    {
     "name": "stdout",
     "output_type": "stream",
     "text": [
      "(10, 2)\n",
      "[[-11.526   1.18 ]\n",
      " [  0.494  -2.924]\n",
      " [ 12.106  -0.129]\n",
      " [ 20.85   -0.906]\n",
      " [-15.668  -2.204]\n",
      " [ -1.699   5.912]\n",
      " [ -0.281  -0.978]\n",
      " [  9.574  -1.173]\n",
      " [-11.61   -2.637]\n",
      " [ -2.241   3.859]]\n"
     ]
    }
   ],
   "source": [
    "from sklearn.decomposition import PCA\n",
    "\n",
    "model = PCA(n_components=2) # n_components : 2개 차원으로 축소\n",
    "pca = model.fit_transform(x)\n",
    "print(pca.shape)\n",
    "print(pca)"
   ]
  },
  {
   "cell_type": "markdown",
   "id": "eb44f427-a77b-4494-ab8f-3cb5df4ed754",
   "metadata": {},
   "source": [
    "# PC가 차지하는 분산 비율 구하기"
   ]
  },
  {
   "cell_type": "code",
   "execution_count": 31,
   "id": "c6828659-a454-46f7-a4cf-8f4d50f7ad16",
   "metadata": {},
   "outputs": [
    {
     "name": "stdout",
     "output_type": "stream",
     "text": [
      "[0.933 0.058]\n",
      "분산 합계 : 0.99%\n"
     ]
    }
   ],
   "source": [
    "print(model.explained_variance_ratio_)\n",
    "print(f'분산 합계 : {np.sum(model.explained_variance_ratio_):.2f}%')"
   ]
  },
  {
   "cell_type": "markdown",
   "id": "eff417c6-691a-43cb-8aef-58f62fbe3144",
   "metadata": {},
   "source": [
    "# 고유 벡터 행렬"
   ]
  },
  {
   "cell_type": "code",
   "execution_count": 32,
   "id": "8b8655cd-a946-4989-863e-5e2a0921f394",
   "metadata": {},
   "outputs": [
    {
     "name": "stdout",
     "output_type": "stream",
     "text": [
      "[[-0.501 -0.838 -0.219]\n",
      " [ 0.803 -0.544  0.244]]\n"
     ]
    }
   ],
   "source": [
    "print(model.components_)"
   ]
  },
  {
   "cell_type": "code",
   "execution_count": 34,
   "id": "f0e4ecd4-1bb8-49d5-854d-cfe07e98347a",
   "metadata": {},
   "outputs": [
    {
     "name": "stdout",
     "output_type": "stream",
     "text": [
      "[132.696   8.307]\n"
     ]
    }
   ],
   "source": [
    "# 고유값\n",
    "print(model.explained_variance_)"
   ]
  }
 ],
 "metadata": {
  "kernelspec": {
   "display_name": "Python 3 (ipykernel)",
   "language": "python",
   "name": "python3"
  },
  "language_info": {
   "codemirror_mode": {
    "name": "ipython",
    "version": 3
   },
   "file_extension": ".py",
   "mimetype": "text/x-python",
   "name": "python",
   "nbconvert_exporter": "python",
   "pygments_lexer": "ipython3",
   "version": "3.11.7"
  }
 },
 "nbformat": 4,
 "nbformat_minor": 5
}
