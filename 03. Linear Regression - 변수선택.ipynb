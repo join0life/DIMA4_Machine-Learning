{
 "cells": [
  {
   "cell_type": "markdown",
   "id": "cc430380-2594-4e29-aceb-70cfe273ca55",
   "metadata": {},
   "source": [
    "# 캘리포니아 집값 예측"
   ]
  },
  {
   "cell_type": "markdown",
   "id": "342c9cbf-7210-47fd-b78a-cdb10d3432ca",
   "metadata": {},
   "source": [
    "## 패키지 로딩"
   ]
  },
  {
   "cell_type": "code",
   "execution_count": 27,
   "id": "88b7e5e8-8e1b-467b-84b0-614bec26fa37",
   "metadata": {},
   "outputs": [],
   "source": [
    "from sklearn.datasets import fetch_california_housing\n",
    "from sklearn.model_selection import train_test_split\n",
    "from sklearn.linear_model import LinearRegression\n",
    "from sklearn.preprocessing import StandardScaler\n",
    "\n",
    "import numpy as np\n",
    "import pandas as pd\n",
    "import matplotlib.pyplot as plt\n",
    "import seaborn as sns"
   ]
  },
  {
   "cell_type": "markdown",
   "id": "be60520a-3419-4adb-8822-9178b7f8cb8a",
   "metadata": {},
   "source": [
    "## 데이터 로드 및 확인"
   ]
  },
  {
   "cell_type": "code",
   "execution_count": 28,
   "id": "b4b0523a-ed2a-423e-92e9-ec2c6db79dce",
   "metadata": {},
   "outputs": [],
   "source": [
    "import warnings\n",
    "warnings.filterwarnings(action='ignore')"
   ]
  },
  {
   "cell_type": "code",
   "execution_count": 3,
   "id": "392da701-18c3-4b2b-94ca-ff13d747bc9a",
   "metadata": {},
   "outputs": [
    {
     "data": {
      "text/html": [
       "<div>\n",
       "<style scoped>\n",
       "    .dataframe tbody tr th:only-of-type {\n",
       "        vertical-align: middle;\n",
       "    }\n",
       "\n",
       "    .dataframe tbody tr th {\n",
       "        vertical-align: top;\n",
       "    }\n",
       "\n",
       "    .dataframe thead th {\n",
       "        text-align: right;\n",
       "    }\n",
       "</style>\n",
       "<table border=\"1\" class=\"dataframe\">\n",
       "  <thead>\n",
       "    <tr style=\"text-align: right;\">\n",
       "      <th></th>\n",
       "      <th>MedInc</th>\n",
       "      <th>HouseAge</th>\n",
       "      <th>AveRooms</th>\n",
       "      <th>AveBedrms</th>\n",
       "      <th>Population</th>\n",
       "      <th>AveOccup</th>\n",
       "      <th>Latitude</th>\n",
       "      <th>Longitude</th>\n",
       "    </tr>\n",
       "  </thead>\n",
       "  <tbody>\n",
       "    <tr>\n",
       "      <th>0</th>\n",
       "      <td>8.3252</td>\n",
       "      <td>41.0</td>\n",
       "      <td>6.984127</td>\n",
       "      <td>1.023810</td>\n",
       "      <td>322.0</td>\n",
       "      <td>2.555556</td>\n",
       "      <td>37.88</td>\n",
       "      <td>-122.23</td>\n",
       "    </tr>\n",
       "    <tr>\n",
       "      <th>1</th>\n",
       "      <td>8.3014</td>\n",
       "      <td>21.0</td>\n",
       "      <td>6.238137</td>\n",
       "      <td>0.971880</td>\n",
       "      <td>2401.0</td>\n",
       "      <td>2.109842</td>\n",
       "      <td>37.86</td>\n",
       "      <td>-122.22</td>\n",
       "    </tr>\n",
       "    <tr>\n",
       "      <th>2</th>\n",
       "      <td>7.2574</td>\n",
       "      <td>52.0</td>\n",
       "      <td>8.288136</td>\n",
       "      <td>1.073446</td>\n",
       "      <td>496.0</td>\n",
       "      <td>2.802260</td>\n",
       "      <td>37.85</td>\n",
       "      <td>-122.24</td>\n",
       "    </tr>\n",
       "    <tr>\n",
       "      <th>3</th>\n",
       "      <td>5.6431</td>\n",
       "      <td>52.0</td>\n",
       "      <td>5.817352</td>\n",
       "      <td>1.073059</td>\n",
       "      <td>558.0</td>\n",
       "      <td>2.547945</td>\n",
       "      <td>37.85</td>\n",
       "      <td>-122.25</td>\n",
       "    </tr>\n",
       "    <tr>\n",
       "      <th>4</th>\n",
       "      <td>3.8462</td>\n",
       "      <td>52.0</td>\n",
       "      <td>6.281853</td>\n",
       "      <td>1.081081</td>\n",
       "      <td>565.0</td>\n",
       "      <td>2.181467</td>\n",
       "      <td>37.85</td>\n",
       "      <td>-122.25</td>\n",
       "    </tr>\n",
       "  </tbody>\n",
       "</table>\n",
       "</div>"
      ],
      "text/plain": [
       "   MedInc  HouseAge  AveRooms  AveBedrms  Population  AveOccup  Latitude  \\\n",
       "0  8.3252      41.0  6.984127   1.023810       322.0  2.555556     37.88   \n",
       "1  8.3014      21.0  6.238137   0.971880      2401.0  2.109842     37.86   \n",
       "2  7.2574      52.0  8.288136   1.073446       496.0  2.802260     37.85   \n",
       "3  5.6431      52.0  5.817352   1.073059       558.0  2.547945     37.85   \n",
       "4  3.8462      52.0  6.281853   1.081081       565.0  2.181467     37.85   \n",
       "\n",
       "   Longitude  \n",
       "0    -122.23  \n",
       "1    -122.22  \n",
       "2    -122.24  \n",
       "3    -122.25  \n",
       "4    -122.25  "
      ]
     },
     "metadata": {},
     "output_type": "display_data"
    }
   ],
   "source": [
    "data = fetch_california_housing()\n",
    "df = pd.DataFrame(data.data, columns=data.feature_names)\n",
    "display(df.head())\n",
    "\n",
    "x = df.drop(['Latitude','Longitude'], axis = 1)\n",
    "y = data.target"
   ]
  },
  {
   "cell_type": "markdown",
   "id": "627da5f3-1c1c-462c-85ac-9cedadea3ffd",
   "metadata": {},
   "source": [
    "## 데이터 스케일링"
   ]
  },
  {
   "cell_type": "code",
   "execution_count": 4,
   "id": "03482412-e26b-4ac8-862c-e593d35d2f45",
   "metadata": {},
   "outputs": [
    {
     "data": {
      "text/html": [
       "<div>\n",
       "<style scoped>\n",
       "    .dataframe tbody tr th:only-of-type {\n",
       "        vertical-align: middle;\n",
       "    }\n",
       "\n",
       "    .dataframe tbody tr th {\n",
       "        vertical-align: top;\n",
       "    }\n",
       "\n",
       "    .dataframe thead th {\n",
       "        text-align: right;\n",
       "    }\n",
       "</style>\n",
       "<table border=\"1\" class=\"dataframe\">\n",
       "  <thead>\n",
       "    <tr style=\"text-align: right;\">\n",
       "      <th></th>\n",
       "      <th>MedInc</th>\n",
       "      <th>HouseAge</th>\n",
       "      <th>AveRooms</th>\n",
       "      <th>AveBedrms</th>\n",
       "      <th>Population</th>\n",
       "      <th>AveOccup</th>\n",
       "    </tr>\n",
       "  </thead>\n",
       "  <tbody>\n",
       "    <tr>\n",
       "      <th>0</th>\n",
       "      <td>2.344766</td>\n",
       "      <td>0.982143</td>\n",
       "      <td>0.628559</td>\n",
       "      <td>-0.153758</td>\n",
       "      <td>-0.974429</td>\n",
       "      <td>-0.049597</td>\n",
       "    </tr>\n",
       "    <tr>\n",
       "      <th>1</th>\n",
       "      <td>2.332238</td>\n",
       "      <td>-0.607019</td>\n",
       "      <td>0.327041</td>\n",
       "      <td>-0.263336</td>\n",
       "      <td>0.861439</td>\n",
       "      <td>-0.092512</td>\n",
       "    </tr>\n",
       "    <tr>\n",
       "      <th>2</th>\n",
       "      <td>1.782699</td>\n",
       "      <td>1.856182</td>\n",
       "      <td>1.155620</td>\n",
       "      <td>-0.049016</td>\n",
       "      <td>-0.820777</td>\n",
       "      <td>-0.025843</td>\n",
       "    </tr>\n",
       "    <tr>\n",
       "      <th>3</th>\n",
       "      <td>0.932968</td>\n",
       "      <td>1.856182</td>\n",
       "      <td>0.156966</td>\n",
       "      <td>-0.049833</td>\n",
       "      <td>-0.766028</td>\n",
       "      <td>-0.050329</td>\n",
       "    </tr>\n",
       "    <tr>\n",
       "      <th>4</th>\n",
       "      <td>-0.012881</td>\n",
       "      <td>1.856182</td>\n",
       "      <td>0.344711</td>\n",
       "      <td>-0.032906</td>\n",
       "      <td>-0.759847</td>\n",
       "      <td>-0.085616</td>\n",
       "    </tr>\n",
       "  </tbody>\n",
       "</table>\n",
       "</div>"
      ],
      "text/plain": [
       "     MedInc  HouseAge  AveRooms  AveBedrms  Population  AveOccup\n",
       "0  2.344766  0.982143  0.628559  -0.153758   -0.974429 -0.049597\n",
       "1  2.332238 -0.607019  0.327041  -0.263336    0.861439 -0.092512\n",
       "2  1.782699  1.856182  1.155620  -0.049016   -0.820777 -0.025843\n",
       "3  0.932968  1.856182  0.156966  -0.049833   -0.766028 -0.050329\n",
       "4 -0.012881  1.856182  0.344711  -0.032906   -0.759847 -0.085616"
      ]
     },
     "metadata": {},
     "output_type": "display_data"
    },
    {
     "name": "stdout",
     "output_type": "stream",
     "text": [
      "             MedInc      HouseAge      AveRooms     AveBedrms    Population  \\\n",
      "count  2.064000e+04  2.064000e+04  2.064000e+04  2.064000e+04  2.064000e+04   \n",
      "mean   6.609700e-17  5.508083e-18  6.609700e-17 -1.060306e-16 -1.101617e-17   \n",
      "std    1.000024e+00  1.000024e+00  1.000024e+00  1.000024e+00  1.000024e+00   \n",
      "min   -1.774299e+00 -2.196180e+00 -1.852319e+00 -1.610768e+00 -1.256123e+00   \n",
      "25%   -6.881186e-01 -8.453931e-01 -3.994496e-01 -1.911716e-01 -5.638089e-01   \n",
      "50%   -1.767951e-01  2.864572e-02 -8.078489e-02 -1.010650e-01 -2.291318e-01   \n",
      "75%    4.593063e-01  6.643103e-01  2.519615e-01  6.015869e-03  2.644949e-01   \n",
      "max    5.858286e+00  1.856182e+00  5.516324e+01  6.957171e+01  3.025033e+01   \n",
      "\n",
      "           AveOccup  \n",
      "count  2.064000e+04  \n",
      "mean   3.442552e-18  \n",
      "std    1.000024e+00  \n",
      "min   -2.290000e-01  \n",
      "25%   -6.171062e-02  \n",
      "50%   -2.431585e-02  \n",
      "75%    2.037453e-02  \n",
      "max    1.194191e+02  \n"
     ]
    }
   ],
   "source": [
    "scaled_data = StandardScaler().fit_transform(x) # 아직 학습데이터와 평가데이터를 분리하지 않았기 때문에 전체 데이터를 fit_transform\n",
    "scaled_data_df = pd.DataFrame(scaled_data, columns=data.feature_names[:6])\n",
    "display(scaled_data_df.head())\n",
    "print(scaled_data_df.describe())"
   ]
  },
  {
   "cell_type": "markdown",
   "id": "5e6d1d20-ed3e-4f80-a78b-626b6a8c654e",
   "metadata": {},
   "source": [
    "## 변수간 상관관계 시각화"
   ]
  },
  {
   "cell_type": "code",
   "execution_count": 7,
   "id": "aa5e3899-9cd7-4cc6-97cb-0fabd4b48977",
   "metadata": {},
   "outputs": [
    {
     "name": "stdout",
     "output_type": "stream",
     "text": [
      "              MedInc  HouseAge  AveRooms  AveBedrms  Population  AveOccup\n",
      "MedInc      1.000000 -0.119034  0.326895  -0.062040    0.004834  0.018766\n",
      "HouseAge   -0.119034  1.000000 -0.153277  -0.077747   -0.296244  0.013191\n",
      "AveRooms    0.326895 -0.153277  1.000000   0.847621   -0.072213 -0.004852\n",
      "AveBedrms  -0.062040 -0.077747  0.847621   1.000000   -0.066197 -0.006181\n",
      "Population  0.004834 -0.296244 -0.072213  -0.066197    1.000000  0.069863\n",
      "AveOccup    0.018766  0.013191 -0.004852  -0.006181    0.069863  1.000000\n"
     ]
    },
    {
     "data": {
      "image/png": "[encoded data removed]",
      "text/plain": [
       "<Figure size 640x480 with 2 Axes>"
      ]
     },
     "metadata": {},
     "output_type": "display_data"
    }
   ],
   "source": [
    "corr = scaled_data_df.corr() # 변수간의 상관관계 값 산출\n",
    "print(corr)\n",
    "cmap = sns.light_palette('black', as_cmap=True)\n",
    "sns.heatmap(corr, annot=True, fmt = '3.1f', cmap=cmap)\n",
    "plt.show()"
   ]
  },
  {
   "cell_type": "markdown",
   "id": "152cfe4e-016c-451f-b81a-96d92ae4d010",
   "metadata": {},
   "source": [
    "## 학습/평가 데이터 분할"
   ]
  },
  {
   "cell_type": "markdown",
   "id": "b960fa94-cad9-4829-b582-daf4765d286c",
   "metadata": {},
   "source": [
    "### 표준화된 데이터 분할"
   ]
  },
  {
   "cell_type": "code",
   "execution_count": 8,
   "id": "efe5a873-b625-488b-9b6c-844f2240f301",
   "metadata": {},
   "outputs": [],
   "source": [
    "x_train, x_test, y_train, y_test = train_test_split(scaled_data, y, test_size=0.3, random_state=10)"
   ]
  },
  {
   "cell_type": "markdown",
   "id": "e8b48029-ad27-4673-a232-c69cead170d2",
   "metadata": {},
   "source": [
    "### 표준화하지 않은 데이터 분할"
   ]
  },
  {
   "cell_type": "code",
   "execution_count": 9,
   "id": "e7aa88d8-3ce4-4ead-922b-56d52174b159",
   "metadata": {},
   "outputs": [],
   "source": [
    "x_train, x_test, y_train, y_test = train_test_split(x, y, test_size=0.3, random_state=10)"
   ]
  },
  {
   "cell_type": "markdown",
   "id": "998a88c8-cd00-42e3-b99f-4612f119b01c",
   "metadata": {},
   "source": [
    "## 회귀모델 생성 및 학습"
   ]
  },
  {
   "cell_type": "code",
   "execution_count": 29,
   "id": "63fa87b7-ad34-42f7-944a-aa8b5646ed93",
   "metadata": {},
   "outputs": [
    {
     "data": {
      "text/html": [
       "<style>#sk-container-id-2 {color: black;background-color: white;}#sk-container-id-2 pre{padding: 0;}#sk-container-id-2 div.sk-toggleable {background-color: white;}#sk-container-id-2 label.sk-toggleable__label {cursor: pointer;display: block;width: 100%;margin-bottom: 0;padding: 0.3em;box-sizing: border-box;text-align: center;}#sk-container-id-2 label.sk-toggleable__label-arrow:before {content: \"▸\";float: left;margin-right: 0.25em;color: #696969;}#sk-container-id-2 label.sk-toggleable__label-arrow:hover:before {color: black;}#sk-container-id-2 div.sk-estimator:hover label.sk-toggleable__label-arrow:before {color: black;}#sk-container-id-2 div.sk-toggleable__content {max-height: 0;max-width: 0;overflow: hidden;text-align: left;background-color: #f0f8ff;}#sk-container-id-2 div.sk-toggleable__content pre {margin: 0.2em;color: black;border-radius: 0.25em;background-color: #f0f8ff;}#sk-container-id-2 input.sk-toggleable__control:checked~div.sk-toggleable__content {max-height: 200px;max-width: 100%;overflow: auto;}#sk-container-id-2 input.sk-toggleable__control:checked~label.sk-toggleable__label-arrow:before {content: \"▾\";}#sk-container-id-2 div.sk-estimator input.sk-toggleable__control:checked~label.sk-toggleable__label {background-color: #d4ebff;}#sk-container-id-2 div.sk-label input.sk-toggleable__control:checked~label.sk-toggleable__label {background-color: #d4ebff;}#sk-container-id-2 input.sk-hidden--visually {border: 0;clip: rect(1px 1px 1px 1px);clip: rect(1px, 1px, 1px, 1px);height: 1px;margin: -1px;overflow: hidden;padding: 0;position: absolute;width: 1px;}#sk-container-id-2 div.sk-estimator {font-family: monospace;background-color: #f0f8ff;border: 1px dotted black;border-radius: 0.25em;box-sizing: border-box;margin-bottom: 0.5em;}#sk-container-id-2 div.sk-estimator:hover {background-color: #d4ebff;}#sk-container-id-2 div.sk-parallel-item::after {content: \"\";width: 100%;border-bottom: 1px solid gray;flex-grow: 1;}#sk-container-id-2 div.sk-label:hover label.sk-toggleable__label {background-color: #d4ebff;}#sk-container-id-2 div.sk-serial::before {content: \"\";position: absolute;border-left: 1px solid gray;box-sizing: border-box;top: 0;bottom: 0;left: 50%;z-index: 0;}#sk-container-id-2 div.sk-serial {display: flex;flex-direction: column;align-items: center;background-color: white;padding-right: 0.2em;padding-left: 0.2em;position: relative;}#sk-container-id-2 div.sk-item {position: relative;z-index: 1;}#sk-container-id-2 div.sk-parallel {display: flex;align-items: stretch;justify-content: center;background-color: white;position: relative;}#sk-container-id-2 div.sk-item::before, #sk-container-id-2 div.sk-parallel-item::before {content: \"\";position: absolute;border-left: 1px solid gray;box-sizing: border-box;top: 0;bottom: 0;left: 50%;z-index: -1;}#sk-container-id-2 div.sk-parallel-item {display: flex;flex-direction: column;z-index: 1;position: relative;background-color: white;}#sk-container-id-2 div.sk-parallel-item:first-child::after {align-self: flex-end;width: 50%;}#sk-container-id-2 div.sk-parallel-item:last-child::after {align-self: flex-start;width: 50%;}#sk-container-id-2 div.sk-parallel-item:only-child::after {width: 0;}#sk-container-id-2 div.sk-dashed-wrapped {border: 1px dashed gray;margin: 0 0.4em 0.5em 0.4em;box-sizing: border-box;padding-bottom: 0.4em;background-color: white;}#sk-container-id-2 div.sk-label label {font-family: monospace;font-weight: bold;display: inline-block;line-height: 1.2em;}#sk-container-id-2 div.sk-label-container {text-align: center;}#sk-container-id-2 div.sk-container {/* jupyter's `normalize.less` sets `[hidden] { display: none; }` but bootstrap.min.css set `[hidden] { display: none !important; }` so we also need the `!important` here to be able to override the default hidden behavior on the sphinx rendered scikit-learn.org. See: https://github.com/scikit-learn/scikit-learn/issues/21755 */display: inline-block !important;position: relative;}#sk-container-id-2 div.sk-text-repr-fallback {display: none;}</style><div id=\"sk-container-id-2\" class=\"sk-top-container\"><div class=\"sk-text-repr-fallback\"><pre>LinearRegression()</pre><b>In a Jupyter environment, please rerun this cell to show the HTML representation or trust the notebook. <br />On GitHub, the HTML representation is unable to render, please try loading this page with nbviewer.org.</b></div><div class=\"sk-container\" hidden><div class=\"sk-item\"><div class=\"sk-estimator sk-toggleable\"><input class=\"sk-toggleable__control sk-hidden--visually\" id=\"sk-estimator-id-2\" type=\"checkbox\" checked><label for=\"sk-estimator-id-2\" class=\"sk-toggleable__label sk-toggleable__label-arrow\">LinearRegression</label><div class=\"sk-toggleable__content\"><pre>LinearRegression()</pre></div></div></div></div></div>"
      ],
      "text/plain": [
       "LinearRegression()"
      ]
     },
     "execution_count": 29,
     "metadata": {},
     "output_type": "execute_result"
    }
   ],
   "source": [
    "model = LinearRegression()\n",
    "model.fit(x_train, y_train)"
   ]
  },
  {
   "cell_type": "markdown",
   "id": "d5ccdfa3-50cb-4b4e-bf24-13f5f37a84b2",
   "metadata": {},
   "source": [
    "## 모델 예측 및 검증"
   ]
  },
  {
   "cell_type": "code",
   "execution_count": 11,
   "id": "9b9ff8e0-10de-4511-90d5-acc3557a6ab2",
   "metadata": {},
   "outputs": [
    {
     "name": "stdout",
     "output_type": "stream",
     "text": [
      "MSE:0.634\n",
      "RMSE:0.796\n",
      "결정계수:0.532\n"
     ]
    }
   ],
   "source": [
    "from sklearn.metrics import mean_squared_error, r2_score\n",
    "\n",
    "y_hat = model.predict(x_test)\n",
    "mse = mean_squared_error(y_test, y_hat)\n",
    "print(f'MSE:{mse:.3f}')\n",
    "print(f'RMSE:{np.sqrt(mse):.3f}')\n",
    "print(f'결정계수:{r2_score(y_test, y_hat):.3f}')"
   ]
  },
  {
   "cell_type": "code",
   "execution_count": 12,
   "id": "db9721ab-dbc8-42b6-beed-0fe9dd864d5d",
   "metadata": {
    "scrolled": true
   },
   "outputs": [
    {
     "name": "stdout",
     "output_type": "stream",
     "text": [
      "추정계수(가중치)\n",
      "AveBedrms     1.103587\n",
      "MedInc        0.542363\n",
      "HouseAge      0.016855\n",
      "Population    0.000027\n",
      "AveOccup     -0.005831\n",
      "AveRooms     -0.216814\n",
      "dtype: float64\n"
     ]
    }
   ],
   "source": [
    "weight = { f:w for f, w in zip(x.columns, model.coef_)} # 가중치가 각각 어느 수치인지 확인하기 위해 f를 인덱스로 넣은 시리즈 객체를 만듦\n",
    "print('추정계수(가중치)')\n",
    "print(pd.Series(weight).sort_values(ascending=False))"
   ]
  },
  {
   "cell_type": "markdown",
   "id": "a41cfd85-a0be-44f6-8ae5-7712b08750bc",
   "metadata": {},
   "source": [
    "# 학습곡선 시각화"
   ]
  },
  {
   "cell_type": "code",
   "execution_count": 13,
   "id": "1976d2fe-a41d-4ea2-a5eb-5f13f0421997",
   "metadata": {},
   "outputs": [],
   "source": [
    "# 학습 데이터의 크기 변화에 따른 학습과 평가의 오차 변화 시각화\n",
    "from sklearn.metrics import mean_squared_error\n",
    "\n",
    "def plot_learning_curve(model, x, y):\n",
    "    x_train, x_test, y_train, y_test = train_test_split(x, y, test_size=0.3, random_state=10)\n",
    "    train_error = [] # 학습했을 때의 오차\n",
    "    test_error = [] # 모델 평가 오차\n",
    "    for n in range(1, len(x)+1):\n",
    "        model.fit(x_train[:n], y_train[:n])\n",
    "        y_train_hat = model.predict(x_train[:n])\n",
    "        y_test_hat = model.predict(x_test[:n])\n",
    "        train_error.append(mean_squared_error(y_train[:n], y_train_hat))\n",
    "        test_error.append(mean_squared_error(y_test[:n], y_test_hat))\n",
    "\n",
    "    plt.plot(np.sqrt(train_error), 'r', label='train')\n",
    "    plt.plot(np.sqrt(test_error), 'b', label='test')\n",
    "    plt.xlabel('Training set size')\n",
    "    plt.ylabel('RMSE')\n",
    "    plt.show()"
   ]
  },
  {
   "cell_type": "code",
   "execution_count": 14,
   "id": "31717e07-5326-4c35-83a4-5e68c58e2fe9",
   "metadata": {},
   "outputs": [
    {
     "data": {
      "image/png": "[encoded data removed]",
      "text/plain": [
       "<Figure size 640x480 with 1 Axes>"
      ]
     },
     "metadata": {},
     "output_type": "display_data"
    }
   ],
   "source": [
    "model = LinearRegression()\n",
    "plot_learning_curve(model, x, y)"
   ]
  },
  {
   "cell_type": "code",
   "execution_count": 15,
   "id": "34232c57-b6c9-4234-aae5-b9fd15801b59",
   "metadata": {},
   "outputs": [
    {
     "data": {
      "image/png": "[encoded data removed]",
      "text/plain": [
       "<Figure size 640x480 with 1 Axes>"
      ]
     },
     "metadata": {},
     "output_type": "display_data"
    }
   ],
   "source": [
    "plt.scatter(np.arange(15),y_hat[:15], marker='v', color ='r', label = 'y_hat')\n",
    "plt.scatter(np.arange(15),y_test[:15], marker='o', color ='b', label = 'y')\n",
    "plt.legend()\n",
    "plt.show()"
   ]
  },
  {
   "cell_type": "markdown",
   "id": "071fcbc8-1851-4c04-9504-d3bec66a5b3a",
   "metadata": {},
   "source": [
    "# 다중공선성 및 변수선택 후 학습\n",
    "- VIF(분산팽창지수) 값 확인"
   ]
  },
  {
   "cell_type": "code",
   "execution_count": 1,
   "id": "60c6401c-2dc7-4fbe-8d82-cee32ff71522",
   "metadata": {},
   "outputs": [
    {
     "name": "stdout",
     "output_type": "stream",
     "text": [
      "Requirement already satisfied: statsmodels in c:\\users\\user\\anaconda3\\lib\\site-packages (0.14.0)\n",
      "Requirement already satisfied: numpy>=1.18 in c:\\users\\user\\anaconda3\\lib\\site-packages (from statsmodels) (1.26.4)\n",
      "Requirement already satisfied: scipy!=1.9.2,>=1.4 in c:\\users\\user\\anaconda3\\lib\\site-packages (from statsmodels) (1.11.4)\n",
      "Requirement already satisfied: pandas>=1.0 in c:\\users\\user\\anaconda3\\lib\\site-packages (from statsmodels) (2.1.4)\n",
      "Requirement already satisfied: patsy>=0.5.2 in c:\\users\\user\\anaconda3\\lib\\site-packages (from statsmodels) (0.5.3)\n",
      "Requirement already satisfied: packaging>=21.3 in c:\\users\\user\\anaconda3\\lib\\site-packages (from statsmodels) (23.1)\n",
      "Requirement already satisfied: python-dateutil>=2.8.2 in c:\\users\\user\\anaconda3\\lib\\site-packages (from pandas>=1.0->statsmodels) (2.8.2)\n",
      "Requirement already satisfied: pytz>=2020.1 in c:\\users\\user\\anaconda3\\lib\\site-packages (from pandas>=1.0->statsmodels) (2023.3.post1)\n",
      "Requirement already satisfied: tzdata>=2022.1 in c:\\users\\user\\anaconda3\\lib\\site-packages (from pandas>=1.0->statsmodels) (2023.3)\n",
      "Requirement already satisfied: six in c:\\users\\user\\anaconda3\\lib\\site-packages (from patsy>=0.5.2->statsmodels) (1.16.0)\n"
     ]
    }
   ],
   "source": [
    "!pip install statsmodels"
   ]
  },
  {
   "cell_type": "code",
   "execution_count": 18,
   "id": "4a8620a2-a552-4ed1-971a-66c281bb1e05",
   "metadata": {},
   "outputs": [
    {
     "name": "stdout",
     "output_type": "stream",
     "text": [
      "   VIF Factor    features\n",
      "0    1.094793    AveOccup\n",
      "1    2.322315  Population\n",
      "2    4.309941    HouseAge\n",
      "3    7.766787      MedInc\n",
      "4   34.118257   AveBedrms\n",
      "5   41.111592    AveRooms\n"
     ]
    }
   ],
   "source": [
    "from statsmodels.stats.outliers_influence import variance_inflation_factor\n",
    "\n",
    "vif = pd.DataFrame()\n",
    "vif['VIF Factor'] = [variance_inflation_factor(x, i) for i in range(x.shape[1])] #  i번째 컬럼에 대한 분산팽창지수\n",
    "vif['features'] = x.columns\n",
    "vif = vif.sort_values('VIF Factor').reset_index(drop=True)\n",
    "print(vif)"
   ]
  },
  {
   "cell_type": "code",
   "execution_count": null,
   "id": "001b9c07-3822-4f34-bb3b-8d02431e6b49",
   "metadata": {},
   "outputs": [],
   "source": [
    "# 분산팽창지수가 높은 변수 삭제\n",
    "x = x.drop('AveBedrms', axis = 1)"
   ]
  },
  {
   "cell_type": "code",
   "execution_count": 24,
   "id": "a8f86ed7-8c32-46ca-a126-84c91b63f7ec",
   "metadata": {},
   "outputs": [],
   "source": [
    "scaled_data = StandardScaler().fit_transform(x)\n",
    "x_train, x_test, y_train, y_test = train_test_split(scaled_data, y, test_size=0.3, random_state=10)"
   ]
  },
  {
   "cell_type": "code",
   "execution_count": 30,
   "id": "9a9c1ed1-e9df-419a-954e-677da46e953a",
   "metadata": {},
   "outputs": [
    {
     "data": {
      "text/html": [
       "<style>#sk-container-id-3 {color: black;background-color: white;}#sk-container-id-3 pre{padding: 0;}#sk-container-id-3 div.sk-toggleable {background-color: white;}#sk-container-id-3 label.sk-toggleable__label {cursor: pointer;display: block;width: 100%;margin-bottom: 0;padding: 0.3em;box-sizing: border-box;text-align: center;}#sk-container-id-3 label.sk-toggleable__label-arrow:before {content: \"▸\";float: left;margin-right: 0.25em;color: #696969;}#sk-container-id-3 label.sk-toggleable__label-arrow:hover:before {color: black;}#sk-container-id-3 div.sk-estimator:hover label.sk-toggleable__label-arrow:before {color: black;}#sk-container-id-3 div.sk-toggleable__content {max-height: 0;max-width: 0;overflow: hidden;text-align: left;background-color: #f0f8ff;}#sk-container-id-3 div.sk-toggleable__content pre {margin: 0.2em;color: black;border-radius: 0.25em;background-color: #f0f8ff;}#sk-container-id-3 input.sk-toggleable__control:checked~div.sk-toggleable__content {max-height: 200px;max-width: 100%;overflow: auto;}#sk-container-id-3 input.sk-toggleable__control:checked~label.sk-toggleable__label-arrow:before {content: \"▾\";}#sk-container-id-3 div.sk-estimator input.sk-toggleable__control:checked~label.sk-toggleable__label {background-color: #d4ebff;}#sk-container-id-3 div.sk-label input.sk-toggleable__control:checked~label.sk-toggleable__label {background-color: #d4ebff;}#sk-container-id-3 input.sk-hidden--visually {border: 0;clip: rect(1px 1px 1px 1px);clip: rect(1px, 1px, 1px, 1px);height: 1px;margin: -1px;overflow: hidden;padding: 0;position: absolute;width: 1px;}#sk-container-id-3 div.sk-estimator {font-family: monospace;background-color: #f0f8ff;border: 1px dotted black;border-radius: 0.25em;box-sizing: border-box;margin-bottom: 0.5em;}#sk-container-id-3 div.sk-estimator:hover {background-color: #d4ebff;}#sk-container-id-3 div.sk-parallel-item::after {content: \"\";width: 100%;border-bottom: 1px solid gray;flex-grow: 1;}#sk-container-id-3 div.sk-label:hover label.sk-toggleable__label {background-color: #d4ebff;}#sk-container-id-3 div.sk-serial::before {content: \"\";position: absolute;border-left: 1px solid gray;box-sizing: border-box;top: 0;bottom: 0;left: 50%;z-index: 0;}#sk-container-id-3 div.sk-serial {display: flex;flex-direction: column;align-items: center;background-color: white;padding-right: 0.2em;padding-left: 0.2em;position: relative;}#sk-container-id-3 div.sk-item {position: relative;z-index: 1;}#sk-container-id-3 div.sk-parallel {display: flex;align-items: stretch;justify-content: center;background-color: white;position: relative;}#sk-container-id-3 div.sk-item::before, #sk-container-id-3 div.sk-parallel-item::before {content: \"\";position: absolute;border-left: 1px solid gray;box-sizing: border-box;top: 0;bottom: 0;left: 50%;z-index: -1;}#sk-container-id-3 div.sk-parallel-item {display: flex;flex-direction: column;z-index: 1;position: relative;background-color: white;}#sk-container-id-3 div.sk-parallel-item:first-child::after {align-self: flex-end;width: 50%;}#sk-container-id-3 div.sk-parallel-item:last-child::after {align-self: flex-start;width: 50%;}#sk-container-id-3 div.sk-parallel-item:only-child::after {width: 0;}#sk-container-id-3 div.sk-dashed-wrapped {border: 1px dashed gray;margin: 0 0.4em 0.5em 0.4em;box-sizing: border-box;padding-bottom: 0.4em;background-color: white;}#sk-container-id-3 div.sk-label label {font-family: monospace;font-weight: bold;display: inline-block;line-height: 1.2em;}#sk-container-id-3 div.sk-label-container {text-align: center;}#sk-container-id-3 div.sk-container {/* jupyter's `normalize.less` sets `[hidden] { display: none; }` but bootstrap.min.css set `[hidden] { display: none !important; }` so we also need the `!important` here to be able to override the default hidden behavior on the sphinx rendered scikit-learn.org. See: https://github.com/scikit-learn/scikit-learn/issues/21755 */display: inline-block !important;position: relative;}#sk-container-id-3 div.sk-text-repr-fallback {display: none;}</style><div id=\"sk-container-id-3\" class=\"sk-top-container\"><div class=\"sk-text-repr-fallback\"><pre>LinearRegression()</pre><b>In a Jupyter environment, please rerun this cell to show the HTML representation or trust the notebook. <br />On GitHub, the HTML representation is unable to render, please try loading this page with nbviewer.org.</b></div><div class=\"sk-container\" hidden><div class=\"sk-item\"><div class=\"sk-estimator sk-toggleable\"><input class=\"sk-toggleable__control sk-hidden--visually\" id=\"sk-estimator-id-3\" type=\"checkbox\" checked><label for=\"sk-estimator-id-3\" class=\"sk-toggleable__label sk-toggleable__label-arrow\">LinearRegression</label><div class=\"sk-toggleable__content\"><pre>LinearRegression()</pre></div></div></div></div></div>"
      ],
      "text/plain": [
       "LinearRegression()"
      ]
     },
     "execution_count": 30,
     "metadata": {},
     "output_type": "execute_result"
    }
   ],
   "source": [
    "model = LinearRegression()\n",
    "model.fit(x_train, y_train)"
   ]
  },
  {
   "cell_type": "code",
   "execution_count": 31,
   "id": "921306a5-8c61-44bd-ae6d-38b5f9ffb94d",
   "metadata": {},
   "outputs": [
    {
     "name": "stdout",
     "output_type": "stream",
     "text": [
      "결정계수: 0.52\n"
     ]
    }
   ],
   "source": [
    "r_square = model.score(x_test, y_test)\n",
    "print(f'결정계수: {r_square:.2f}')"
   ]
  },
  {
   "cell_type": "markdown",
   "id": "3791269e-0dc9-44fa-b3ba-7b7b34cd216f",
   "metadata": {},
   "source": [
    "[문제] 강남역 전철 출근시간(07~08) 승하차 인원 예측\n",
    "- 패키지 로딩\n",
    "- 데이터 로딩 및 확인\n",
    "- 데이터 전처리\n",
    ">- 'Date' 컬럼 삭제\n",
    ">- 'Type' 컬럼 인코딩\n",
    ">- 'DoW' 컬럼 인코딩\n",
    "- 독립변수와 종속변수(출근시간대 승하차 인원) 분리\n",
    "- 학습 데이터와 평가 데이터 분리\n",
    "- 모델 생성 및 예측\n",
    "- 모델 평가 (R2, MSE, RMSE)"
   ]
  },
  {
   "cell_type": "markdown",
   "id": "653080fb-48b5-4590-bdfa-1fb7959ffd98",
   "metadata": {},
   "source": [
    "## 패키지 로딩"
   ]
  },
  {
   "cell_type": "code",
   "execution_count": 59,
   "id": "05eff6dc-dc09-4329-a22e-39abab88fc4c",
   "metadata": {},
   "outputs": [],
   "source": [
    "import numpy as np\n",
    "import pandas as pd\n",
    "from sklearn.linear_model import LinearRegression\n",
    "from sklearn.model_selection import train_test_split\n",
    "from sklearn.metrics import mean_squared_error\n",
    "import matplotlib.pyplot as plt\n",
    "import seaborn as sns"
   ]
  },
  {
   "cell_type": "markdown",
   "id": "9cad317a-9db4-4785-981a-0affb0e1e102",
   "metadata": {},
   "source": [
    "## 데이터 로딩 및 확인"
   ]
  },
  {
   "cell_type": "code",
   "execution_count": 91,
   "id": "418add17-70eb-48be-8645-1209ed527f12",
   "metadata": {},
   "outputs": [
    {
     "data": {
      "text/html": [
       "<div>\n",
       "<style scoped>\n",
       "    .dataframe tbody tr th:only-of-type {\n",
       "        vertical-align: middle;\n",
       "    }\n",
       "\n",
       "    .dataframe tbody tr th {\n",
       "        vertical-align: top;\n",
       "    }\n",
       "\n",
       "    .dataframe thead th {\n",
       "        text-align: right;\n",
       "    }\n",
       "</style>\n",
       "<table border=\"1\" class=\"dataframe\">\n",
       "  <thead>\n",
       "    <tr style=\"text-align: right;\">\n",
       "      <th></th>\n",
       "      <th>Date</th>\n",
       "      <th>Type</th>\n",
       "      <th>DoW</th>\n",
       "      <th>05 ~ 06</th>\n",
       "      <th>06 ~ 07</th>\n",
       "      <th>07 ~ 08</th>\n",
       "      <th>08 ~ 09</th>\n",
       "      <th>09 ~ 10</th>\n",
       "      <th>10 ~ 11</th>\n",
       "      <th>11 ~ 12</th>\n",
       "      <th>...</th>\n",
       "      <th>16 ~ 17</th>\n",
       "      <th>17 ~ 18</th>\n",
       "      <th>18 ~ 19</th>\n",
       "      <th>19 ~ 20</th>\n",
       "      <th>20 ~ 21</th>\n",
       "      <th>21 ~ 22</th>\n",
       "      <th>22 ~ 23</th>\n",
       "      <th>23 ~ 24</th>\n",
       "      <th>00 ~ 01</th>\n",
       "      <th>01 ~ 02</th>\n",
       "    </tr>\n",
       "  </thead>\n",
       "  <tbody>\n",
       "    <tr>\n",
       "      <th>0</th>\n",
       "      <td>2016.1.1</td>\n",
       "      <td>on</td>\n",
       "      <td>Fri</td>\n",
       "      <td>1187</td>\n",
       "      <td>909</td>\n",
       "      <td>562</td>\n",
       "      <td>568</td>\n",
       "      <td>604</td>\n",
       "      <td>777</td>\n",
       "      <td>858</td>\n",
       "      <td>...</td>\n",
       "      <td>2268</td>\n",
       "      <td>2549</td>\n",
       "      <td>2524</td>\n",
       "      <td>2386</td>\n",
       "      <td>2486</td>\n",
       "      <td>3333</td>\n",
       "      <td>3481</td>\n",
       "      <td>2054</td>\n",
       "      <td>0</td>\n",
       "      <td>0</td>\n",
       "    </tr>\n",
       "    <tr>\n",
       "      <th>1</th>\n",
       "      <td>2016.1.1</td>\n",
       "      <td>off</td>\n",
       "      <td>Fri</td>\n",
       "      <td>110</td>\n",
       "      <td>551</td>\n",
       "      <td>635</td>\n",
       "      <td>1066</td>\n",
       "      <td>1809</td>\n",
       "      <td>1506</td>\n",
       "      <td>1553</td>\n",
       "      <td>...</td>\n",
       "      <td>2861</td>\n",
       "      <td>3259</td>\n",
       "      <td>3202</td>\n",
       "      <td>2529</td>\n",
       "      <td>1925</td>\n",
       "      <td>1610</td>\n",
       "      <td>1351</td>\n",
       "      <td>913</td>\n",
       "      <td>2</td>\n",
       "      <td>0</td>\n",
       "    </tr>\n",
       "    <tr>\n",
       "      <th>2</th>\n",
       "      <td>2016.1.2</td>\n",
       "      <td>on</td>\n",
       "      <td>Sat</td>\n",
       "      <td>402</td>\n",
       "      <td>509</td>\n",
       "      <td>515</td>\n",
       "      <td>747</td>\n",
       "      <td>1056</td>\n",
       "      <td>1368</td>\n",
       "      <td>1808</td>\n",
       "      <td>...</td>\n",
       "      <td>4928</td>\n",
       "      <td>5544</td>\n",
       "      <td>4643</td>\n",
       "      <td>3537</td>\n",
       "      <td>3754</td>\n",
       "      <td>4982</td>\n",
       "      <td>5591</td>\n",
       "      <td>3423</td>\n",
       "      <td>0</td>\n",
       "      <td>0</td>\n",
       "    </tr>\n",
       "    <tr>\n",
       "      <th>3</th>\n",
       "      <td>2016.1.2</td>\n",
       "      <td>off</td>\n",
       "      <td>Sat</td>\n",
       "      <td>118</td>\n",
       "      <td>548</td>\n",
       "      <td>889</td>\n",
       "      <td>2372</td>\n",
       "      <td>4396</td>\n",
       "      <td>3613</td>\n",
       "      <td>3314</td>\n",
       "      <td>...</td>\n",
       "      <td>4544</td>\n",
       "      <td>5552</td>\n",
       "      <td>5689</td>\n",
       "      <td>3703</td>\n",
       "      <td>2622</td>\n",
       "      <td>2354</td>\n",
       "      <td>1764</td>\n",
       "      <td>1534</td>\n",
       "      <td>5</td>\n",
       "      <td>0</td>\n",
       "    </tr>\n",
       "    <tr>\n",
       "      <th>4</th>\n",
       "      <td>2016.1.3</td>\n",
       "      <td>on</td>\n",
       "      <td>Sun</td>\n",
       "      <td>646</td>\n",
       "      <td>547</td>\n",
       "      <td>473</td>\n",
       "      <td>600</td>\n",
       "      <td>895</td>\n",
       "      <td>917</td>\n",
       "      <td>1245</td>\n",
       "      <td>...</td>\n",
       "      <td>3370</td>\n",
       "      <td>3642</td>\n",
       "      <td>3526</td>\n",
       "      <td>3084</td>\n",
       "      <td>3493</td>\n",
       "      <td>4327</td>\n",
       "      <td>3835</td>\n",
       "      <td>1812</td>\n",
       "      <td>0</td>\n",
       "      <td>0</td>\n",
       "    </tr>\n",
       "  </tbody>\n",
       "</table>\n",
       "<p>5 rows × 24 columns</p>\n",
       "</div>"
      ],
      "text/plain": [
       "       Date Type  DoW  05 ~ 06  06 ~ 07  07 ~ 08  08 ~ 09  09 ~ 10  10 ~ 11  \\\n",
       "0  2016.1.1   on  Fri     1187      909      562      568      604      777   \n",
       "1  2016.1.1  off  Fri      110      551      635     1066     1809     1506   \n",
       "2  2016.1.2   on  Sat      402      509      515      747     1056     1368   \n",
       "3  2016.1.2  off  Sat      118      548      889     2372     4396     3613   \n",
       "4  2016.1.3   on  Sun      646      547      473      600      895      917   \n",
       "\n",
       "   11 ~ 12  ...  16 ~ 17  17 ~ 18  18 ~ 19  19 ~ 20  20 ~ 21  21 ~ 22  \\\n",
       "0      858  ...     2268     2549     2524     2386     2486     3333   \n",
       "1     1553  ...     2861     3259     3202     2529     1925     1610   \n",
       "2     1808  ...     4928     5544     4643     3537     3754     4982   \n",
       "3     3314  ...     4544     5552     5689     3703     2622     2354   \n",
       "4     1245  ...     3370     3642     3526     3084     3493     4327   \n",
       "\n",
       "   22 ~ 23  23 ~ 24  00 ~ 01  01 ~ 02  \n",
       "0     3481     2054        0        0  \n",
       "1     1351      913        2        0  \n",
       "2     5591     3423        0        0  \n",
       "3     1764     1534        5        0  \n",
       "4     3835     1812        0        0  \n",
       "\n",
       "[5 rows x 24 columns]"
      ]
     },
     "metadata": {},
     "output_type": "display_data"
    },
    {
     "name": "stdout",
     "output_type": "stream",
     "text": [
      "(610, 24)\n"
     ]
    }
   ],
   "source": [
    "df = pd.read_csv('./datasets/GangnamTrainData.csv')\n",
    "display(df.head())\n",
    "print(df.shape)"
   ]
  },
  {
   "cell_type": "code",
   "execution_count": 61,
   "id": "2aaaccec-6ffb-4f42-b86e-1fd55a79c8f6",
   "metadata": {},
   "outputs": [
    {
     "name": "stdout",
     "output_type": "stream",
     "text": [
      "<class 'pandas.core.frame.DataFrame'>\n",
      "RangeIndex: 610 entries, 0 to 609\n",
      "Data columns (total 24 columns):\n",
      " #   Column   Non-Null Count  Dtype \n",
      "---  ------   --------------  ----- \n",
      " 0   Date     610 non-null    object\n",
      " 1   Type     610 non-null    object\n",
      " 2   DoW      610 non-null    object\n",
      " 3   05 ~ 06  610 non-null    int64 \n",
      " 4   06 ~ 07  610 non-null    int64 \n",
      " 5   07 ~ 08  610 non-null    int64 \n",
      " 6   08 ~ 09  610 non-null    int64 \n",
      " 7   09 ~ 10  610 non-null    int64 \n",
      " 8   10 ~ 11  610 non-null    int64 \n",
      " 9   11 ~ 12  610 non-null    int64 \n",
      " 10  12 ~ 13  610 non-null    int64 \n",
      " 11  13 ~ 14  610 non-null    int64 \n",
      " 12  14 ~ 15  610 non-null    int64 \n",
      " 13  15 ~ 16  610 non-null    int64 \n",
      " 14  16 ~ 17  610 non-null    int64 \n",
      " 15  17 ~ 18  610 non-null    int64 \n",
      " 16  18 ~ 19  610 non-null    int64 \n",
      " 17  19 ~ 20  610 non-null    int64 \n",
      " 18  20 ~ 21  610 non-null    int64 \n",
      " 19  21 ~ 22  610 non-null    int64 \n",
      " 20  22 ~ 23  610 non-null    int64 \n",
      " 21  23 ~ 24  610 non-null    int64 \n",
      " 22  00 ~ 01  610 non-null    int64 \n",
      " 23  01 ~ 02  610 non-null    int64 \n",
      "dtypes: int64(21), object(3)\n",
      "memory usage: 114.5+ KB\n",
      "None\n"
     ]
    }
   ],
   "source": [
    "print(df.info())"
   ]
  },
  {
   "cell_type": "markdown",
   "id": "9991e885-4653-45ea-92af-54ede4f4f65d",
   "metadata": {},
   "source": [
    "## 데이터 전처리"
   ]
  },
  {
   "cell_type": "code",
   "execution_count": 92,
   "id": "361bc79f-83eb-435d-a71e-903645939697",
   "metadata": {},
   "outputs": [],
   "source": [
    "# Date 컬럼 삭제\n",
    "df = df.drop('Date', axis = 1)"
   ]
  },
  {
   "cell_type": "code",
   "execution_count": 93,
   "id": "e0714529-7252-4378-a858-2c441d595ca5",
   "metadata": {},
   "outputs": [
    {
     "data": {
      "text/html": [
       "<div>\n",
       "<style scoped>\n",
       "    .dataframe tbody tr th:only-of-type {\n",
       "        vertical-align: middle;\n",
       "    }\n",
       "\n",
       "    .dataframe tbody tr th {\n",
       "        vertical-align: top;\n",
       "    }\n",
       "\n",
       "    .dataframe thead th {\n",
       "        text-align: right;\n",
       "    }\n",
       "</style>\n",
       "<table border=\"1\" class=\"dataframe\">\n",
       "  <thead>\n",
       "    <tr style=\"text-align: right;\">\n",
       "      <th></th>\n",
       "      <th>DoW</th>\n",
       "      <th>05 ~ 06</th>\n",
       "      <th>06 ~ 07</th>\n",
       "      <th>07 ~ 08</th>\n",
       "      <th>08 ~ 09</th>\n",
       "      <th>09 ~ 10</th>\n",
       "      <th>10 ~ 11</th>\n",
       "      <th>11 ~ 12</th>\n",
       "      <th>12 ~ 13</th>\n",
       "      <th>13 ~ 14</th>\n",
       "      <th>...</th>\n",
       "      <th>18 ~ 19</th>\n",
       "      <th>19 ~ 20</th>\n",
       "      <th>20 ~ 21</th>\n",
       "      <th>21 ~ 22</th>\n",
       "      <th>22 ~ 23</th>\n",
       "      <th>23 ~ 24</th>\n",
       "      <th>00 ~ 01</th>\n",
       "      <th>01 ~ 02</th>\n",
       "      <th>Type_off</th>\n",
       "      <th>Type_on</th>\n",
       "    </tr>\n",
       "  </thead>\n",
       "  <tbody>\n",
       "    <tr>\n",
       "      <th>0</th>\n",
       "      <td>Fri</td>\n",
       "      <td>1187</td>\n",
       "      <td>909</td>\n",
       "      <td>562</td>\n",
       "      <td>568</td>\n",
       "      <td>604</td>\n",
       "      <td>777</td>\n",
       "      <td>858</td>\n",
       "      <td>1183</td>\n",
       "      <td>1425</td>\n",
       "      <td>...</td>\n",
       "      <td>2524</td>\n",
       "      <td>2386</td>\n",
       "      <td>2486</td>\n",
       "      <td>3333</td>\n",
       "      <td>3481</td>\n",
       "      <td>2054</td>\n",
       "      <td>0</td>\n",
       "      <td>0</td>\n",
       "      <td>False</td>\n",
       "      <td>True</td>\n",
       "    </tr>\n",
       "    <tr>\n",
       "      <th>1</th>\n",
       "      <td>Fri</td>\n",
       "      <td>110</td>\n",
       "      <td>551</td>\n",
       "      <td>635</td>\n",
       "      <td>1066</td>\n",
       "      <td>1809</td>\n",
       "      <td>1506</td>\n",
       "      <td>1553</td>\n",
       "      <td>2123</td>\n",
       "      <td>2366</td>\n",
       "      <td>...</td>\n",
       "      <td>3202</td>\n",
       "      <td>2529</td>\n",
       "      <td>1925</td>\n",
       "      <td>1610</td>\n",
       "      <td>1351</td>\n",
       "      <td>913</td>\n",
       "      <td>2</td>\n",
       "      <td>0</td>\n",
       "      <td>True</td>\n",
       "      <td>False</td>\n",
       "    </tr>\n",
       "    <tr>\n",
       "      <th>2</th>\n",
       "      <td>Sat</td>\n",
       "      <td>402</td>\n",
       "      <td>509</td>\n",
       "      <td>515</td>\n",
       "      <td>747</td>\n",
       "      <td>1056</td>\n",
       "      <td>1368</td>\n",
       "      <td>1808</td>\n",
       "      <td>2492</td>\n",
       "      <td>3075</td>\n",
       "      <td>...</td>\n",
       "      <td>4643</td>\n",
       "      <td>3537</td>\n",
       "      <td>3754</td>\n",
       "      <td>4982</td>\n",
       "      <td>5591</td>\n",
       "      <td>3423</td>\n",
       "      <td>0</td>\n",
       "      <td>0</td>\n",
       "      <td>False</td>\n",
       "      <td>True</td>\n",
       "    </tr>\n",
       "    <tr>\n",
       "      <th>3</th>\n",
       "      <td>Sat</td>\n",
       "      <td>118</td>\n",
       "      <td>548</td>\n",
       "      <td>889</td>\n",
       "      <td>2372</td>\n",
       "      <td>4396</td>\n",
       "      <td>3613</td>\n",
       "      <td>3314</td>\n",
       "      <td>4357</td>\n",
       "      <td>5205</td>\n",
       "      <td>...</td>\n",
       "      <td>5689</td>\n",
       "      <td>3703</td>\n",
       "      <td>2622</td>\n",
       "      <td>2354</td>\n",
       "      <td>1764</td>\n",
       "      <td>1534</td>\n",
       "      <td>5</td>\n",
       "      <td>0</td>\n",
       "      <td>True</td>\n",
       "      <td>False</td>\n",
       "    </tr>\n",
       "    <tr>\n",
       "      <th>4</th>\n",
       "      <td>Sun</td>\n",
       "      <td>646</td>\n",
       "      <td>547</td>\n",
       "      <td>473</td>\n",
       "      <td>600</td>\n",
       "      <td>895</td>\n",
       "      <td>917</td>\n",
       "      <td>1245</td>\n",
       "      <td>1707</td>\n",
       "      <td>1983</td>\n",
       "      <td>...</td>\n",
       "      <td>3526</td>\n",
       "      <td>3084</td>\n",
       "      <td>3493</td>\n",
       "      <td>4327</td>\n",
       "      <td>3835</td>\n",
       "      <td>1812</td>\n",
       "      <td>0</td>\n",
       "      <td>0</td>\n",
       "      <td>False</td>\n",
       "      <td>True</td>\n",
       "    </tr>\n",
       "    <tr>\n",
       "      <th>...</th>\n",
       "      <td>...</td>\n",
       "      <td>...</td>\n",
       "      <td>...</td>\n",
       "      <td>...</td>\n",
       "      <td>...</td>\n",
       "      <td>...</td>\n",
       "      <td>...</td>\n",
       "      <td>...</td>\n",
       "      <td>...</td>\n",
       "      <td>...</td>\n",
       "      <td>...</td>\n",
       "      <td>...</td>\n",
       "      <td>...</td>\n",
       "      <td>...</td>\n",
       "      <td>...</td>\n",
       "      <td>...</td>\n",
       "      <td>...</td>\n",
       "      <td>...</td>\n",
       "      <td>...</td>\n",
       "      <td>...</td>\n",
       "      <td>...</td>\n",
       "    </tr>\n",
       "    <tr>\n",
       "      <th>605</th>\n",
       "      <td>Sat</td>\n",
       "      <td>412</td>\n",
       "      <td>1352</td>\n",
       "      <td>1749</td>\n",
       "      <td>3857</td>\n",
       "      <td>7142</td>\n",
       "      <td>5895</td>\n",
       "      <td>5885</td>\n",
       "      <td>6557</td>\n",
       "      <td>7882</td>\n",
       "      <td>...</td>\n",
       "      <td>8226</td>\n",
       "      <td>5988</td>\n",
       "      <td>4070</td>\n",
       "      <td>3666</td>\n",
       "      <td>2763</td>\n",
       "      <td>2190</td>\n",
       "      <td>337</td>\n",
       "      <td>0</td>\n",
       "      <td>True</td>\n",
       "      <td>False</td>\n",
       "    </tr>\n",
       "    <tr>\n",
       "      <th>606</th>\n",
       "      <td>Sun</td>\n",
       "      <td>852</td>\n",
       "      <td>955</td>\n",
       "      <td>803</td>\n",
       "      <td>969</td>\n",
       "      <td>1327</td>\n",
       "      <td>1356</td>\n",
       "      <td>1734</td>\n",
       "      <td>2689</td>\n",
       "      <td>3604</td>\n",
       "      <td>...</td>\n",
       "      <td>4988</td>\n",
       "      <td>4162</td>\n",
       "      <td>4243</td>\n",
       "      <td>4961</td>\n",
       "      <td>4740</td>\n",
       "      <td>1694</td>\n",
       "      <td>0</td>\n",
       "      <td>0</td>\n",
       "      <td>False</td>\n",
       "      <td>True</td>\n",
       "    </tr>\n",
       "    <tr>\n",
       "      <th>607</th>\n",
       "      <td>Sun</td>\n",
       "      <td>158</td>\n",
       "      <td>723</td>\n",
       "      <td>979</td>\n",
       "      <td>1780</td>\n",
       "      <td>3154</td>\n",
       "      <td>2966</td>\n",
       "      <td>3384</td>\n",
       "      <td>4555</td>\n",
       "      <td>5208</td>\n",
       "      <td>...</td>\n",
       "      <td>4638</td>\n",
       "      <td>2972</td>\n",
       "      <td>2258</td>\n",
       "      <td>1841</td>\n",
       "      <td>1411</td>\n",
       "      <td>869</td>\n",
       "      <td>1</td>\n",
       "      <td>0</td>\n",
       "      <td>True</td>\n",
       "      <td>False</td>\n",
       "    </tr>\n",
       "    <tr>\n",
       "      <th>608</th>\n",
       "      <td>Mon</td>\n",
       "      <td>345</td>\n",
       "      <td>824</td>\n",
       "      <td>1919</td>\n",
       "      <td>3252</td>\n",
       "      <td>2561</td>\n",
       "      <td>2182</td>\n",
       "      <td>2708</td>\n",
       "      <td>3088</td>\n",
       "      <td>4145</td>\n",
       "      <td>...</td>\n",
       "      <td>13663</td>\n",
       "      <td>10517</td>\n",
       "      <td>7874</td>\n",
       "      <td>9496</td>\n",
       "      <td>9026</td>\n",
       "      <td>3403</td>\n",
       "      <td>686</td>\n",
       "      <td>3</td>\n",
       "      <td>False</td>\n",
       "      <td>True</td>\n",
       "    </tr>\n",
       "    <tr>\n",
       "      <th>609</th>\n",
       "      <td>Mon</td>\n",
       "      <td>538</td>\n",
       "      <td>2374</td>\n",
       "      <td>7484</td>\n",
       "      <td>14992</td>\n",
       "      <td>12921</td>\n",
       "      <td>5799</td>\n",
       "      <td>4334</td>\n",
       "      <td>4051</td>\n",
       "      <td>4971</td>\n",
       "      <td>...</td>\n",
       "      <td>8124</td>\n",
       "      <td>6655</td>\n",
       "      <td>3084</td>\n",
       "      <td>2011</td>\n",
       "      <td>1988</td>\n",
       "      <td>932</td>\n",
       "      <td>342</td>\n",
       "      <td>29</td>\n",
       "      <td>True</td>\n",
       "      <td>False</td>\n",
       "    </tr>\n",
       "  </tbody>\n",
       "</table>\n",
       "<p>610 rows × 24 columns</p>\n",
       "</div>"
      ],
      "text/plain": [
       "     DoW  05 ~ 06  06 ~ 07  07 ~ 08  08 ~ 09  09 ~ 10  10 ~ 11  11 ~ 12  \\\n",
       "0    Fri     1187      909      562      568      604      777      858   \n",
       "1    Fri      110      551      635     1066     1809     1506     1553   \n",
       "2    Sat      402      509      515      747     1056     1368     1808   \n",
       "3    Sat      118      548      889     2372     4396     3613     3314   \n",
       "4    Sun      646      547      473      600      895      917     1245   \n",
       "..   ...      ...      ...      ...      ...      ...      ...      ...   \n",
       "605  Sat      412     1352     1749     3857     7142     5895     5885   \n",
       "606  Sun      852      955      803      969     1327     1356     1734   \n",
       "607  Sun      158      723      979     1780     3154     2966     3384   \n",
       "608  Mon      345      824     1919     3252     2561     2182     2708   \n",
       "609  Mon      538     2374     7484    14992    12921     5799     4334   \n",
       "\n",
       "     12 ~ 13  13 ~ 14  ...  18 ~ 19  19 ~ 20  20 ~ 21  21 ~ 22  22 ~ 23  \\\n",
       "0       1183     1425  ...     2524     2386     2486     3333     3481   \n",
       "1       2123     2366  ...     3202     2529     1925     1610     1351   \n",
       "2       2492     3075  ...     4643     3537     3754     4982     5591   \n",
       "3       4357     5205  ...     5689     3703     2622     2354     1764   \n",
       "4       1707     1983  ...     3526     3084     3493     4327     3835   \n",
       "..       ...      ...  ...      ...      ...      ...      ...      ...   \n",
       "605     6557     7882  ...     8226     5988     4070     3666     2763   \n",
       "606     2689     3604  ...     4988     4162     4243     4961     4740   \n",
       "607     4555     5208  ...     4638     2972     2258     1841     1411   \n",
       "608     3088     4145  ...    13663    10517     7874     9496     9026   \n",
       "609     4051     4971  ...     8124     6655     3084     2011     1988   \n",
       "\n",
       "     23 ~ 24  00 ~ 01  01 ~ 02  Type_off  Type_on  \n",
       "0       2054        0        0     False     True  \n",
       "1        913        2        0      True    False  \n",
       "2       3423        0        0     False     True  \n",
       "3       1534        5        0      True    False  \n",
       "4       1812        0        0     False     True  \n",
       "..       ...      ...      ...       ...      ...  \n",
       "605     2190      337        0      True    False  \n",
       "606     1694        0        0     False     True  \n",
       "607      869        1        0      True    False  \n",
       "608     3403      686        3     False     True  \n",
       "609      932      342       29      True    False  \n",
       "\n",
       "[610 rows x 24 columns]"
      ]
     },
     "metadata": {},
     "output_type": "display_data"
    }
   ],
   "source": [
    "# Type 컬럼 : 원-핫 인코딩\n",
    "df_train = pd.get_dummies(df, columns=['Type'])\n",
    "display(df_train)"
   ]
  },
  {
   "cell_type": "code",
   "execution_count": 94,
   "id": "a3a310ca-967c-495d-9c83-08ba480a1ab7",
   "metadata": {},
   "outputs": [
    {
     "name": "stdout",
     "output_type": "stream",
     "text": [
      "['Fri' 'Mon' 'Sat' 'Sun' 'Thu' 'Tue' 'Wed']\n"
     ]
    },
    {
     "data": {
      "text/html": [
       "<div>\n",
       "<style scoped>\n",
       "    .dataframe tbody tr th:only-of-type {\n",
       "        vertical-align: middle;\n",
       "    }\n",
       "\n",
       "    .dataframe tbody tr th {\n",
       "        vertical-align: top;\n",
       "    }\n",
       "\n",
       "    .dataframe thead th {\n",
       "        text-align: right;\n",
       "    }\n",
       "</style>\n",
       "<table border=\"1\" class=\"dataframe\">\n",
       "  <thead>\n",
       "    <tr style=\"text-align: right;\">\n",
       "      <th></th>\n",
       "      <th>DoW</th>\n",
       "      <th>05 ~ 06</th>\n",
       "      <th>06 ~ 07</th>\n",
       "      <th>07 ~ 08</th>\n",
       "      <th>08 ~ 09</th>\n",
       "      <th>09 ~ 10</th>\n",
       "      <th>10 ~ 11</th>\n",
       "      <th>11 ~ 12</th>\n",
       "      <th>12 ~ 13</th>\n",
       "      <th>13 ~ 14</th>\n",
       "      <th>...</th>\n",
       "      <th>18 ~ 19</th>\n",
       "      <th>19 ~ 20</th>\n",
       "      <th>20 ~ 21</th>\n",
       "      <th>21 ~ 22</th>\n",
       "      <th>22 ~ 23</th>\n",
       "      <th>23 ~ 24</th>\n",
       "      <th>00 ~ 01</th>\n",
       "      <th>01 ~ 02</th>\n",
       "      <th>Type_off</th>\n",
       "      <th>Type_on</th>\n",
       "    </tr>\n",
       "  </thead>\n",
       "  <tbody>\n",
       "    <tr>\n",
       "      <th>0</th>\n",
       "      <td>0</td>\n",
       "      <td>1187</td>\n",
       "      <td>909</td>\n",
       "      <td>562</td>\n",
       "      <td>568</td>\n",
       "      <td>604</td>\n",
       "      <td>777</td>\n",
       "      <td>858</td>\n",
       "      <td>1183</td>\n",
       "      <td>1425</td>\n",
       "      <td>...</td>\n",
       "      <td>2524</td>\n",
       "      <td>2386</td>\n",
       "      <td>2486</td>\n",
       "      <td>3333</td>\n",
       "      <td>3481</td>\n",
       "      <td>2054</td>\n",
       "      <td>0</td>\n",
       "      <td>0</td>\n",
       "      <td>False</td>\n",
       "      <td>True</td>\n",
       "    </tr>\n",
       "    <tr>\n",
       "      <th>1</th>\n",
       "      <td>0</td>\n",
       "      <td>110</td>\n",
       "      <td>551</td>\n",
       "      <td>635</td>\n",
       "      <td>1066</td>\n",
       "      <td>1809</td>\n",
       "      <td>1506</td>\n",
       "      <td>1553</td>\n",
       "      <td>2123</td>\n",
       "      <td>2366</td>\n",
       "      <td>...</td>\n",
       "      <td>3202</td>\n",
       "      <td>2529</td>\n",
       "      <td>1925</td>\n",
       "      <td>1610</td>\n",
       "      <td>1351</td>\n",
       "      <td>913</td>\n",
       "      <td>2</td>\n",
       "      <td>0</td>\n",
       "      <td>True</td>\n",
       "      <td>False</td>\n",
       "    </tr>\n",
       "    <tr>\n",
       "      <th>2</th>\n",
       "      <td>2</td>\n",
       "      <td>402</td>\n",
       "      <td>509</td>\n",
       "      <td>515</td>\n",
       "      <td>747</td>\n",
       "      <td>1056</td>\n",
       "      <td>1368</td>\n",
       "      <td>1808</td>\n",
       "      <td>2492</td>\n",
       "      <td>3075</td>\n",
       "      <td>...</td>\n",
       "      <td>4643</td>\n",
       "      <td>3537</td>\n",
       "      <td>3754</td>\n",
       "      <td>4982</td>\n",
       "      <td>5591</td>\n",
       "      <td>3423</td>\n",
       "      <td>0</td>\n",
       "      <td>0</td>\n",
       "      <td>False</td>\n",
       "      <td>True</td>\n",
       "    </tr>\n",
       "    <tr>\n",
       "      <th>3</th>\n",
       "      <td>2</td>\n",
       "      <td>118</td>\n",
       "      <td>548</td>\n",
       "      <td>889</td>\n",
       "      <td>2372</td>\n",
       "      <td>4396</td>\n",
       "      <td>3613</td>\n",
       "      <td>3314</td>\n",
       "      <td>4357</td>\n",
       "      <td>5205</td>\n",
       "      <td>...</td>\n",
       "      <td>5689</td>\n",
       "      <td>3703</td>\n",
       "      <td>2622</td>\n",
       "      <td>2354</td>\n",
       "      <td>1764</td>\n",
       "      <td>1534</td>\n",
       "      <td>5</td>\n",
       "      <td>0</td>\n",
       "      <td>True</td>\n",
       "      <td>False</td>\n",
       "    </tr>\n",
       "    <tr>\n",
       "      <th>4</th>\n",
       "      <td>3</td>\n",
       "      <td>646</td>\n",
       "      <td>547</td>\n",
       "      <td>473</td>\n",
       "      <td>600</td>\n",
       "      <td>895</td>\n",
       "      <td>917</td>\n",
       "      <td>1245</td>\n",
       "      <td>1707</td>\n",
       "      <td>1983</td>\n",
       "      <td>...</td>\n",
       "      <td>3526</td>\n",
       "      <td>3084</td>\n",
       "      <td>3493</td>\n",
       "      <td>4327</td>\n",
       "      <td>3835</td>\n",
       "      <td>1812</td>\n",
       "      <td>0</td>\n",
       "      <td>0</td>\n",
       "      <td>False</td>\n",
       "      <td>True</td>\n",
       "    </tr>\n",
       "  </tbody>\n",
       "</table>\n",
       "<p>5 rows × 24 columns</p>\n",
       "</div>"
      ],
      "text/plain": [
       "   DoW  05 ~ 06  06 ~ 07  07 ~ 08  08 ~ 09  09 ~ 10  10 ~ 11  11 ~ 12  \\\n",
       "0    0     1187      909      562      568      604      777      858   \n",
       "1    0      110      551      635     1066     1809     1506     1553   \n",
       "2    2      402      509      515      747     1056     1368     1808   \n",
       "3    2      118      548      889     2372     4396     3613     3314   \n",
       "4    3      646      547      473      600      895      917     1245   \n",
       "\n",
       "   12 ~ 13  13 ~ 14  ...  18 ~ 19  19 ~ 20  20 ~ 21  21 ~ 22  22 ~ 23  \\\n",
       "0     1183     1425  ...     2524     2386     2486     3333     3481   \n",
       "1     2123     2366  ...     3202     2529     1925     1610     1351   \n",
       "2     2492     3075  ...     4643     3537     3754     4982     5591   \n",
       "3     4357     5205  ...     5689     3703     2622     2354     1764   \n",
       "4     1707     1983  ...     3526     3084     3493     4327     3835   \n",
       "\n",
       "   23 ~ 24  00 ~ 01  01 ~ 02  Type_off  Type_on  \n",
       "0     2054        0        0     False     True  \n",
       "1      913        2        0      True    False  \n",
       "2     3423        0        0     False     True  \n",
       "3     1534        5        0      True    False  \n",
       "4     1812        0        0     False     True  \n",
       "\n",
       "[5 rows x 24 columns]"
      ]
     },
     "metadata": {},
     "output_type": "display_data"
    }
   ],
   "source": [
    "# DoW 컬럼 : 라벨링\n",
    "week = np.sort(df_train['DoW'].unique())\n",
    "print(week)\n",
    "df_train['DoW'] = df_train['DoW'].map({ w:i for i, w in enumerate(week)})\n",
    "display(df_train.head())"
   ]
  },
  {
   "cell_type": "markdown",
   "id": "c81709cc-8896-4067-b1f4-f370dc05d316",
   "metadata": {},
   "source": [
    "## 독립변수와 종속변수(출근시간대 승하차 인원) 분리"
   ]
  },
  {
   "cell_type": "code",
   "execution_count": 67,
   "id": "d227d55e-3c91-4359-b6e9-4303e4557d78",
   "metadata": {},
   "outputs": [
    {
     "data": {
      "text/plain": [
       "Index(['Date', 'Type', 'DoW', '05 ~ 06', '06 ~ 07', '07 ~ 08', '08 ~ 09',\n",
       "       '09 ~ 10', '10 ~ 11', '11 ~ 12', '12 ~ 13', '13 ~ 14', '14 ~ 15',\n",
       "       '15 ~ 16', '16 ~ 17', '17 ~ 18', '18 ~ 19', '19 ~ 20', '20 ~ 21',\n",
       "       '21 ~ 22', '22 ~ 23', '23 ~ 24', '00 ~ 01', '01 ~ 02'],\n",
       "      dtype='object')"
      ]
     },
     "execution_count": 67,
     "metadata": {},
     "output_type": "execute_result"
    }
   ],
   "source": [
    "df.columns"
   ]
  },
  {
   "cell_type": "code",
   "execution_count": 95,
   "id": "eab867ae-b728-49d6-add0-2ce2f7b74436",
   "metadata": {},
   "outputs": [],
   "source": [
    "x = df_train.drop('07 ~ 08', axis =1)\n",
    "y = df_train['07 ~ 08']"
   ]
  },
  {
   "cell_type": "markdown",
   "id": "2ad370c5-2082-479c-931a-e30e4a02b82d",
   "metadata": {},
   "source": [
    "## 학습 데이터와 평가 데이터 분리"
   ]
  },
  {
   "cell_type": "code",
   "execution_count": 96,
   "id": "1f6fd640-e766-448c-9315-f533d4f0babc",
   "metadata": {},
   "outputs": [],
   "source": [
    "x_train, x_test, y_train, y_test = train_test_split(x, y, test_size= 0.7)"
   ]
  },
  {
   "cell_type": "markdown",
   "id": "b5c2db61-7d12-4630-8d36-318eb47ce758",
   "metadata": {},
   "source": [
    "## 학습 및 평가"
   ]
  },
  {
   "cell_type": "code",
   "execution_count": 97,
   "id": "a6297cf7-b18f-4e2a-9cc3-29038dca1681",
   "metadata": {},
   "outputs": [],
   "source": [
    "model = LinearRegression()"
   ]
  },
  {
   "cell_type": "code",
   "execution_count": 98,
   "id": "7374788d-81b0-4c47-aca5-7cbac7b41e39",
   "metadata": {},
   "outputs": [
    {
     "data": {
      "text/html": [
       "<style>#sk-container-id-5 {color: black;background-color: white;}#sk-container-id-5 pre{padding: 0;}#sk-container-id-5 div.sk-toggleable {background-color: white;}#sk-container-id-5 label.sk-toggleable__label {cursor: pointer;display: block;width: 100%;margin-bottom: 0;padding: 0.3em;box-sizing: border-box;text-align: center;}#sk-container-id-5 label.sk-toggleable__label-arrow:before {content: \"▸\";float: left;margin-right: 0.25em;color: #696969;}#sk-container-id-5 label.sk-toggleable__label-arrow:hover:before {color: black;}#sk-container-id-5 div.sk-estimator:hover label.sk-toggleable__label-arrow:before {color: black;}#sk-container-id-5 div.sk-toggleable__content {max-height: 0;max-width: 0;overflow: hidden;text-align: left;background-color: #f0f8ff;}#sk-container-id-5 div.sk-toggleable__content pre {margin: 0.2em;color: black;border-radius: 0.25em;background-color: #f0f8ff;}#sk-container-id-5 input.sk-toggleable__control:checked~div.sk-toggleable__content {max-height: 200px;max-width: 100%;overflow: auto;}#sk-container-id-5 input.sk-toggleable__control:checked~label.sk-toggleable__label-arrow:before {content: \"▾\";}#sk-container-id-5 div.sk-estimator input.sk-toggleable__control:checked~label.sk-toggleable__label {background-color: #d4ebff;}#sk-container-id-5 div.sk-label input.sk-toggleable__control:checked~label.sk-toggleable__label {background-color: #d4ebff;}#sk-container-id-5 input.sk-hidden--visually {border: 0;clip: rect(1px 1px 1px 1px);clip: rect(1px, 1px, 1px, 1px);height: 1px;margin: -1px;overflow: hidden;padding: 0;position: absolute;width: 1px;}#sk-container-id-5 div.sk-estimator {font-family: monospace;background-color: #f0f8ff;border: 1px dotted black;border-radius: 0.25em;box-sizing: border-box;margin-bottom: 0.5em;}#sk-container-id-5 div.sk-estimator:hover {background-color: #d4ebff;}#sk-container-id-5 div.sk-parallel-item::after {content: \"\";width: 100%;border-bottom: 1px solid gray;flex-grow: 1;}#sk-container-id-5 div.sk-label:hover label.sk-toggleable__label {background-color: #d4ebff;}#sk-container-id-5 div.sk-serial::before {content: \"\";position: absolute;border-left: 1px solid gray;box-sizing: border-box;top: 0;bottom: 0;left: 50%;z-index: 0;}#sk-container-id-5 div.sk-serial {display: flex;flex-direction: column;align-items: center;background-color: white;padding-right: 0.2em;padding-left: 0.2em;position: relative;}#sk-container-id-5 div.sk-item {position: relative;z-index: 1;}#sk-container-id-5 div.sk-parallel {display: flex;align-items: stretch;justify-content: center;background-color: white;position: relative;}#sk-container-id-5 div.sk-item::before, #sk-container-id-5 div.sk-parallel-item::before {content: \"\";position: absolute;border-left: 1px solid gray;box-sizing: border-box;top: 0;bottom: 0;left: 50%;z-index: -1;}#sk-container-id-5 div.sk-parallel-item {display: flex;flex-direction: column;z-index: 1;position: relative;background-color: white;}#sk-container-id-5 div.sk-parallel-item:first-child::after {align-self: flex-end;width: 50%;}#sk-container-id-5 div.sk-parallel-item:last-child::after {align-self: flex-start;width: 50%;}#sk-container-id-5 div.sk-parallel-item:only-child::after {width: 0;}#sk-container-id-5 div.sk-dashed-wrapped {border: 1px dashed gray;margin: 0 0.4em 0.5em 0.4em;box-sizing: border-box;padding-bottom: 0.4em;background-color: white;}#sk-container-id-5 div.sk-label label {font-family: monospace;font-weight: bold;display: inline-block;line-height: 1.2em;}#sk-container-id-5 div.sk-label-container {text-align: center;}#sk-container-id-5 div.sk-container {/* jupyter's `normalize.less` sets `[hidden] { display: none; }` but bootstrap.min.css set `[hidden] { display: none !important; }` so we also need the `!important` here to be able to override the default hidden behavior on the sphinx rendered scikit-learn.org. See: https://github.com/scikit-learn/scikit-learn/issues/21755 */display: inline-block !important;position: relative;}#sk-container-id-5 div.sk-text-repr-fallback {display: none;}</style><div id=\"sk-container-id-5\" class=\"sk-top-container\"><div class=\"sk-text-repr-fallback\"><pre>LinearRegression()</pre><b>In a Jupyter environment, please rerun this cell to show the HTML representation or trust the notebook. <br />On GitHub, the HTML representation is unable to render, please try loading this page with nbviewer.org.</b></div><div class=\"sk-container\" hidden><div class=\"sk-item\"><div class=\"sk-estimator sk-toggleable\"><input class=\"sk-toggleable__control sk-hidden--visually\" id=\"sk-estimator-id-5\" type=\"checkbox\" checked><label for=\"sk-estimator-id-5\" class=\"sk-toggleable__label sk-toggleable__label-arrow\">LinearRegression</label><div class=\"sk-toggleable__content\"><pre>LinearRegression()</pre></div></div></div></div></div>"
      ],
      "text/plain": [
       "LinearRegression()"
      ]
     },
     "execution_count": 98,
     "metadata": {},
     "output_type": "execute_result"
    }
   ],
   "source": [
    "model.fit(x_train, y_train)"
   ]
  },
  {
   "cell_type": "code",
   "execution_count": 89,
   "id": "4fe4036e-94ab-4fae-be1d-cd948a4716db",
   "metadata": {},
   "outputs": [
    {
     "name": "stdout",
     "output_type": "stream",
     "text": [
      "R-Square(결정계수):0.99\n",
      "RMSE:267.71\n",
      "07~08시 평균 승하차 인원: 3645.36\n"
     ]
    }
   ],
   "source": [
    "y_hat = model.predict(x_test)\n",
    "r_square = model.score(x_test, y_test)\n",
    "print(f'R-Square(결정계수):{r_square:.2f}')\n",
    "print(f'RMSE:{np.sqrt(mean_squared_error(y_test, y_hat)):.2f}')\n",
    "print(f'07~08시 평균 승하차 인원: {np.mean(y):.2f}')"
   ]
  },
  {
   "cell_type": "code",
   "execution_count": 90,
   "id": "9904e076-b575-49af-baf9-2be6023087fd",
   "metadata": {},
   "outputs": [
    {
     "data": {
      "image/png": "[encoded data removed]",
      "text/plain": [
       "<Figure size 640x480 with 1 Axes>"
      ]
     },
     "metadata": {},
     "output_type": "display_data"
    }
   ],
   "source": [
    "sns.kdeplot(x=y_test, fill=True, label='y') # 정답\n",
    "sns.kdeplot(x=y_hat, fill=True, label='y') # 예측값\n",
    "plt.legend()\n",
    "plt.show()"
   ]
  }
 ],
 "metadata": {
  "kernelspec": {
   "display_name": "Python 3 (ipykernel)",
   "language": "python",
   "name": "python3"
  },
  "language_info": {
   "codemirror_mode": {
    "name": "ipython",
    "version": 3
   },
   "file_extension": ".py",
   "mimetype": "text/x-python",
   "name": "python",
   "nbconvert_exporter": "python",
   "pygments_lexer": "ipython3",
   "version": "3.11.7"
  }
 },
 "nbformat": 4,
 "nbformat_minor": 5
}
