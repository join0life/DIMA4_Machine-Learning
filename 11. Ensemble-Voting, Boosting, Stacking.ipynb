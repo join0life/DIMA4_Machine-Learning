{
 "cells": [
  {
   "cell_type": "markdown",
   "id": "f642774c-7ecf-4678-ba43-c6c83288ec80",
   "metadata": {},
   "source": [
    "# 앙상블 회귀"
   ]
  },
  {
   "cell_type": "markdown",
   "id": "60da8bcc-c01b-4860-91a0-148fd2bea478",
   "metadata": {},
   "source": [
    "## (공통) 데이터 로딩 및 분할"
   ]
  },
  {
   "cell_type": "code",
   "execution_count": 14,
   "id": "e67f45d1-5fd4-4adb-af79-18118af61801",
   "metadata": {},
   "outputs": [],
   "source": [
    "import pandas as pd\n",
    "import numpy as np\n",
    "from sklearn.model_selection import train_test_split\n",
    "from sklearn.metrics import mean_squared_error, r2_score\n",
    "from sklearn.preprocessing import StandardScaler\n",
    "import warnings\n",
    "warnings.filterwarnings(action='ignore')\n",
    "\n",
    "df = pd.read_csv('./datasets/HousingData.csv')"
   ]
  },
  {
   "cell_type": "code",
   "execution_count": 15,
   "id": "927baac5-a576-4e49-b5e8-8076111dddc3",
   "metadata": {},
   "outputs": [],
   "source": [
    "df = df.ffill()"
   ]
  },
  {
   "cell_type": "code",
   "execution_count": 16,
   "id": "af93ea68-f5a9-45eb-91e4-ae8dcde9319f",
   "metadata": {},
   "outputs": [],
   "source": [
    "x = df.drop('MEDV', axis =1 )\n",
    "y = df['MEDV']\n",
    "\n",
    "x = StandardScaler().fit_transform(x)\n",
    "x_train, x_test, y_train, y_test = train_test_split(x, y, train_size=0.8, random_state=1)"
   ]
  },
  {
   "cell_type": "markdown",
   "id": "d0ca2aa4-6933-478d-a4de-90a82397232a",
   "metadata": {},
   "source": [
    "## Voting\n",
    "- 동일 데이터셋에 대해 서로 다른 회귀모형 알고리즘을 사용하여 각 모델의 예측 결과의 평균값을 반환한다."
   ]
  },
  {
   "cell_type": "markdown",
   "id": "f34661d7-d668-407d-a220-c1974b816117",
   "metadata": {},
   "source": [
    "### 패키지 로딩"
   ]
  },
  {
   "cell_type": "code",
   "execution_count": 17,
   "id": "4cf8d786-c305-4ffe-b4c1-e0520325665f",
   "metadata": {},
   "outputs": [],
   "source": [
    "from sklearn.linear_model import LinearRegression, Lasso, Ridge\n",
    "from sklearn.ensemble import VotingRegressor"
   ]
  },
  {
   "cell_type": "markdown",
   "id": "9f9e4e1a-0751-42af-8941-e4f7bd72dee8",
   "metadata": {},
   "source": [
    "### 모델 생성"
   ]
  },
  {
   "cell_type": "code",
   "execution_count": 18,
   "id": "d7440c38-174f-4922-8ffc-299935ccaf91",
   "metadata": {},
   "outputs": [],
   "source": [
    "# L1 규제 : 데이터가 작은 feature는 삭제할 수도 있음\n",
    "lasso = Lasso(alpha=0.05)\n",
    "ridge = Ridge(alpha=1)\n",
    "linear = LinearRegression() # 규제가 적용되지 않음\n",
    "vo_r = VotingRegressor(estimators=[('Lasso',lasso), ('Ridge', ridge),('Linear', linear)]) # 셋의 평균을 예측값으로 뽑아냄"
   ]
  },
  {
   "cell_type": "markdown",
   "id": "87636968-9fc0-455f-9f1a-1516542b65cc",
   "metadata": {},
   "source": [
    "### 학습 및 평가"
   ]
  },
  {
   "cell_type": "code",
   "execution_count": 19,
   "id": "558f9e4f-2be8-471a-a06c-45fcedbeb7fb",
   "metadata": {},
   "outputs": [
    {
     "name": "stdout",
     "output_type": "stream",
     "text": [
      "RMSE: 4.988\n",
      "R2 Score: 0.748\n"
     ]
    }
   ],
   "source": [
    "vo_r.fit(x_train, y_train)\n",
    "y_hat = vo_r.predict(x_test)\n",
    "print(f'RMSE: {np.sqrt(mean_squared_error(y_test, y_hat)):.3f}')\n",
    "print(f'R2 Score: {r2_score(y_test, y_hat):.3f}')"
   ]
  },
  {
   "cell_type": "markdown",
   "id": "4f3fc269-746e-47ca-9a8b-5924f721e97d",
   "metadata": {},
   "source": [
    "### 개별 회귀모형 학습결과 비교 "
   ]
  },
  {
   "cell_type": "code",
   "execution_count": 20,
   "id": "bd10ac08-f17a-463a-a886-0bbaee962935",
   "metadata": {},
   "outputs": [
    {
     "name": "stdout",
     "output_type": "stream",
     "text": [
      "Lasso 모델 RMSE: 5.021\n",
      "Lasso 모델 R2 Score: 0.745\n",
      "==============================\n",
      "Ridge 모델 RMSE: 4.978\n",
      "Ridge 모델 R2 Score: 0.749\n",
      "==============================\n",
      "Linear 모델 RMSE: 4.976\n",
      "Linear 모델 R2 Score: 0.749\n",
      "==============================\n"
     ]
    }
   ],
   "source": [
    "estimators = [('Lasso',lasso), ('Ridge', ridge),('Linear', linear)]\n",
    "\n",
    "for name, model in estimators:\n",
    "    model.fit(x_train, y_train)\n",
    "    y_hat = model.predict(x_test)\n",
    "    print(f'{name} 모델 RMSE: {np.sqrt(mean_squared_error(y_test, y_hat)):.3f}')\n",
    "    print(f'{name} 모델 R2 Score: {r2_score(y_test, y_hat):.3f}')\n",
    "    print('='*30)"
   ]
  },
  {
   "cell_type": "markdown",
   "id": "5aedd44c-21ae-4e5c-b5d9-55a51865692c",
   "metadata": {},
   "source": [
    "## Boosting"
   ]
  },
  {
   "cell_type": "markdown",
   "id": "c1aad951-d0e1-4c0e-8c9e-72f51e501c91",
   "metadata": {},
   "source": [
    "### AdaBoost"
   ]
  },
  {
   "cell_type": "markdown",
   "id": "45cd10a8-bcf3-46c9-bd52-92c0ec086a69",
   "metadata": {},
   "source": [
    "#### 패키지 로딩 "
   ]
  },
  {
   "cell_type": "code",
   "execution_count": 21,
   "id": "e74a1779-96cf-459b-a7c3-d407827a64ed",
   "metadata": {},
   "outputs": [],
   "source": [
    "from sklearn.ensemble import AdaBoostRegressor\n",
    "from sklearn.tree import DecisionTreeRegressor"
   ]
  },
  {
   "cell_type": "markdown",
   "id": "cbe2126f-0976-4178-81ae-c4a0633ea35d",
   "metadata": {},
   "source": [
    "#### 모델 생성"
   ]
  },
  {
   "cell_type": "code",
   "execution_count": 22,
   "id": "1d0f2a43-9717-46fd-8994-e5c461ed36a8",
   "metadata": {},
   "outputs": [],
   "source": [
    "ada_r = AdaBoostRegressor(base_estimator = DecisionTreeRegressor(max_depth=4), n_estimators=300, random_state=0)"
   ]
  },
  {
   "cell_type": "markdown",
   "id": "baf9141e-d882-43f9-9c0b-997a539b34cb",
   "metadata": {},
   "source": [
    "#### 학습 및 평가 "
   ]
  },
  {
   "cell_type": "code",
   "execution_count": 23,
   "id": "a5ee639b-c288-49eb-bec7-c12b0c0e4ae8",
   "metadata": {},
   "outputs": [
    {
     "name": "stdout",
     "output_type": "stream",
     "text": [
      "RMSE: 3.606\n",
      "R2 Score: 0.868\n"
     ]
    }
   ],
   "source": [
    "ada_r.fit(x_train, y_train)\n",
    "y_hat = ada_r.predict(x_test)\n",
    "print(f'RMSE: {np.sqrt(mean_squared_error(y_test, y_hat)):.3f}')\n",
    "print(f'R2 Score: {r2_score(y_test, y_hat):.3f}')"
   ]
  },
  {
   "cell_type": "markdown",
   "id": "47c76e78-a07b-4c4d-8793-944f77924552",
   "metadata": {},
   "source": [
    "### GradientBoost"
   ]
  },
  {
   "cell_type": "markdown",
   "id": "c954755b-53a1-4755-9cda-11499bde7f42",
   "metadata": {},
   "source": [
    "#### DecisionTreeRegressor를 활용한 그레디언트 부스팅 원리 이해"
   ]
  },
  {
   "cell_type": "code",
   "execution_count": 24,
   "id": "ea356050-700a-4a6f-b5d3-d241b36f5c38",
   "metadata": {},
   "outputs": [],
   "source": [
    "from sklearn.tree import DecisionTreeRegressor\n",
    "\n",
    "np.random.seed(10)\n",
    "x_ = np.random.rand(100, 1) - 0.5 # [-0.5, 0.5) 범위 데이터 100x1 모양으로 생성\n",
    "y_ = 3*x_[:,0]**2 + 0.05 * np.random.randn(100) # y = 3x^2 + noise "
   ]
  },
  {
   "cell_type": "code",
   "execution_count": 25,
   "id": "d5b78503-f2f2-4275-9608-dfd38cebc255",
   "metadata": {},
   "outputs": [
    {
     "data": {
      "text/plain": [
       "array([0.27623009, 0.70126328, 0.05048995])"
      ]
     },
     "execution_count": 25,
     "metadata": {},
     "output_type": "execute_result"
    }
   ],
   "source": [
    "y_[:3]"
   ]
  },
  {
   "cell_type": "code",
   "execution_count": 26,
   "id": "f4534bc3-dea7-46fe-927f-ac4a484b0d6c",
   "metadata": {},
   "outputs": [
    {
     "data": {
      "text/html": [
       "<style>#sk-container-id-2 {color: black;background-color: white;}#sk-container-id-2 pre{padding: 0;}#sk-container-id-2 div.sk-toggleable {background-color: white;}#sk-container-id-2 label.sk-toggleable__label {cursor: pointer;display: block;width: 100%;margin-bottom: 0;padding: 0.3em;box-sizing: border-box;text-align: center;}#sk-container-id-2 label.sk-toggleable__label-arrow:before {content: \"▸\";float: left;margin-right: 0.25em;color: #696969;}#sk-container-id-2 label.sk-toggleable__label-arrow:hover:before {color: black;}#sk-container-id-2 div.sk-estimator:hover label.sk-toggleable__label-arrow:before {color: black;}#sk-container-id-2 div.sk-toggleable__content {max-height: 0;max-width: 0;overflow: hidden;text-align: left;background-color: #f0f8ff;}#sk-container-id-2 div.sk-toggleable__content pre {margin: 0.2em;color: black;border-radius: 0.25em;background-color: #f0f8ff;}#sk-container-id-2 input.sk-toggleable__control:checked~div.sk-toggleable__content {max-height: 200px;max-width: 100%;overflow: auto;}#sk-container-id-2 input.sk-toggleable__control:checked~label.sk-toggleable__label-arrow:before {content: \"▾\";}#sk-container-id-2 div.sk-estimator input.sk-toggleable__control:checked~label.sk-toggleable__label {background-color: #d4ebff;}#sk-container-id-2 div.sk-label input.sk-toggleable__control:checked~label.sk-toggleable__label {background-color: #d4ebff;}#sk-container-id-2 input.sk-hidden--visually {border: 0;clip: rect(1px 1px 1px 1px);clip: rect(1px, 1px, 1px, 1px);height: 1px;margin: -1px;overflow: hidden;padding: 0;position: absolute;width: 1px;}#sk-container-id-2 div.sk-estimator {font-family: monospace;background-color: #f0f8ff;border: 1px dotted black;border-radius: 0.25em;box-sizing: border-box;margin-bottom: 0.5em;}#sk-container-id-2 div.sk-estimator:hover {background-color: #d4ebff;}#sk-container-id-2 div.sk-parallel-item::after {content: \"\";width: 100%;border-bottom: 1px solid gray;flex-grow: 1;}#sk-container-id-2 div.sk-label:hover label.sk-toggleable__label {background-color: #d4ebff;}#sk-container-id-2 div.sk-serial::before {content: \"\";position: absolute;border-left: 1px solid gray;box-sizing: border-box;top: 0;bottom: 0;left: 50%;z-index: 0;}#sk-container-id-2 div.sk-serial {display: flex;flex-direction: column;align-items: center;background-color: white;padding-right: 0.2em;padding-left: 0.2em;position: relative;}#sk-container-id-2 div.sk-item {position: relative;z-index: 1;}#sk-container-id-2 div.sk-parallel {display: flex;align-items: stretch;justify-content: center;background-color: white;position: relative;}#sk-container-id-2 div.sk-item::before, #sk-container-id-2 div.sk-parallel-item::before {content: \"\";position: absolute;border-left: 1px solid gray;box-sizing: border-box;top: 0;bottom: 0;left: 50%;z-index: -1;}#sk-container-id-2 div.sk-parallel-item {display: flex;flex-direction: column;z-index: 1;position: relative;background-color: white;}#sk-container-id-2 div.sk-parallel-item:first-child::after {align-self: flex-end;width: 50%;}#sk-container-id-2 div.sk-parallel-item:last-child::after {align-self: flex-start;width: 50%;}#sk-container-id-2 div.sk-parallel-item:only-child::after {width: 0;}#sk-container-id-2 div.sk-dashed-wrapped {border: 1px dashed gray;margin: 0 0.4em 0.5em 0.4em;box-sizing: border-box;padding-bottom: 0.4em;background-color: white;}#sk-container-id-2 div.sk-label label {font-family: monospace;font-weight: bold;display: inline-block;line-height: 1.2em;}#sk-container-id-2 div.sk-label-container {text-align: center;}#sk-container-id-2 div.sk-container {/* jupyter's `normalize.less` sets `[hidden] { display: none; }` but bootstrap.min.css set `[hidden] { display: none !important; }` so we also need the `!important` here to be able to override the default hidden behavior on the sphinx rendered scikit-learn.org. See: https://github.com/scikit-learn/scikit-learn/issues/21755 */display: inline-block !important;position: relative;}#sk-container-id-2 div.sk-text-repr-fallback {display: none;}</style><div id=\"sk-container-id-2\" class=\"sk-top-container\"><div class=\"sk-text-repr-fallback\"><pre>DecisionTreeRegressor(max_depth=3, random_state=10)</pre><b>In a Jupyter environment, please rerun this cell to show the HTML representation or trust the notebook. <br />On GitHub, the HTML representation is unable to render, please try loading this page with nbviewer.org.</b></div><div class=\"sk-container\" hidden><div class=\"sk-item\"><div class=\"sk-estimator sk-toggleable\"><input class=\"sk-toggleable__control sk-hidden--visually\" id=\"sk-estimator-id-5\" type=\"checkbox\" checked><label for=\"sk-estimator-id-5\" class=\"sk-toggleable__label sk-toggleable__label-arrow\">DecisionTreeRegressor</label><div class=\"sk-toggleable__content\"><pre>DecisionTreeRegressor(max_depth=3, random_state=10)</pre></div></div></div></div></div>"
      ],
      "text/plain": [
       "DecisionTreeRegressor(max_depth=3, random_state=10)"
      ]
     },
     "execution_count": 26,
     "metadata": {},
     "output_type": "execute_result"
    }
   ],
   "source": [
    "tree_reg1 = DecisionTreeRegressor(max_depth=3, random_state=10)\n",
    "tree_reg1.fit(x_, y_)"
   ]
  },
  {
   "cell_type": "markdown",
   "id": "42b01654-c723-4109-a1d4-2f9fddef342b",
   "metadata": {},
   "source": [
    "- 다음 의사결정 나무 모형이 이전 예측기가 만든 잔여 오차를 학습한다."
   ]
  },
  {
   "cell_type": "code",
   "execution_count": 27,
   "id": "f311604e-9d0d-442d-b13d-ddf4782fa41b",
   "metadata": {},
   "outputs": [
    {
     "data": {
      "text/html": [
       "<style>#sk-container-id-3 {color: black;background-color: white;}#sk-container-id-3 pre{padding: 0;}#sk-container-id-3 div.sk-toggleable {background-color: white;}#sk-container-id-3 label.sk-toggleable__label {cursor: pointer;display: block;width: 100%;margin-bottom: 0;padding: 0.3em;box-sizing: border-box;text-align: center;}#sk-container-id-3 label.sk-toggleable__label-arrow:before {content: \"▸\";float: left;margin-right: 0.25em;color: #696969;}#sk-container-id-3 label.sk-toggleable__label-arrow:hover:before {color: black;}#sk-container-id-3 div.sk-estimator:hover label.sk-toggleable__label-arrow:before {color: black;}#sk-container-id-3 div.sk-toggleable__content {max-height: 0;max-width: 0;overflow: hidden;text-align: left;background-color: #f0f8ff;}#sk-container-id-3 div.sk-toggleable__content pre {margin: 0.2em;color: black;border-radius: 0.25em;background-color: #f0f8ff;}#sk-container-id-3 input.sk-toggleable__control:checked~div.sk-toggleable__content {max-height: 200px;max-width: 100%;overflow: auto;}#sk-container-id-3 input.sk-toggleable__control:checked~label.sk-toggleable__label-arrow:before {content: \"▾\";}#sk-container-id-3 div.sk-estimator input.sk-toggleable__control:checked~label.sk-toggleable__label {background-color: #d4ebff;}#sk-container-id-3 div.sk-label input.sk-toggleable__control:checked~label.sk-toggleable__label {background-color: #d4ebff;}#sk-container-id-3 input.sk-hidden--visually {border: 0;clip: rect(1px 1px 1px 1px);clip: rect(1px, 1px, 1px, 1px);height: 1px;margin: -1px;overflow: hidden;padding: 0;position: absolute;width: 1px;}#sk-container-id-3 div.sk-estimator {font-family: monospace;background-color: #f0f8ff;border: 1px dotted black;border-radius: 0.25em;box-sizing: border-box;margin-bottom: 0.5em;}#sk-container-id-3 div.sk-estimator:hover {background-color: #d4ebff;}#sk-container-id-3 div.sk-parallel-item::after {content: \"\";width: 100%;border-bottom: 1px solid gray;flex-grow: 1;}#sk-container-id-3 div.sk-label:hover label.sk-toggleable__label {background-color: #d4ebff;}#sk-container-id-3 div.sk-serial::before {content: \"\";position: absolute;border-left: 1px solid gray;box-sizing: border-box;top: 0;bottom: 0;left: 50%;z-index: 0;}#sk-container-id-3 div.sk-serial {display: flex;flex-direction: column;align-items: center;background-color: white;padding-right: 0.2em;padding-left: 0.2em;position: relative;}#sk-container-id-3 div.sk-item {position: relative;z-index: 1;}#sk-container-id-3 div.sk-parallel {display: flex;align-items: stretch;justify-content: center;background-color: white;position: relative;}#sk-container-id-3 div.sk-item::before, #sk-container-id-3 div.sk-parallel-item::before {content: \"\";position: absolute;border-left: 1px solid gray;box-sizing: border-box;top: 0;bottom: 0;left: 50%;z-index: -1;}#sk-container-id-3 div.sk-parallel-item {display: flex;flex-direction: column;z-index: 1;position: relative;background-color: white;}#sk-container-id-3 div.sk-parallel-item:first-child::after {align-self: flex-end;width: 50%;}#sk-container-id-3 div.sk-parallel-item:last-child::after {align-self: flex-start;width: 50%;}#sk-container-id-3 div.sk-parallel-item:only-child::after {width: 0;}#sk-container-id-3 div.sk-dashed-wrapped {border: 1px dashed gray;margin: 0 0.4em 0.5em 0.4em;box-sizing: border-box;padding-bottom: 0.4em;background-color: white;}#sk-container-id-3 div.sk-label label {font-family: monospace;font-weight: bold;display: inline-block;line-height: 1.2em;}#sk-container-id-3 div.sk-label-container {text-align: center;}#sk-container-id-3 div.sk-container {/* jupyter's `normalize.less` sets `[hidden] { display: none; }` but bootstrap.min.css set `[hidden] { display: none !important; }` so we also need the `!important` here to be able to override the default hidden behavior on the sphinx rendered scikit-learn.org. See: https://github.com/scikit-learn/scikit-learn/issues/21755 */display: inline-block !important;position: relative;}#sk-container-id-3 div.sk-text-repr-fallback {display: none;}</style><div id=\"sk-container-id-3\" class=\"sk-top-container\"><div class=\"sk-text-repr-fallback\"><pre>DecisionTreeRegressor(max_depth=3, random_state=11)</pre><b>In a Jupyter environment, please rerun this cell to show the HTML representation or trust the notebook. <br />On GitHub, the HTML representation is unable to render, please try loading this page with nbviewer.org.</b></div><div class=\"sk-container\" hidden><div class=\"sk-item\"><div class=\"sk-estimator sk-toggleable\"><input class=\"sk-toggleable__control sk-hidden--visually\" id=\"sk-estimator-id-6\" type=\"checkbox\" checked><label for=\"sk-estimator-id-6\" class=\"sk-toggleable__label sk-toggleable__label-arrow\">DecisionTreeRegressor</label><div class=\"sk-toggleable__content\"><pre>DecisionTreeRegressor(max_depth=3, random_state=11)</pre></div></div></div></div></div>"
      ],
      "text/plain": [
       "DecisionTreeRegressor(max_depth=3, random_state=11)"
      ]
     },
     "execution_count": 27,
     "metadata": {},
     "output_type": "execute_result"
    }
   ],
   "source": [
    "y2 = y_ - tree_reg1.predict(x_) # 첫번째 모델에 의해 만들어진 오차 (정답 - 예측값)\n",
    "tree_reg2 = DecisionTreeRegressor(max_depth=3, random_state=11)\n",
    "tree_reg2.fit(x_, y2)"
   ]
  },
  {
   "cell_type": "code",
   "execution_count": 28,
   "id": "21b735a2-0ee1-42af-bafa-b2ddb67d70c6",
   "metadata": {},
   "outputs": [
    {
     "data": {
      "text/html": [
       "<style>#sk-container-id-4 {color: black;background-color: white;}#sk-container-id-4 pre{padding: 0;}#sk-container-id-4 div.sk-toggleable {background-color: white;}#sk-container-id-4 label.sk-toggleable__label {cursor: pointer;display: block;width: 100%;margin-bottom: 0;padding: 0.3em;box-sizing: border-box;text-align: center;}#sk-container-id-4 label.sk-toggleable__label-arrow:before {content: \"▸\";float: left;margin-right: 0.25em;color: #696969;}#sk-container-id-4 label.sk-toggleable__label-arrow:hover:before {color: black;}#sk-container-id-4 div.sk-estimator:hover label.sk-toggleable__label-arrow:before {color: black;}#sk-container-id-4 div.sk-toggleable__content {max-height: 0;max-width: 0;overflow: hidden;text-align: left;background-color: #f0f8ff;}#sk-container-id-4 div.sk-toggleable__content pre {margin: 0.2em;color: black;border-radius: 0.25em;background-color: #f0f8ff;}#sk-container-id-4 input.sk-toggleable__control:checked~div.sk-toggleable__content {max-height: 200px;max-width: 100%;overflow: auto;}#sk-container-id-4 input.sk-toggleable__control:checked~label.sk-toggleable__label-arrow:before {content: \"▾\";}#sk-container-id-4 div.sk-estimator input.sk-toggleable__control:checked~label.sk-toggleable__label {background-color: #d4ebff;}#sk-container-id-4 div.sk-label input.sk-toggleable__control:checked~label.sk-toggleable__label {background-color: #d4ebff;}#sk-container-id-4 input.sk-hidden--visually {border: 0;clip: rect(1px 1px 1px 1px);clip: rect(1px, 1px, 1px, 1px);height: 1px;margin: -1px;overflow: hidden;padding: 0;position: absolute;width: 1px;}#sk-container-id-4 div.sk-estimator {font-family: monospace;background-color: #f0f8ff;border: 1px dotted black;border-radius: 0.25em;box-sizing: border-box;margin-bottom: 0.5em;}#sk-container-id-4 div.sk-estimator:hover {background-color: #d4ebff;}#sk-container-id-4 div.sk-parallel-item::after {content: \"\";width: 100%;border-bottom: 1px solid gray;flex-grow: 1;}#sk-container-id-4 div.sk-label:hover label.sk-toggleable__label {background-color: #d4ebff;}#sk-container-id-4 div.sk-serial::before {content: \"\";position: absolute;border-left: 1px solid gray;box-sizing: border-box;top: 0;bottom: 0;left: 50%;z-index: 0;}#sk-container-id-4 div.sk-serial {display: flex;flex-direction: column;align-items: center;background-color: white;padding-right: 0.2em;padding-left: 0.2em;position: relative;}#sk-container-id-4 div.sk-item {position: relative;z-index: 1;}#sk-container-id-4 div.sk-parallel {display: flex;align-items: stretch;justify-content: center;background-color: white;position: relative;}#sk-container-id-4 div.sk-item::before, #sk-container-id-4 div.sk-parallel-item::before {content: \"\";position: absolute;border-left: 1px solid gray;box-sizing: border-box;top: 0;bottom: 0;left: 50%;z-index: -1;}#sk-container-id-4 div.sk-parallel-item {display: flex;flex-direction: column;z-index: 1;position: relative;background-color: white;}#sk-container-id-4 div.sk-parallel-item:first-child::after {align-self: flex-end;width: 50%;}#sk-container-id-4 div.sk-parallel-item:last-child::after {align-self: flex-start;width: 50%;}#sk-container-id-4 div.sk-parallel-item:only-child::after {width: 0;}#sk-container-id-4 div.sk-dashed-wrapped {border: 1px dashed gray;margin: 0 0.4em 0.5em 0.4em;box-sizing: border-box;padding-bottom: 0.4em;background-color: white;}#sk-container-id-4 div.sk-label label {font-family: monospace;font-weight: bold;display: inline-block;line-height: 1.2em;}#sk-container-id-4 div.sk-label-container {text-align: center;}#sk-container-id-4 div.sk-container {/* jupyter's `normalize.less` sets `[hidden] { display: none; }` but bootstrap.min.css set `[hidden] { display: none !important; }` so we also need the `!important` here to be able to override the default hidden behavior on the sphinx rendered scikit-learn.org. See: https://github.com/scikit-learn/scikit-learn/issues/21755 */display: inline-block !important;position: relative;}#sk-container-id-4 div.sk-text-repr-fallback {display: none;}</style><div id=\"sk-container-id-4\" class=\"sk-top-container\"><div class=\"sk-text-repr-fallback\"><pre>DecisionTreeRegressor(max_depth=3, random_state=12)</pre><b>In a Jupyter environment, please rerun this cell to show the HTML representation or trust the notebook. <br />On GitHub, the HTML representation is unable to render, please try loading this page with nbviewer.org.</b></div><div class=\"sk-container\" hidden><div class=\"sk-item\"><div class=\"sk-estimator sk-toggleable\"><input class=\"sk-toggleable__control sk-hidden--visually\" id=\"sk-estimator-id-7\" type=\"checkbox\" checked><label for=\"sk-estimator-id-7\" class=\"sk-toggleable__label sk-toggleable__label-arrow\">DecisionTreeRegressor</label><div class=\"sk-toggleable__content\"><pre>DecisionTreeRegressor(max_depth=3, random_state=12)</pre></div></div></div></div></div>"
      ],
      "text/plain": [
       "DecisionTreeRegressor(max_depth=3, random_state=12)"
      ]
     },
     "execution_count": 28,
     "metadata": {},
     "output_type": "execute_result"
    }
   ],
   "source": [
    "y3 = y2 - tree_reg2.predict(x_) # 첫번째 모델에 의해 만들어진 오차 (정답 - 예측값)\n",
    "tree_reg3 = DecisionTreeRegressor(max_depth=3, random_state=12)\n",
    "tree_reg3.fit(x_, y3)"
   ]
  },
  {
   "cell_type": "markdown",
   "id": "7ff5d696-e844-48c0-87fb-fbea25ac334c",
   "metadata": {},
   "source": [
    "- 새로운 샘플에 대한 예측을 만들려면 모든 모델의 예측을 더한다. "
   ]
  },
  {
   "cell_type": "code",
   "execution_count": 29,
   "id": "9cf00971-5804-486a-9b92-8eafbc3b305b",
   "metadata": {},
   "outputs": [
    {
     "name": "stdout",
     "output_type": "stream",
     "text": [
      "[0.48433793 0.02328039 0.67494791]\n"
     ]
    }
   ],
   "source": [
    "# y = 3x^2 + noise\n",
    "# x = -0.4, y = 0.48 + a\n",
    "# x = 0.0, a(noise)\n",
    "# x = 0.5, y = 0.75 + a (이때의 예측값 : 0.67...)\n",
    "x_new = np.array([[-0.4],[0.],[0.5]]) # 새로운 데이터 3개가 들어옴\n",
    "result = np.sum(model.predict(x_new) for model in (tree_reg1, tree_reg2, tree_reg3))\n",
    "print(result) # -0.4 -> 예측값 : 0.484 ... "
   ]
  },
  {
   "cell_type": "markdown",
   "id": "1a93bf56-bd13-445c-841b-d249dc87c358",
   "metadata": {},
   "source": [
    "- 결과 시각화"
   ]
  },
  {
   "cell_type": "code",
   "execution_count": 30,
   "id": "7d17fa17-529d-4b34-86fd-c0b2341b2add",
   "metadata": {},
   "outputs": [
    {
     "data": {
      "image/png": "[encoded data removed]",
      "text/plain": [
       "<Figure size 1100x1100 with 6 Axes>"
      ]
     },
     "metadata": {},
     "output_type": "display_data"
    }
   ],
   "source": [
    "import matplotlib.pyplot as plt\n",
    "import matplotlib \n",
    "\n",
    "matplotlib.rc('font', family='Malgun Gothic')\n",
    "matplotlib.rcParams['axes.unicode_minus'] = False\n",
    "\n",
    "def plot_predictions(regressors, X, y, axes, style,\n",
    "                     label=None, data_style=\"b.\", data_label=None):\n",
    "    x1 = np.linspace(axes[0], axes[1], 500)\n",
    "    y_pred = sum(regressor.predict(x1.reshape(-1, 1))\n",
    "                 for regressor in regressors)    \n",
    "    plt.plot(X[:, 0], y, data_style, label=data_label)\n",
    "    plt.plot(x1, y_pred, style, linewidth=2, label=label)\n",
    "    if label or data_label:\n",
    "        plt.legend(loc=\"upper center\")\n",
    "    plt.axis(axes)\n",
    "\n",
    "plt.figure(figsize=(11, 11))\n",
    "\n",
    "plt.subplot(3, 2, 1)\n",
    "plot_predictions([tree_reg1], x_, y_, axes=[-0.5, 0.5, -0.2, 0.8], style=\"g-\",\n",
    "                 label=\"$h_1(x_1)$\", data_label=\"훈련 세트\")\n",
    "plt.ylabel(\"$y$  \", rotation=0)\n",
    "plt.title(\"잔여 오차와 예측\")\n",
    "\n",
    "plt.subplot(3, 2, 2)\n",
    "plot_predictions([tree_reg1], x_, y_, axes=[-0.5, 0.5, -0.2, 0.8], style=\"r-\",\n",
    "                 label=\"$h(x_1) = h_1(x_1)$\", data_label=\"훈련 세트\")\n",
    "plt.title(\"앙상블의 예측\")\n",
    "\n",
    "plt.subplot(3, 2, 3)\n",
    "plot_predictions([tree_reg2], x_, y2, axes=[-0.5, 0.5, -0.4, 0.6], style=\"g-\",\n",
    "                 label=\"$h_2(x_1)$\", data_style=\"k+\",\n",
    "                 data_label=\"잔여 오차: $y - h_1(x_1)$\")\n",
    "plt.ylabel(\"$y$  \", rotation=0)\n",
    "\n",
    "plt.subplot(3, 2, 4)\n",
    "plot_predictions([tree_reg1, tree_reg2], x_, y_, axes=[-0.5, 0.5, -0.2, 0.8],\n",
    "                  style=\"r-\", label=\"$h(x_1) = h_1(x_1) + h_2(x_1)$\")\n",
    "\n",
    "plt.subplot(3, 2, 5)\n",
    "plot_predictions([tree_reg3], x_, y3, axes=[-0.5, 0.5, -0.4, 0.6], style=\"g-\",\n",
    "                 label=\"$h_3(x_1)$\", data_style=\"k+\",\n",
    "                 data_label=\"잔여 오차: $y - h_1(x_1) - h_2(x_1)$\")\n",
    "plt.xlabel(\"$x_1$\")\n",
    "plt.ylabel(\"$y$  \", rotation=0)\n",
    "\n",
    "plt.subplot(3, 2, 6)\n",
    "plot_predictions([tree_reg1, tree_reg2, tree_reg3], x_, y_,\n",
    "                 axes=[-0.5, 0.5, -0.2, 0.8], style=\"r-\",\n",
    "                 label=\"$h(x_1) = h_1(x_1) + h_2(x_1) + h_3(x_1)$\")\n",
    "plt.xlabel(\"$x_1$\")\n",
    "\n",
    "plt.show()"
   ]
  },
  {
   "cell_type": "markdown",
   "id": "6a8d9592-7138-45d6-867e-e5a3489fb32a",
   "metadata": {},
   "source": [
    "#### GradientBoostingRegressor와의 비교"
   ]
  },
  {
   "cell_type": "code",
   "execution_count": 31,
   "id": "6e05cb3a-0d97-4b7c-bf80-abb069705861",
   "metadata": {},
   "outputs": [
    {
     "data": {
      "text/html": [
       "<style>#sk-container-id-5 {color: black;background-color: white;}#sk-container-id-5 pre{padding: 0;}#sk-container-id-5 div.sk-toggleable {background-color: white;}#sk-container-id-5 label.sk-toggleable__label {cursor: pointer;display: block;width: 100%;margin-bottom: 0;padding: 0.3em;box-sizing: border-box;text-align: center;}#sk-container-id-5 label.sk-toggleable__label-arrow:before {content: \"▸\";float: left;margin-right: 0.25em;color: #696969;}#sk-container-id-5 label.sk-toggleable__label-arrow:hover:before {color: black;}#sk-container-id-5 div.sk-estimator:hover label.sk-toggleable__label-arrow:before {color: black;}#sk-container-id-5 div.sk-toggleable__content {max-height: 0;max-width: 0;overflow: hidden;text-align: left;background-color: #f0f8ff;}#sk-container-id-5 div.sk-toggleable__content pre {margin: 0.2em;color: black;border-radius: 0.25em;background-color: #f0f8ff;}#sk-container-id-5 input.sk-toggleable__control:checked~div.sk-toggleable__content {max-height: 200px;max-width: 100%;overflow: auto;}#sk-container-id-5 input.sk-toggleable__control:checked~label.sk-toggleable__label-arrow:before {content: \"▾\";}#sk-container-id-5 div.sk-estimator input.sk-toggleable__control:checked~label.sk-toggleable__label {background-color: #d4ebff;}#sk-container-id-5 div.sk-label input.sk-toggleable__control:checked~label.sk-toggleable__label {background-color: #d4ebff;}#sk-container-id-5 input.sk-hidden--visually {border: 0;clip: rect(1px 1px 1px 1px);clip: rect(1px, 1px, 1px, 1px);height: 1px;margin: -1px;overflow: hidden;padding: 0;position: absolute;width: 1px;}#sk-container-id-5 div.sk-estimator {font-family: monospace;background-color: #f0f8ff;border: 1px dotted black;border-radius: 0.25em;box-sizing: border-box;margin-bottom: 0.5em;}#sk-container-id-5 div.sk-estimator:hover {background-color: #d4ebff;}#sk-container-id-5 div.sk-parallel-item::after {content: \"\";width: 100%;border-bottom: 1px solid gray;flex-grow: 1;}#sk-container-id-5 div.sk-label:hover label.sk-toggleable__label {background-color: #d4ebff;}#sk-container-id-5 div.sk-serial::before {content: \"\";position: absolute;border-left: 1px solid gray;box-sizing: border-box;top: 0;bottom: 0;left: 50%;z-index: 0;}#sk-container-id-5 div.sk-serial {display: flex;flex-direction: column;align-items: center;background-color: white;padding-right: 0.2em;padding-left: 0.2em;position: relative;}#sk-container-id-5 div.sk-item {position: relative;z-index: 1;}#sk-container-id-5 div.sk-parallel {display: flex;align-items: stretch;justify-content: center;background-color: white;position: relative;}#sk-container-id-5 div.sk-item::before, #sk-container-id-5 div.sk-parallel-item::before {content: \"\";position: absolute;border-left: 1px solid gray;box-sizing: border-box;top: 0;bottom: 0;left: 50%;z-index: -1;}#sk-container-id-5 div.sk-parallel-item {display: flex;flex-direction: column;z-index: 1;position: relative;background-color: white;}#sk-container-id-5 div.sk-parallel-item:first-child::after {align-self: flex-end;width: 50%;}#sk-container-id-5 div.sk-parallel-item:last-child::after {align-self: flex-start;width: 50%;}#sk-container-id-5 div.sk-parallel-item:only-child::after {width: 0;}#sk-container-id-5 div.sk-dashed-wrapped {border: 1px dashed gray;margin: 0 0.4em 0.5em 0.4em;box-sizing: border-box;padding-bottom: 0.4em;background-color: white;}#sk-container-id-5 div.sk-label label {font-family: monospace;font-weight: bold;display: inline-block;line-height: 1.2em;}#sk-container-id-5 div.sk-label-container {text-align: center;}#sk-container-id-5 div.sk-container {/* jupyter's `normalize.less` sets `[hidden] { display: none; }` but bootstrap.min.css set `[hidden] { display: none !important; }` so we also need the `!important` here to be able to override the default hidden behavior on the sphinx rendered scikit-learn.org. See: https://github.com/scikit-learn/scikit-learn/issues/21755 */display: inline-block !important;position: relative;}#sk-container-id-5 div.sk-text-repr-fallback {display: none;}</style><div id=\"sk-container-id-5\" class=\"sk-top-container\"><div class=\"sk-text-repr-fallback\"><pre>GradientBoostingRegressor(learning_rate=1, n_estimators=3, random_state=10)</pre><b>In a Jupyter environment, please rerun this cell to show the HTML representation or trust the notebook. <br />On GitHub, the HTML representation is unable to render, please try loading this page with nbviewer.org.</b></div><div class=\"sk-container\" hidden><div class=\"sk-item\"><div class=\"sk-estimator sk-toggleable\"><input class=\"sk-toggleable__control sk-hidden--visually\" id=\"sk-estimator-id-8\" type=\"checkbox\" checked><label for=\"sk-estimator-id-8\" class=\"sk-toggleable__label sk-toggleable__label-arrow\">GradientBoostingRegressor</label><div class=\"sk-toggleable__content\"><pre>GradientBoostingRegressor(learning_rate=1, n_estimators=3, random_state=10)</pre></div></div></div></div></div>"
      ],
      "text/plain": [
       "GradientBoostingRegressor(learning_rate=1, n_estimators=3, random_state=10)"
      ]
     },
     "execution_count": 31,
     "metadata": {},
     "output_type": "execute_result"
    }
   ],
   "source": [
    "from sklearn.ensemble import GradientBoostingRegressor\n",
    "\n",
    "# learning_rate : 각 트리의 기여 정도 (0.0 ~ inf, default = 1)\n",
    "# 낮게 설정하면 각 트리의 기여 정도가 낮아져서 훈련 데이터를 학습시키기 위해 많은 트리를 필요로 하게 된다.\n",
    "gbr1 = GradientBoostingRegressor(max_depth=3, n_estimators=3, learning_rate=1, random_state=10)\n",
    "gbr1.fit(x_, y_)"
   ]
  },
  {
   "cell_type": "code",
   "execution_count": 32,
   "id": "caaa3d02-e620-43ed-b054-7a94f3294fd6",
   "metadata": {},
   "outputs": [
    {
     "data": {
      "text/html": [
       "<style>#sk-container-id-6 {color: black;background-color: white;}#sk-container-id-6 pre{padding: 0;}#sk-container-id-6 div.sk-toggleable {background-color: white;}#sk-container-id-6 label.sk-toggleable__label {cursor: pointer;display: block;width: 100%;margin-bottom: 0;padding: 0.3em;box-sizing: border-box;text-align: center;}#sk-container-id-6 label.sk-toggleable__label-arrow:before {content: \"▸\";float: left;margin-right: 0.25em;color: #696969;}#sk-container-id-6 label.sk-toggleable__label-arrow:hover:before {color: black;}#sk-container-id-6 div.sk-estimator:hover label.sk-toggleable__label-arrow:before {color: black;}#sk-container-id-6 div.sk-toggleable__content {max-height: 0;max-width: 0;overflow: hidden;text-align: left;background-color: #f0f8ff;}#sk-container-id-6 div.sk-toggleable__content pre {margin: 0.2em;color: black;border-radius: 0.25em;background-color: #f0f8ff;}#sk-container-id-6 input.sk-toggleable__control:checked~div.sk-toggleable__content {max-height: 200px;max-width: 100%;overflow: auto;}#sk-container-id-6 input.sk-toggleable__control:checked~label.sk-toggleable__label-arrow:before {content: \"▾\";}#sk-container-id-6 div.sk-estimator input.sk-toggleable__control:checked~label.sk-toggleable__label {background-color: #d4ebff;}#sk-container-id-6 div.sk-label input.sk-toggleable__control:checked~label.sk-toggleable__label {background-color: #d4ebff;}#sk-container-id-6 input.sk-hidden--visually {border: 0;clip: rect(1px 1px 1px 1px);clip: rect(1px, 1px, 1px, 1px);height: 1px;margin: -1px;overflow: hidden;padding: 0;position: absolute;width: 1px;}#sk-container-id-6 div.sk-estimator {font-family: monospace;background-color: #f0f8ff;border: 1px dotted black;border-radius: 0.25em;box-sizing: border-box;margin-bottom: 0.5em;}#sk-container-id-6 div.sk-estimator:hover {background-color: #d4ebff;}#sk-container-id-6 div.sk-parallel-item::after {content: \"\";width: 100%;border-bottom: 1px solid gray;flex-grow: 1;}#sk-container-id-6 div.sk-label:hover label.sk-toggleable__label {background-color: #d4ebff;}#sk-container-id-6 div.sk-serial::before {content: \"\";position: absolute;border-left: 1px solid gray;box-sizing: border-box;top: 0;bottom: 0;left: 50%;z-index: 0;}#sk-container-id-6 div.sk-serial {display: flex;flex-direction: column;align-items: center;background-color: white;padding-right: 0.2em;padding-left: 0.2em;position: relative;}#sk-container-id-6 div.sk-item {position: relative;z-index: 1;}#sk-container-id-6 div.sk-parallel {display: flex;align-items: stretch;justify-content: center;background-color: white;position: relative;}#sk-container-id-6 div.sk-item::before, #sk-container-id-6 div.sk-parallel-item::before {content: \"\";position: absolute;border-left: 1px solid gray;box-sizing: border-box;top: 0;bottom: 0;left: 50%;z-index: -1;}#sk-container-id-6 div.sk-parallel-item {display: flex;flex-direction: column;z-index: 1;position: relative;background-color: white;}#sk-container-id-6 div.sk-parallel-item:first-child::after {align-self: flex-end;width: 50%;}#sk-container-id-6 div.sk-parallel-item:last-child::after {align-self: flex-start;width: 50%;}#sk-container-id-6 div.sk-parallel-item:only-child::after {width: 0;}#sk-container-id-6 div.sk-dashed-wrapped {border: 1px dashed gray;margin: 0 0.4em 0.5em 0.4em;box-sizing: border-box;padding-bottom: 0.4em;background-color: white;}#sk-container-id-6 div.sk-label label {font-family: monospace;font-weight: bold;display: inline-block;line-height: 1.2em;}#sk-container-id-6 div.sk-label-container {text-align: center;}#sk-container-id-6 div.sk-container {/* jupyter's `normalize.less` sets `[hidden] { display: none; }` but bootstrap.min.css set `[hidden] { display: none !important; }` so we also need the `!important` here to be able to override the default hidden behavior on the sphinx rendered scikit-learn.org. See: https://github.com/scikit-learn/scikit-learn/issues/21755 */display: inline-block !important;position: relative;}#sk-container-id-6 div.sk-text-repr-fallback {display: none;}</style><div id=\"sk-container-id-6\" class=\"sk-top-container\"><div class=\"sk-text-repr-fallback\"><pre>GradientBoostingRegressor(learning_rate=0.05, n_estimators=500, random_state=11)</pre><b>In a Jupyter environment, please rerun this cell to show the HTML representation or trust the notebook. <br />On GitHub, the HTML representation is unable to render, please try loading this page with nbviewer.org.</b></div><div class=\"sk-container\" hidden><div class=\"sk-item\"><div class=\"sk-estimator sk-toggleable\"><input class=\"sk-toggleable__control sk-hidden--visually\" id=\"sk-estimator-id-9\" type=\"checkbox\" checked><label for=\"sk-estimator-id-9\" class=\"sk-toggleable__label sk-toggleable__label-arrow\">GradientBoostingRegressor</label><div class=\"sk-toggleable__content\"><pre>GradientBoostingRegressor(learning_rate=0.05, n_estimators=500, random_state=11)</pre></div></div></div></div></div>"
      ],
      "text/plain": [
       "GradientBoostingRegressor(learning_rate=0.05, n_estimators=500, random_state=11)"
      ]
     },
     "execution_count": 32,
     "metadata": {},
     "output_type": "execute_result"
    }
   ],
   "source": [
    "# n_iter_no_change : 조기 종료(Early Stopping)과 관련된 파라메터\n",
    "# 지정된 횟수의 반복 동안 더이상 검증 점수 향상이 없으면 학습을 중단한다.\n",
    "gbr2 = GradientBoostingRegressor(max_depth=3, n_estimators=500, learning_rate=0.05, random_state=11) #, n_iter_no_change=10)\n",
    "gbr2.fit(x_, y_)"
   ]
  },
  {
   "cell_type": "code",
   "execution_count": 33,
   "id": "e28c2427-6ae5-4d0c-9d39-24fe2b64d3f4",
   "metadata": {},
   "outputs": [
    {
     "name": "stdout",
     "output_type": "stream",
     "text": [
      "500\n"
     ]
    }
   ],
   "source": [
    "print(gbr2.n_estimators_)"
   ]
  },
  {
   "cell_type": "markdown",
   "id": "ad7ef714-c0ff-4fae-a279-92fb3ef23aa5",
   "metadata": {},
   "source": [
    "- 결과 시각화"
   ]
  },
  {
   "cell_type": "code",
   "execution_count": 34,
   "id": "95657702-4124-43f5-ba58-7c425af186fa",
   "metadata": {},
   "outputs": [
    {
     "data": {
      "image/png": "[encoded data removed]",
      "text/plain": [
       "<Figure size 1100x400 with 2 Axes>"
      ]
     },
     "metadata": {},
     "output_type": "display_data"
    }
   ],
   "source": [
    "plt.figure(figsize=(11, 4))\n",
    "\n",
    "plt.subplot(1, 2, 1)\n",
    "plot_predictions([gbr1], x_, y_, axes=[-0.5, 0.5, -0.2, 0.8], style=\"r-\", label=\"앙상블 예측\")\n",
    "plt.ylabel(\"$y$  \", rotation=0)\n",
    "plt.title(f'learning_rate = {gbr1.learning_rate}, n_estimators={gbr1.n_estimators_}')\n",
    "\n",
    "plt.subplot(1, 2, 2)\n",
    "plot_predictions([gbr2], x_, y_, axes=[-0.5, 0.5, -0.2, 0.8], style=\"r-\", label=\"앙상블 예측\")\n",
    "plt.ylabel(\"$y$  \", rotation=0)\n",
    "plt.title(f'learning_rate = {gbr2.learning_rate}, n_estimators={gbr2.n_estimators_}')\n",
    "\n",
    "plt.show()"
   ]
  },
  {
   "cell_type": "markdown",
   "id": "f3f234f5-a20d-4c0e-b316-dcccc2ebe491",
   "metadata": {},
   "source": [
    "#### GradientBoostingRegressor"
   ]
  },
  {
   "cell_type": "markdown",
   "id": "4cb97426-7b58-40fc-b468-fe872082e0f7",
   "metadata": {},
   "source": [
    "- 모델 생성 및 학습"
   ]
  },
  {
   "cell_type": "code",
   "execution_count": 35,
   "id": "58825655-bc38-4369-a2c0-50e0e795e10b",
   "metadata": {},
   "outputs": [
    {
     "data": {
      "text/html": [
       "<style>#sk-container-id-7 {color: black;background-color: white;}#sk-container-id-7 pre{padding: 0;}#sk-container-id-7 div.sk-toggleable {background-color: white;}#sk-container-id-7 label.sk-toggleable__label {cursor: pointer;display: block;width: 100%;margin-bottom: 0;padding: 0.3em;box-sizing: border-box;text-align: center;}#sk-container-id-7 label.sk-toggleable__label-arrow:before {content: \"▸\";float: left;margin-right: 0.25em;color: #696969;}#sk-container-id-7 label.sk-toggleable__label-arrow:hover:before {color: black;}#sk-container-id-7 div.sk-estimator:hover label.sk-toggleable__label-arrow:before {color: black;}#sk-container-id-7 div.sk-toggleable__content {max-height: 0;max-width: 0;overflow: hidden;text-align: left;background-color: #f0f8ff;}#sk-container-id-7 div.sk-toggleable__content pre {margin: 0.2em;color: black;border-radius: 0.25em;background-color: #f0f8ff;}#sk-container-id-7 input.sk-toggleable__control:checked~div.sk-toggleable__content {max-height: 200px;max-width: 100%;overflow: auto;}#sk-container-id-7 input.sk-toggleable__control:checked~label.sk-toggleable__label-arrow:before {content: \"▾\";}#sk-container-id-7 div.sk-estimator input.sk-toggleable__control:checked~label.sk-toggleable__label {background-color: #d4ebff;}#sk-container-id-7 div.sk-label input.sk-toggleable__control:checked~label.sk-toggleable__label {background-color: #d4ebff;}#sk-container-id-7 input.sk-hidden--visually {border: 0;clip: rect(1px 1px 1px 1px);clip: rect(1px, 1px, 1px, 1px);height: 1px;margin: -1px;overflow: hidden;padding: 0;position: absolute;width: 1px;}#sk-container-id-7 div.sk-estimator {font-family: monospace;background-color: #f0f8ff;border: 1px dotted black;border-radius: 0.25em;box-sizing: border-box;margin-bottom: 0.5em;}#sk-container-id-7 div.sk-estimator:hover {background-color: #d4ebff;}#sk-container-id-7 div.sk-parallel-item::after {content: \"\";width: 100%;border-bottom: 1px solid gray;flex-grow: 1;}#sk-container-id-7 div.sk-label:hover label.sk-toggleable__label {background-color: #d4ebff;}#sk-container-id-7 div.sk-serial::before {content: \"\";position: absolute;border-left: 1px solid gray;box-sizing: border-box;top: 0;bottom: 0;left: 50%;z-index: 0;}#sk-container-id-7 div.sk-serial {display: flex;flex-direction: column;align-items: center;background-color: white;padding-right: 0.2em;padding-left: 0.2em;position: relative;}#sk-container-id-7 div.sk-item {position: relative;z-index: 1;}#sk-container-id-7 div.sk-parallel {display: flex;align-items: stretch;justify-content: center;background-color: white;position: relative;}#sk-container-id-7 div.sk-item::before, #sk-container-id-7 div.sk-parallel-item::before {content: \"\";position: absolute;border-left: 1px solid gray;box-sizing: border-box;top: 0;bottom: 0;left: 50%;z-index: -1;}#sk-container-id-7 div.sk-parallel-item {display: flex;flex-direction: column;z-index: 1;position: relative;background-color: white;}#sk-container-id-7 div.sk-parallel-item:first-child::after {align-self: flex-end;width: 50%;}#sk-container-id-7 div.sk-parallel-item:last-child::after {align-self: flex-start;width: 50%;}#sk-container-id-7 div.sk-parallel-item:only-child::after {width: 0;}#sk-container-id-7 div.sk-dashed-wrapped {border: 1px dashed gray;margin: 0 0.4em 0.5em 0.4em;box-sizing: border-box;padding-bottom: 0.4em;background-color: white;}#sk-container-id-7 div.sk-label label {font-family: monospace;font-weight: bold;display: inline-block;line-height: 1.2em;}#sk-container-id-7 div.sk-label-container {text-align: center;}#sk-container-id-7 div.sk-container {/* jupyter's `normalize.less` sets `[hidden] { display: none; }` but bootstrap.min.css set `[hidden] { display: none !important; }` so we also need the `!important` here to be able to override the default hidden behavior on the sphinx rendered scikit-learn.org. See: https://github.com/scikit-learn/scikit-learn/issues/21755 */display: inline-block !important;position: relative;}#sk-container-id-7 div.sk-text-repr-fallback {display: none;}</style><div id=\"sk-container-id-7\" class=\"sk-top-container\"><div class=\"sk-text-repr-fallback\"><pre>GradientBoostingRegressor(learning_rate=0.05, n_estimators=300, random_state=10)</pre><b>In a Jupyter environment, please rerun this cell to show the HTML representation or trust the notebook. <br />On GitHub, the HTML representation is unable to render, please try loading this page with nbviewer.org.</b></div><div class=\"sk-container\" hidden><div class=\"sk-item\"><div class=\"sk-estimator sk-toggleable\"><input class=\"sk-toggleable__control sk-hidden--visually\" id=\"sk-estimator-id-10\" type=\"checkbox\" checked><label for=\"sk-estimator-id-10\" class=\"sk-toggleable__label sk-toggleable__label-arrow\">GradientBoostingRegressor</label><div class=\"sk-toggleable__content\"><pre>GradientBoostingRegressor(learning_rate=0.05, n_estimators=300, random_state=10)</pre></div></div></div></div></div>"
      ],
      "text/plain": [
       "GradientBoostingRegressor(learning_rate=0.05, n_estimators=300, random_state=10)"
      ]
     },
     "execution_count": 35,
     "metadata": {},
     "output_type": "execute_result"
    }
   ],
   "source": [
    "gbr = GradientBoostingRegressor(\n",
    "    max_depth=3,\n",
    "    learning_rate=0.05,\n",
    "    n_estimators=300,\n",
    "    # n_iter_no_change = 10,\n",
    "    random_state = 10\n",
    ")\n",
    "gbr.fit(x_train, y_train)"
   ]
  },
  {
   "cell_type": "markdown",
   "id": "db140c2e-dbd8-47e3-963e-db374031db22",
   "metadata": {},
   "source": [
    "- 모델 평가"
   ]
  },
  {
   "cell_type": "code",
   "execution_count": 36,
   "id": "8e4ec32a-bc40-450a-97a8-fad06f43fd3b",
   "metadata": {},
   "outputs": [
    {
     "name": "stdout",
     "output_type": "stream",
     "text": [
      "RMSE: 3.141\n",
      "R2 Score: 0.900\n"
     ]
    }
   ],
   "source": [
    "y_hat = gbr.predict(x_test)\n",
    "print(f'RMSE: {np.sqrt(mean_squared_error(y_test, y_hat)):.3f}')\n",
    "print(f'R2 Score: {r2_score(y_test, y_hat):.3f}')"
   ]
  },
  {
   "cell_type": "markdown",
   "id": "1c35f92a-43f0-40db-b389-86c9db35d856",
   "metadata": {},
   "source": [
    "### XGBoost"
   ]
  },
  {
   "cell_type": "code",
   "execution_count": 37,
   "id": "17185094-833c-4cfb-a4ad-c4b3fdff0d5a",
   "metadata": {},
   "outputs": [
    {
     "name": "stdout",
     "output_type": "stream",
     "text": [
      "Requirement already satisfied: xgboost in c:\\users\\user\\anaconda3\\lib\\site-packages (2.0.3)\n",
      "Requirement already satisfied: numpy in c:\\users\\user\\anaconda3\\lib\\site-packages (from xgboost) (1.26.4)\n",
      "Requirement already satisfied: scipy in c:\\users\\user\\anaconda3\\lib\\site-packages (from xgboost) (1.11.4)\n"
     ]
    }
   ],
   "source": [
    "!pip install xgboost"
   ]
  },
  {
   "cell_type": "markdown",
   "id": "d3d8a94b-d774-4cc2-9797-4b0513c4580c",
   "metadata": {},
   "source": [
    "#### 파이썬 래퍼 XGBoost"
   ]
  },
  {
   "cell_type": "markdown",
   "id": "529dee18-c3ee-4a09-8ab4-28f4df41c73c",
   "metadata": {},
   "source": [
    "- 패키지 로딩"
   ]
  },
  {
   "cell_type": "code",
   "execution_count": 38,
   "id": "254e19d1-0c3a-4e4b-912a-84f7dc303e2d",
   "metadata": {},
   "outputs": [],
   "source": [
    "import xgboost as xgb"
   ]
  },
  {
   "cell_type": "markdown",
   "id": "1c183ab3-8bb4-459f-aa3c-fc87fb79d501",
   "metadata": {},
   "source": [
    "- 학습 데이터에서 검증 데이터 분리하기"
   ]
  },
  {
   "cell_type": "code",
   "execution_count": 39,
   "id": "d0796114-c6e6-4c73-a3ff-e17ba1fd3e5f",
   "metadata": {},
   "outputs": [],
   "source": [
    "#x_train, y_train을 분리해서 90%는 학습, 10%는 (매 반복 학습 시 마다) 검증용으로 사용\n",
    "x_train, x_val, y_train, y_val = train_test_split(x_train, y_train, train_size=0.9, random_state= 10)"
   ]
  },
  {
   "cell_type": "markdown",
   "id": "2bd51cc5-2155-4c6c-a98a-028a039cebb0",
   "metadata": {},
   "source": [
    "- DMatrix : XGBoost 전용 데이터 객체"
   ]
  },
  {
   "cell_type": "code",
   "execution_count": 40,
   "id": "9471b99d-404c-4fdc-a943-8e4d2a0f35a0",
   "metadata": {},
   "outputs": [],
   "source": [
    "feature_names = df.drop('MEDV', axis=1).columns\n",
    "dtrain = xgb.DMatrix(x_train, y_train, feature_names=list(feature_names))\n",
    "dtest = xgb.DMatrix(x_test, y_test, feature_names=list(feature_names))\n",
    "dval = xgb.DMatrix(x_val, y_val, feature_names=list(feature_names))"
   ]
  },
  {
   "cell_type": "markdown",
   "id": "26a91099-d45e-4492-89a5-7fa510396350",
   "metadata": {},
   "source": [
    "- 모델 생성 및 학습"
   ]
  },
  {
   "cell_type": "code",
   "execution_count": 41,
   "id": "7a09f624-8920-4249-8df3-61c722a53985",
   "metadata": {},
   "outputs": [],
   "source": [
    "params = {\n",
    "    'eval_metric':'rmse', # 성능평가지표\n",
    "    'objective' : 'reg:squarederror', #손실함수 지정\n",
    "    'max_depth' : 3, # 의사결정나무의 깊이\n",
    "    'eta' : 0.1 # 학습율\n",
    "}"
   ]
  },
  {
   "cell_type": "code",
   "execution_count": 42,
   "id": "3d1dd45b-5417-44c1-9b2c-a5290dd65e03",
   "metadata": {},
   "outputs": [
    {
     "name": "stdout",
     "output_type": "stream",
     "text": [
      "[0]\ttrain-rmse:8.45604\teval-rmse:6.77447\n",
      "[1]\ttrain-rmse:7.81105\teval-rmse:6.33277\n",
      "[2]\ttrain-rmse:7.22947\teval-rmse:5.93251\n",
      "[3]\ttrain-rmse:6.72478\teval-rmse:5.64591\n",
      "[4]\ttrain-rmse:6.25765\teval-rmse:5.31793\n",
      "[5]\ttrain-rmse:5.85585\teval-rmse:5.10174\n",
      "[6]\ttrain-rmse:5.49278\teval-rmse:4.91791\n",
      "[7]\ttrain-rmse:5.12672\teval-rmse:4.68755\n",
      "[8]\ttrain-rmse:4.83821\teval-rmse:4.52721\n",
      "[9]\ttrain-rmse:4.54551\teval-rmse:4.36852\n",
      "[10]\ttrain-rmse:4.28768\teval-rmse:4.19689\n",
      "[11]\ttrain-rmse:4.05949\teval-rmse:4.08055\n",
      "[12]\ttrain-rmse:3.85760\teval-rmse:3.95697\n",
      "[13]\ttrain-rmse:3.67843\teval-rmse:3.85286\n",
      "[14]\ttrain-rmse:3.51753\teval-rmse:3.74871\n",
      "[15]\ttrain-rmse:3.36352\teval-rmse:3.68059\n",
      "[16]\ttrain-rmse:3.23409\teval-rmse:3.61263\n",
      "[17]\ttrain-rmse:3.11430\teval-rmse:3.56835\n",
      "[18]\ttrain-rmse:3.01372\teval-rmse:3.50601\n",
      "[19]\ttrain-rmse:2.92301\teval-rmse:3.45360\n",
      "[20]\ttrain-rmse:2.83922\teval-rmse:3.42702\n",
      "[21]\ttrain-rmse:2.76656\teval-rmse:3.39242\n",
      "[22]\ttrain-rmse:2.69625\teval-rmse:3.35036\n",
      "[23]\ttrain-rmse:2.63599\teval-rmse:3.34103\n",
      "[24]\ttrain-rmse:2.57982\teval-rmse:3.29767\n",
      "[25]\ttrain-rmse:2.52913\teval-rmse:3.26032\n",
      "[26]\ttrain-rmse:2.48319\teval-rmse:3.24417\n",
      "[27]\ttrain-rmse:2.44345\teval-rmse:3.21631\n",
      "[28]\ttrain-rmse:2.40594\teval-rmse:3.21250\n",
      "[29]\ttrain-rmse:2.35737\teval-rmse:3.16567\n",
      "[30]\ttrain-rmse:2.32574\teval-rmse:3.13994\n",
      "[31]\ttrain-rmse:2.29599\teval-rmse:3.10939\n",
      "[32]\ttrain-rmse:2.27077\teval-rmse:3.09964\n",
      "[33]\ttrain-rmse:2.23072\teval-rmse:3.09099\n",
      "[34]\ttrain-rmse:2.19885\teval-rmse:3.05838\n",
      "[35]\ttrain-rmse:2.17530\teval-rmse:3.04557\n",
      "[36]\ttrain-rmse:2.14665\teval-rmse:3.02532\n",
      "[37]\ttrain-rmse:2.12559\teval-rmse:3.01542\n",
      "[38]\ttrain-rmse:2.10056\teval-rmse:3.00749\n",
      "[39]\ttrain-rmse:2.07292\teval-rmse:2.98589\n",
      "[40]\ttrain-rmse:2.05122\teval-rmse:2.97308\n",
      "[41]\ttrain-rmse:2.03541\teval-rmse:2.97646\n",
      "[42]\ttrain-rmse:2.01711\teval-rmse:2.96983\n",
      "[43]\ttrain-rmse:1.99329\teval-rmse:2.95293\n",
      "[44]\ttrain-rmse:1.97539\teval-rmse:2.94605\n",
      "[45]\ttrain-rmse:1.94754\teval-rmse:2.92952\n",
      "[46]\ttrain-rmse:1.92843\teval-rmse:2.94040\n",
      "[47]\ttrain-rmse:1.90717\teval-rmse:2.91361\n",
      "[48]\ttrain-rmse:1.89188\teval-rmse:2.89501\n",
      "[49]\ttrain-rmse:1.87753\teval-rmse:2.88656\n",
      "[50]\ttrain-rmse:1.86692\teval-rmse:2.89042\n",
      "[51]\ttrain-rmse:1.85160\teval-rmse:2.86499\n",
      "[52]\ttrain-rmse:1.83779\teval-rmse:2.87367\n",
      "[53]\ttrain-rmse:1.82833\teval-rmse:2.87200\n",
      "[54]\ttrain-rmse:1.80681\teval-rmse:2.85778\n",
      "[55]\ttrain-rmse:1.79425\teval-rmse:2.85264\n",
      "[56]\ttrain-rmse:1.78414\teval-rmse:2.84570\n",
      "[57]\ttrain-rmse:1.77608\teval-rmse:2.84431\n",
      "[58]\ttrain-rmse:1.76908\teval-rmse:2.84314\n",
      "[59]\ttrain-rmse:1.75619\teval-rmse:2.83084\n",
      "[60]\ttrain-rmse:1.74554\teval-rmse:2.82469\n",
      "[61]\ttrain-rmse:1.73104\teval-rmse:2.80670\n",
      "[62]\ttrain-rmse:1.72484\teval-rmse:2.80283\n",
      "[63]\ttrain-rmse:1.71725\teval-rmse:2.79767\n",
      "[64]\ttrain-rmse:1.71176\teval-rmse:2.79580\n",
      "[65]\ttrain-rmse:1.69848\teval-rmse:2.78705\n",
      "[66]\ttrain-rmse:1.68380\teval-rmse:2.78312\n",
      "[67]\ttrain-rmse:1.67373\teval-rmse:2.78599\n",
      "[68]\ttrain-rmse:1.66856\teval-rmse:2.78951\n",
      "[69]\ttrain-rmse:1.65991\teval-rmse:2.78120\n",
      "[70]\ttrain-rmse:1.65033\teval-rmse:2.77240\n",
      "[71]\ttrain-rmse:1.64434\teval-rmse:2.76747\n",
      "[72]\ttrain-rmse:1.63975\teval-rmse:2.77090\n",
      "[73]\ttrain-rmse:1.63136\teval-rmse:2.76621\n",
      "[74]\ttrain-rmse:1.62742\teval-rmse:2.76934\n",
      "[75]\ttrain-rmse:1.61346\teval-rmse:2.75987\n",
      "[76]\ttrain-rmse:1.60561\teval-rmse:2.75481\n",
      "[77]\ttrain-rmse:1.59038\teval-rmse:2.73617\n",
      "[78]\ttrain-rmse:1.57985\teval-rmse:2.74574\n",
      "[79]\ttrain-rmse:1.57456\teval-rmse:2.74939\n",
      "[80]\ttrain-rmse:1.57106\teval-rmse:2.74720\n",
      "[81]\ttrain-rmse:1.56345\teval-rmse:2.75357\n",
      "[82]\ttrain-rmse:1.55186\teval-rmse:2.75123\n",
      "[83]\ttrain-rmse:1.54877\teval-rmse:2.75421\n",
      "[84]\ttrain-rmse:1.53392\teval-rmse:2.75168\n",
      "[85]\ttrain-rmse:1.52632\teval-rmse:2.75565\n",
      "[86]\ttrain-rmse:1.51771\teval-rmse:2.73980\n",
      "[87]\ttrain-rmse:1.51241\teval-rmse:2.73482\n",
      "[88]\ttrain-rmse:1.50863\teval-rmse:2.73658\n",
      "[89]\ttrain-rmse:1.50171\teval-rmse:2.72511\n",
      "[90]\ttrain-rmse:1.49908\teval-rmse:2.72777\n",
      "[91]\ttrain-rmse:1.48193\teval-rmse:2.71542\n",
      "[92]\ttrain-rmse:1.46991\teval-rmse:2.70608\n",
      "[93]\ttrain-rmse:1.46591\teval-rmse:2.70074\n",
      "[94]\ttrain-rmse:1.46177\teval-rmse:2.70174\n",
      "[95]\ttrain-rmse:1.45577\teval-rmse:2.69467\n",
      "[96]\ttrain-rmse:1.44270\teval-rmse:2.67106\n",
      "[97]\ttrain-rmse:1.43558\teval-rmse:2.65845\n",
      "[98]\ttrain-rmse:1.43032\teval-rmse:2.65116\n",
      "[99]\ttrain-rmse:1.42614\teval-rmse:2.64732\n",
      "[100]\ttrain-rmse:1.41975\teval-rmse:2.64516\n",
      "[101]\ttrain-rmse:1.41017\teval-rmse:2.63657\n",
      "[102]\ttrain-rmse:1.40481\teval-rmse:2.63761\n",
      "[103]\ttrain-rmse:1.40089\teval-rmse:2.63964\n",
      "[104]\ttrain-rmse:1.39652\teval-rmse:2.63458\n",
      "[105]\ttrain-rmse:1.39442\teval-rmse:2.63387\n",
      "[106]\ttrain-rmse:1.38991\teval-rmse:2.63420\n",
      "[107]\ttrain-rmse:1.37981\teval-rmse:2.63052\n",
      "[108]\ttrain-rmse:1.37252\teval-rmse:2.63341\n",
      "[109]\ttrain-rmse:1.36994\teval-rmse:2.63330\n",
      "[110]\ttrain-rmse:1.35509\teval-rmse:2.62324\n",
      "[111]\ttrain-rmse:1.35038\teval-rmse:2.62548\n",
      "[112]\ttrain-rmse:1.34271\teval-rmse:2.62899\n",
      "[113]\ttrain-rmse:1.34096\teval-rmse:2.62921\n",
      "[114]\ttrain-rmse:1.33307\teval-rmse:2.63295\n",
      "[115]\ttrain-rmse:1.32686\teval-rmse:2.63319\n",
      "[116]\ttrain-rmse:1.32307\teval-rmse:2.63048\n",
      "[117]\ttrain-rmse:1.31556\teval-rmse:2.62995\n",
      "[118]\ttrain-rmse:1.31057\teval-rmse:2.63068\n",
      "[119]\ttrain-rmse:1.30749\teval-rmse:2.62886\n",
      "[120]\ttrain-rmse:1.30328\teval-rmse:2.62862\n"
     ]
    }
   ],
   "source": [
    "# num_boost_round:나무의 개수(반복학습 수)\n",
    "# early_stopping_rounds : eval_metric 결과가 early_stopping_rounds 횟수 동안 개선되지 않으면 early_stopping_rounds에 도달하기 전에 조기 종료한다.(evals<성능 평가를 위한 평가용 데이터 셋>과 함께 설정해야 한다.) \n",
    "xgb_model = xgb.train(params = params, dtrain=dtrain, num_boost_round=500, early_stopping_rounds=10, evals=[(dtrain, 'train'),(dval, 'eval')]) # 첫번째 데이터는 학습, 두번째 데이터는 평가용"
   ]
  },
  {
   "cell_type": "markdown",
   "id": "d11afed0-dce1-4cb3-93c6-64093238086f",
   "metadata": {},
   "source": [
    "- 모델 평가"
   ]
  },
  {
   "cell_type": "code",
   "execution_count": 43,
   "id": "79faa550-be44-4783-b5d3-d6ac03c891a0",
   "metadata": {},
   "outputs": [
    {
     "name": "stdout",
     "output_type": "stream",
     "text": [
      "RMSE: 3.356\n",
      "R2 Score: 0.886\n"
     ]
    }
   ],
   "source": [
    "y_hat = xgb_model.predict(dtest)\n",
    "print(f'RMSE: {np.sqrt(mean_squared_error(y_test, y_hat)):.3f}')\n",
    "print(f'R2 Score: {r2_score(y_test, y_hat):.3f}')"
   ]
  },
  {
   "cell_type": "markdown",
   "id": "c4e2b1ff-49bb-4e90-8554-5023b3c6340c",
   "metadata": {},
   "source": [
    "- Feature Importance "
   ]
  },
  {
   "cell_type": "code",
   "execution_count": 44,
   "id": "f27da554-6939-4e3c-b0fb-1807f6185543",
   "metadata": {},
   "outputs": [
    {
     "data": {
      "image/png": "[encoded data removed]",
      "text/plain": [
       "<Figure size 640x480 with 1 Axes>"
      ]
     },
     "metadata": {},
     "output_type": "display_data"
    }
   ],
   "source": [
    "import matplotlib.pyplot as plt\n",
    "\n",
    "xgb.plot_importance(xgb_model)\n",
    "plt.show()"
   ]
  },
  {
   "cell_type": "markdown",
   "id": "a405849d-1ab7-4464-8f25-920a49088b5b",
   "metadata": {},
   "source": [
    "#### 사이킷런 래퍼 XGBoost"
   ]
  },
  {
   "cell_type": "code",
   "execution_count": 45,
   "id": "00344aaf-f2ab-46cb-8e37-3660a8be550e",
   "metadata": {},
   "outputs": [
    {
     "name": "stdout",
     "output_type": "stream",
     "text": [
      "[0]\tvalidation_0-rmse:8.45604\tvalidation_1-rmse:6.77447\n",
      "[1]\tvalidation_0-rmse:7.81105\tvalidation_1-rmse:6.33277\n",
      "[2]\tvalidation_0-rmse:7.22947\tvalidation_1-rmse:5.93251\n",
      "[3]\tvalidation_0-rmse:6.72478\tvalidation_1-rmse:5.64591\n",
      "[4]\tvalidation_0-rmse:6.25765\tvalidation_1-rmse:5.31793\n",
      "[5]\tvalidation_0-rmse:5.85585\tvalidation_1-rmse:5.10174\n",
      "[6]\tvalidation_0-rmse:5.49278\tvalidation_1-rmse:4.91791\n",
      "[7]\tvalidation_0-rmse:5.12672\tvalidation_1-rmse:4.68755\n",
      "[8]\tvalidation_0-rmse:4.83821\tvalidation_1-rmse:4.52721\n",
      "[9]\tvalidation_0-rmse:4.54551\tvalidation_1-rmse:4.36852\n",
      "[10]\tvalidation_0-rmse:4.28768\tvalidation_1-rmse:4.19689\n",
      "[11]\tvalidation_0-rmse:4.05949\tvalidation_1-rmse:4.08055\n",
      "[12]\tvalidation_0-rmse:3.85760\tvalidation_1-rmse:3.95697\n",
      "[13]\tvalidation_0-rmse:3.67843\tvalidation_1-rmse:3.85286\n",
      "[14]\tvalidation_0-rmse:3.51753\tvalidation_1-rmse:3.74871\n",
      "[15]\tvalidation_0-rmse:3.36352\tvalidation_1-rmse:3.68059\n",
      "[16]\tvalidation_0-rmse:3.23409\tvalidation_1-rmse:3.61263\n",
      "[17]\tvalidation_0-rmse:3.11430\tvalidation_1-rmse:3.56835\n",
      "[18]\tvalidation_0-rmse:3.01372\tvalidation_1-rmse:3.50601\n",
      "[19]\tvalidation_0-rmse:2.92301\tvalidation_1-rmse:3.45360\n",
      "[20]\tvalidation_0-rmse:2.83922\tvalidation_1-rmse:3.42702\n",
      "[21]\tvalidation_0-rmse:2.76656\tvalidation_1-rmse:3.39242\n",
      "[22]\tvalidation_0-rmse:2.69625\tvalidation_1-rmse:3.35036\n",
      "[23]\tvalidation_0-rmse:2.63599\tvalidation_1-rmse:3.34103\n",
      "[24]\tvalidation_0-rmse:2.57982\tvalidation_1-rmse:3.29767\n",
      "[25]\tvalidation_0-rmse:2.52913\tvalidation_1-rmse:3.26032\n",
      "[26]\tvalidation_0-rmse:2.48319\tvalidation_1-rmse:3.24417\n",
      "[27]\tvalidation_0-rmse:2.44345\tvalidation_1-rmse:3.21631\n",
      "[28]\tvalidation_0-rmse:2.40594\tvalidation_1-rmse:3.21250\n",
      "[29]\tvalidation_0-rmse:2.35737\tvalidation_1-rmse:3.16567\n",
      "[30]\tvalidation_0-rmse:2.32574\tvalidation_1-rmse:3.13994\n",
      "[31]\tvalidation_0-rmse:2.29599\tvalidation_1-rmse:3.10939\n",
      "[32]\tvalidation_0-rmse:2.27077\tvalidation_1-rmse:3.09964\n",
      "[33]\tvalidation_0-rmse:2.23072\tvalidation_1-rmse:3.09099\n",
      "[34]\tvalidation_0-rmse:2.19885\tvalidation_1-rmse:3.05838\n",
      "[35]\tvalidation_0-rmse:2.17530\tvalidation_1-rmse:3.04557\n",
      "[36]\tvalidation_0-rmse:2.14665\tvalidation_1-rmse:3.02532\n",
      "[37]\tvalidation_0-rmse:2.12559\tvalidation_1-rmse:3.01542\n",
      "[38]\tvalidation_0-rmse:2.10056\tvalidation_1-rmse:3.00749\n",
      "[39]\tvalidation_0-rmse:2.07292\tvalidation_1-rmse:2.98589\n",
      "[40]\tvalidation_0-rmse:2.05122\tvalidation_1-rmse:2.97308\n",
      "[41]\tvalidation_0-rmse:2.03541\tvalidation_1-rmse:2.97646\n",
      "[42]\tvalidation_0-rmse:2.01711\tvalidation_1-rmse:2.96983\n",
      "[43]\tvalidation_0-rmse:1.99329\tvalidation_1-rmse:2.95293\n",
      "[44]\tvalidation_0-rmse:1.97539\tvalidation_1-rmse:2.94605\n",
      "[45]\tvalidation_0-rmse:1.94754\tvalidation_1-rmse:2.92952\n",
      "[46]\tvalidation_0-rmse:1.92843\tvalidation_1-rmse:2.94040\n",
      "[47]\tvalidation_0-rmse:1.90717\tvalidation_1-rmse:2.91361\n",
      "[48]\tvalidation_0-rmse:1.89188\tvalidation_1-rmse:2.89501\n",
      "[49]\tvalidation_0-rmse:1.87753\tvalidation_1-rmse:2.88656\n",
      "[50]\tvalidation_0-rmse:1.86692\tvalidation_1-rmse:2.89042\n",
      "[51]\tvalidation_0-rmse:1.85160\tvalidation_1-rmse:2.86499\n",
      "[52]\tvalidation_0-rmse:1.83779\tvalidation_1-rmse:2.87367\n",
      "[53]\tvalidation_0-rmse:1.82833\tvalidation_1-rmse:2.87200\n",
      "[54]\tvalidation_0-rmse:1.80681\tvalidation_1-rmse:2.85778\n",
      "[55]\tvalidation_0-rmse:1.79425\tvalidation_1-rmse:2.85264\n",
      "[56]\tvalidation_0-rmse:1.78414\tvalidation_1-rmse:2.84570\n",
      "[57]\tvalidation_0-rmse:1.77608\tvalidation_1-rmse:2.84431\n",
      "[58]\tvalidation_0-rmse:1.76908\tvalidation_1-rmse:2.84314\n",
      "[59]\tvalidation_0-rmse:1.75619\tvalidation_1-rmse:2.83084\n",
      "[60]\tvalidation_0-rmse:1.74554\tvalidation_1-rmse:2.82469\n",
      "[61]\tvalidation_0-rmse:1.73104\tvalidation_1-rmse:2.80670\n",
      "[62]\tvalidation_0-rmse:1.72484\tvalidation_1-rmse:2.80283\n",
      "[63]\tvalidation_0-rmse:1.71725\tvalidation_1-rmse:2.79767\n",
      "[64]\tvalidation_0-rmse:1.71176\tvalidation_1-rmse:2.79580\n",
      "[65]\tvalidation_0-rmse:1.69848\tvalidation_1-rmse:2.78705\n",
      "[66]\tvalidation_0-rmse:1.68380\tvalidation_1-rmse:2.78312\n",
      "[67]\tvalidation_0-rmse:1.67373\tvalidation_1-rmse:2.78599\n",
      "[68]\tvalidation_0-rmse:1.66856\tvalidation_1-rmse:2.78951\n",
      "[69]\tvalidation_0-rmse:1.65991\tvalidation_1-rmse:2.78120\n",
      "[70]\tvalidation_0-rmse:1.65033\tvalidation_1-rmse:2.77240\n",
      "[71]\tvalidation_0-rmse:1.64434\tvalidation_1-rmse:2.76747\n",
      "[72]\tvalidation_0-rmse:1.63975\tvalidation_1-rmse:2.77090\n",
      "[73]\tvalidation_0-rmse:1.63136\tvalidation_1-rmse:2.76621\n",
      "[74]\tvalidation_0-rmse:1.62742\tvalidation_1-rmse:2.76934\n",
      "[75]\tvalidation_0-rmse:1.61346\tvalidation_1-rmse:2.75987\n",
      "[76]\tvalidation_0-rmse:1.60561\tvalidation_1-rmse:2.75481\n",
      "[77]\tvalidation_0-rmse:1.59038\tvalidation_1-rmse:2.73617\n",
      "[78]\tvalidation_0-rmse:1.57985\tvalidation_1-rmse:2.74574\n",
      "[79]\tvalidation_0-rmse:1.57456\tvalidation_1-rmse:2.74939\n",
      "[80]\tvalidation_0-rmse:1.57106\tvalidation_1-rmse:2.74720\n",
      "[81]\tvalidation_0-rmse:1.56345\tvalidation_1-rmse:2.75357\n",
      "[82]\tvalidation_0-rmse:1.55186\tvalidation_1-rmse:2.75123\n",
      "[83]\tvalidation_0-rmse:1.54877\tvalidation_1-rmse:2.75421\n",
      "[84]\tvalidation_0-rmse:1.53392\tvalidation_1-rmse:2.75168\n",
      "[85]\tvalidation_0-rmse:1.52632\tvalidation_1-rmse:2.75565\n",
      "[86]\tvalidation_0-rmse:1.51771\tvalidation_1-rmse:2.73980\n",
      "[87]\tvalidation_0-rmse:1.51241\tvalidation_1-rmse:2.73482\n",
      "[88]\tvalidation_0-rmse:1.50863\tvalidation_1-rmse:2.73658\n",
      "[89]\tvalidation_0-rmse:1.50171\tvalidation_1-rmse:2.72511\n",
      "[90]\tvalidation_0-rmse:1.49908\tvalidation_1-rmse:2.72777\n",
      "[91]\tvalidation_0-rmse:1.48193\tvalidation_1-rmse:2.71542\n",
      "[92]\tvalidation_0-rmse:1.46991\tvalidation_1-rmse:2.70608\n",
      "[93]\tvalidation_0-rmse:1.46591\tvalidation_1-rmse:2.70074\n",
      "[94]\tvalidation_0-rmse:1.46177\tvalidation_1-rmse:2.70174\n",
      "[95]\tvalidation_0-rmse:1.45577\tvalidation_1-rmse:2.69467\n",
      "[96]\tvalidation_0-rmse:1.44270\tvalidation_1-rmse:2.67106\n",
      "[97]\tvalidation_0-rmse:1.43558\tvalidation_1-rmse:2.65845\n",
      "[98]\tvalidation_0-rmse:1.43032\tvalidation_1-rmse:2.65116\n",
      "[99]\tvalidation_0-rmse:1.42614\tvalidation_1-rmse:2.64732\n",
      "[100]\tvalidation_0-rmse:1.41975\tvalidation_1-rmse:2.64516\n",
      "[101]\tvalidation_0-rmse:1.41017\tvalidation_1-rmse:2.63657\n",
      "[102]\tvalidation_0-rmse:1.40481\tvalidation_1-rmse:2.63761\n",
      "[103]\tvalidation_0-rmse:1.40089\tvalidation_1-rmse:2.63964\n",
      "[104]\tvalidation_0-rmse:1.39652\tvalidation_1-rmse:2.63458\n",
      "[105]\tvalidation_0-rmse:1.39442\tvalidation_1-rmse:2.63387\n",
      "[106]\tvalidation_0-rmse:1.38991\tvalidation_1-rmse:2.63420\n",
      "[107]\tvalidation_0-rmse:1.37981\tvalidation_1-rmse:2.63052\n",
      "[108]\tvalidation_0-rmse:1.37252\tvalidation_1-rmse:2.63341\n",
      "[109]\tvalidation_0-rmse:1.36994\tvalidation_1-rmse:2.63330\n",
      "[110]\tvalidation_0-rmse:1.35509\tvalidation_1-rmse:2.62324\n",
      "[111]\tvalidation_0-rmse:1.35038\tvalidation_1-rmse:2.62548\n",
      "[112]\tvalidation_0-rmse:1.34271\tvalidation_1-rmse:2.62899\n",
      "[113]\tvalidation_0-rmse:1.34096\tvalidation_1-rmse:2.62921\n",
      "[114]\tvalidation_0-rmse:1.33307\tvalidation_1-rmse:2.63295\n",
      "[115]\tvalidation_0-rmse:1.32686\tvalidation_1-rmse:2.63319\n",
      "[116]\tvalidation_0-rmse:1.32307\tvalidation_1-rmse:2.63048\n",
      "[117]\tvalidation_0-rmse:1.31556\tvalidation_1-rmse:2.62995\n",
      "[118]\tvalidation_0-rmse:1.31057\tvalidation_1-rmse:2.63068\n",
      "[119]\tvalidation_0-rmse:1.30749\tvalidation_1-rmse:2.62886\n",
      "[120]\tvalidation_0-rmse:1.30328\tvalidation_1-rmse:2.62862\n"
     ]
    },
    {
     "data": {
      "text/html": [
       "<style>#sk-container-id-8 {color: black;background-color: white;}#sk-container-id-8 pre{padding: 0;}#sk-container-id-8 div.sk-toggleable {background-color: white;}#sk-container-id-8 label.sk-toggleable__label {cursor: pointer;display: block;width: 100%;margin-bottom: 0;padding: 0.3em;box-sizing: border-box;text-align: center;}#sk-container-id-8 label.sk-toggleable__label-arrow:before {content: \"▸\";float: left;margin-right: 0.25em;color: #696969;}#sk-container-id-8 label.sk-toggleable__label-arrow:hover:before {color: black;}#sk-container-id-8 div.sk-estimator:hover label.sk-toggleable__label-arrow:before {color: black;}#sk-container-id-8 div.sk-toggleable__content {max-height: 0;max-width: 0;overflow: hidden;text-align: left;background-color: #f0f8ff;}#sk-container-id-8 div.sk-toggleable__content pre {margin: 0.2em;color: black;border-radius: 0.25em;background-color: #f0f8ff;}#sk-container-id-8 input.sk-toggleable__control:checked~div.sk-toggleable__content {max-height: 200px;max-width: 100%;overflow: auto;}#sk-container-id-8 input.sk-toggleable__control:checked~label.sk-toggleable__label-arrow:before {content: \"▾\";}#sk-container-id-8 div.sk-estimator input.sk-toggleable__control:checked~label.sk-toggleable__label {background-color: #d4ebff;}#sk-container-id-8 div.sk-label input.sk-toggleable__control:checked~label.sk-toggleable__label {background-color: #d4ebff;}#sk-container-id-8 input.sk-hidden--visually {border: 0;clip: rect(1px 1px 1px 1px);clip: rect(1px, 1px, 1px, 1px);height: 1px;margin: -1px;overflow: hidden;padding: 0;position: absolute;width: 1px;}#sk-container-id-8 div.sk-estimator {font-family: monospace;background-color: #f0f8ff;border: 1px dotted black;border-radius: 0.25em;box-sizing: border-box;margin-bottom: 0.5em;}#sk-container-id-8 div.sk-estimator:hover {background-color: #d4ebff;}#sk-container-id-8 div.sk-parallel-item::after {content: \"\";width: 100%;border-bottom: 1px solid gray;flex-grow: 1;}#sk-container-id-8 div.sk-label:hover label.sk-toggleable__label {background-color: #d4ebff;}#sk-container-id-8 div.sk-serial::before {content: \"\";position: absolute;border-left: 1px solid gray;box-sizing: border-box;top: 0;bottom: 0;left: 50%;z-index: 0;}#sk-container-id-8 div.sk-serial {display: flex;flex-direction: column;align-items: center;background-color: white;padding-right: 0.2em;padding-left: 0.2em;position: relative;}#sk-container-id-8 div.sk-item {position: relative;z-index: 1;}#sk-container-id-8 div.sk-parallel {display: flex;align-items: stretch;justify-content: center;background-color: white;position: relative;}#sk-container-id-8 div.sk-item::before, #sk-container-id-8 div.sk-parallel-item::before {content: \"\";position: absolute;border-left: 1px solid gray;box-sizing: border-box;top: 0;bottom: 0;left: 50%;z-index: -1;}#sk-container-id-8 div.sk-parallel-item {display: flex;flex-direction: column;z-index: 1;position: relative;background-color: white;}#sk-container-id-8 div.sk-parallel-item:first-child::after {align-self: flex-end;width: 50%;}#sk-container-id-8 div.sk-parallel-item:last-child::after {align-self: flex-start;width: 50%;}#sk-container-id-8 div.sk-parallel-item:only-child::after {width: 0;}#sk-container-id-8 div.sk-dashed-wrapped {border: 1px dashed gray;margin: 0 0.4em 0.5em 0.4em;box-sizing: border-box;padding-bottom: 0.4em;background-color: white;}#sk-container-id-8 div.sk-label label {font-family: monospace;font-weight: bold;display: inline-block;line-height: 1.2em;}#sk-container-id-8 div.sk-label-container {text-align: center;}#sk-container-id-8 div.sk-container {/* jupyter's `normalize.less` sets `[hidden] { display: none; }` but bootstrap.min.css set `[hidden] { display: none !important; }` so we also need the `!important` here to be able to override the default hidden behavior on the sphinx rendered scikit-learn.org. See: https://github.com/scikit-learn/scikit-learn/issues/21755 */display: inline-block !important;position: relative;}#sk-container-id-8 div.sk-text-repr-fallback {display: none;}</style><div id=\"sk-container-id-8\" class=\"sk-top-container\"><div class=\"sk-text-repr-fallback\"><pre>XGBRegressor(base_score=None, booster=None, callbacks=None,\n",
       "             colsample_bylevel=None, colsample_bynode=None,\n",
       "             colsample_bytree=None, device=None, early_stopping_rounds=None,\n",
       "             enable_categorical=False, eval_metric=None, feature_types=None,\n",
       "             gamma=None, grow_policy=None, importance_type=None,\n",
       "             interaction_constraints=None, learning_rate=0.1, max_bin=None,\n",
       "             max_cat_threshold=None, max_cat_to_onehot=None,\n",
       "             max_delta_step=None, max_depth=3, max_leaves=None,\n",
       "             min_child_weight=None, missing=nan, monotone_constraints=None,\n",
       "             multi_strategy=None, n_estimators=500, n_jobs=None,\n",
       "             num_parallel_tree=None, random_state=None, ...)</pre><b>In a Jupyter environment, please rerun this cell to show the HTML representation or trust the notebook. <br />On GitHub, the HTML representation is unable to render, please try loading this page with nbviewer.org.</b></div><div class=\"sk-container\" hidden><div class=\"sk-item\"><div class=\"sk-estimator sk-toggleable\"><input class=\"sk-toggleable__control sk-hidden--visually\" id=\"sk-estimator-id-11\" type=\"checkbox\" checked><label for=\"sk-estimator-id-11\" class=\"sk-toggleable__label sk-toggleable__label-arrow\">XGBRegressor</label><div class=\"sk-toggleable__content\"><pre>XGBRegressor(base_score=None, booster=None, callbacks=None,\n",
       "             colsample_bylevel=None, colsample_bynode=None,\n",
       "             colsample_bytree=None, device=None, early_stopping_rounds=None,\n",
       "             enable_categorical=False, eval_metric=None, feature_types=None,\n",
       "             gamma=None, grow_policy=None, importance_type=None,\n",
       "             interaction_constraints=None, learning_rate=0.1, max_bin=None,\n",
       "             max_cat_threshold=None, max_cat_to_onehot=None,\n",
       "             max_delta_step=None, max_depth=3, max_leaves=None,\n",
       "             min_child_weight=None, missing=nan, monotone_constraints=None,\n",
       "             multi_strategy=None, n_estimators=500, n_jobs=None,\n",
       "             num_parallel_tree=None, random_state=None, ...)</pre></div></div></div></div></div>"
      ],
      "text/plain": [
       "XGBRegressor(base_score=None, booster=None, callbacks=None,\n",
       "             colsample_bylevel=None, colsample_bynode=None,\n",
       "             colsample_bytree=None, device=None, early_stopping_rounds=None,\n",
       "             enable_categorical=False, eval_metric=None, feature_types=None,\n",
       "             gamma=None, grow_policy=None, importance_type=None,\n",
       "             interaction_constraints=None, learning_rate=0.1, max_bin=None,\n",
       "             max_cat_threshold=None, max_cat_to_onehot=None,\n",
       "             max_delta_step=None, max_depth=3, max_leaves=None,\n",
       "             min_child_weight=None, missing=nan, monotone_constraints=None,\n",
       "             multi_strategy=None, n_estimators=500, n_jobs=None,\n",
       "             num_parallel_tree=None, random_state=None, ...)"
      ]
     },
     "execution_count": 45,
     "metadata": {},
     "output_type": "execute_result"
    }
   ],
   "source": [
    "from xgboost import XGBRegressor\n",
    "\n",
    "xgb_reg = XGBRegressor(n_estimators=500, learning_rate = 0.1, max_depth=3)\n",
    "evals = [(x_train, y_train),(x_val, y_val)]\n",
    "xgb_reg.fit(x_train, y_train, early_stopping_rounds=10, eval_metric='rmse', eval_set=evals, verbose = True) #verbose : 학습 과정 콘솔 출력 여부"
   ]
  },
  {
   "cell_type": "code",
   "execution_count": 46,
   "id": "9277e0b4-e72c-474b-aabd-4e52f5f2e18e",
   "metadata": {},
   "outputs": [
    {
     "name": "stdout",
     "output_type": "stream",
     "text": [
      "RMSE: 3.352\n",
      "R2 Score: 0.886\n"
     ]
    }
   ],
   "source": [
    "y_hat = xgb_reg.predict(x_test)\n",
    "print(f'RMSE: {np.sqrt(mean_squared_error(y_test, y_hat)):.3f}')\n",
    "print(f'R2 Score: {r2_score(y_test, y_hat):.3f}')"
   ]
  },
  {
   "cell_type": "markdown",
   "id": "9ee4cce3-9d74-40c3-bb45-482a2a9f8b5a",
   "metadata": {},
   "source": [
    "### LightGBM (사이킷런 래퍼)"
   ]
  },
  {
   "cell_type": "code",
   "execution_count": 47,
   "id": "7c25118d-370d-47c0-bd19-3a8c0ef650a3",
   "metadata": {},
   "outputs": [
    {
     "name": "stdout",
     "output_type": "stream",
     "text": [
      "Requirement already satisfied: lightgbm in c:\\users\\user\\anaconda3\\lib\\site-packages (4.3.0)\n",
      "Requirement already satisfied: numpy in c:\\users\\user\\anaconda3\\lib\\site-packages (from lightgbm) (1.26.4)\n",
      "Requirement already satisfied: scipy in c:\\users\\user\\anaconda3\\lib\\site-packages (from lightgbm) (1.11.4)\n"
     ]
    }
   ],
   "source": [
    "!pip install lightgbm"
   ]
  },
  {
   "cell_type": "code",
   "execution_count": 48,
   "id": "fabaa5aa-7708-494a-abb8-cfdc71af4a77",
   "metadata": {},
   "outputs": [],
   "source": [
    "import lightgbm"
   ]
  },
  {
   "cell_type": "code",
   "execution_count": 49,
   "id": "716dafd4-b77b-4db9-a79a-f52e16efcd81",
   "metadata": {},
   "outputs": [],
   "source": [
    "from lightgbm import LGBMRegressor, early_stopping"
   ]
  },
  {
   "cell_type": "code",
   "execution_count": 50,
   "id": "cefd6329-e6ea-4d95-baf5-e23cbc73ea38",
   "metadata": {},
   "outputs": [],
   "source": [
    "x_train, x_val, y_train, y_val = train_test_split(x_train, y_train, train_size=0.8, random_state=10)"
   ]
  },
  {
   "cell_type": "code",
   "execution_count": 51,
   "id": "26e5497f-b096-4bfa-b7a1-edd5ca47d389",
   "metadata": {},
   "outputs": [
    {
     "name": "stdout",
     "output_type": "stream",
     "text": [
      "[LightGBM] [Info] Auto-choosing row-wise multi-threading, the overhead of testing was 0.000676 seconds.\n",
      "You can set `force_row_wise=true` to remove the overhead.\n",
      "And if memory is not enough, you can set `force_col_wise=true`.\n",
      "[LightGBM] [Info] Total Bins 743\n",
      "[LightGBM] [Info] Number of data points in the train set: 290, number of used features: 13\n",
      "[LightGBM] [Info] Start training from score 23.177586\n",
      "[LightGBM] [Warning] No further splits with positive gain, best gain: -inf\n",
      "Training until validation scores don't improve for 10 rounds\n",
      "[LightGBM] [Warning] No further splits with positive gain, best gain: -inf\n",
      "[LightGBM] [Warning] No further splits with positive gain, best gain: -inf\n",
      "[LightGBM] [Warning] No further splits with positive gain, best gain: -inf\n",
      "[LightGBM] [Warning] No further splits with positive gain, best gain: -inf\n",
      "[LightGBM] [Warning] No further splits with positive gain, best gain: -inf\n",
      "[LightGBM] [Warning] No further splits with positive gain, best gain: -inf\n",
      "[LightGBM] [Warning] No further splits with positive gain, best gain: -inf\n",
      "[LightGBM] [Warning] No further splits with positive gain, best gain: -inf\n",
      "[LightGBM] [Warning] No further splits with positive gain, best gain: -inf\n",
      "[LightGBM] [Warning] No further splits with positive gain, best gain: -inf\n",
      "[LightGBM] [Warning] No further splits with positive gain, best gain: -inf\n",
      "[LightGBM] [Warning] No further splits with positive gain, best gain: -inf\n",
      "[LightGBM] [Warning] No further splits with positive gain, best gain: -inf\n",
      "[LightGBM] [Warning] No further splits with positive gain, best gain: -inf\n",
      "[LightGBM] [Warning] No further splits with positive gain, best gain: -inf\n",
      "[LightGBM] [Warning] No further splits with positive gain, best gain: -inf\n",
      "[LightGBM] [Warning] No further splits with positive gain, best gain: -inf\n",
      "[LightGBM] [Warning] No further splits with positive gain, best gain: -inf\n",
      "[LightGBM] [Warning] No further splits with positive gain, best gain: -inf\n",
      "[LightGBM] [Warning] No further splits with positive gain, best gain: -inf\n",
      "[LightGBM] [Warning] No further splits with positive gain, best gain: -inf\n",
      "[LightGBM] [Warning] No further splits with positive gain, best gain: -inf\n",
      "[LightGBM] [Warning] No further splits with positive gain, best gain: -inf\n",
      "[LightGBM] [Warning] No further splits with positive gain, best gain: -inf\n",
      "[LightGBM] [Warning] No further splits with positive gain, best gain: -inf\n",
      "[LightGBM] [Warning] No further splits with positive gain, best gain: -inf\n",
      "[LightGBM] [Warning] No further splits with positive gain, best gain: -inf\n",
      "[LightGBM] [Warning] No further splits with positive gain, best gain: -inf\n",
      "[LightGBM] [Warning] No further splits with positive gain, best gain: -inf\n",
      "[LightGBM] [Warning] No further splits with positive gain, best gain: -inf\n",
      "[LightGBM] [Warning] No further splits with positive gain, best gain: -inf\n",
      "[LightGBM] [Warning] No further splits with positive gain, best gain: -inf\n",
      "[LightGBM] [Warning] No further splits with positive gain, best gain: -inf\n",
      "[LightGBM] [Warning] No further splits with positive gain, best gain: -inf\n",
      "[LightGBM] [Warning] No further splits with positive gain, best gain: -inf\n",
      "[LightGBM] [Warning] No further splits with positive gain, best gain: -inf\n",
      "[LightGBM] [Warning] No further splits with positive gain, best gain: -inf\n",
      "[LightGBM] [Warning] No further splits with positive gain, best gain: -inf\n",
      "[LightGBM] [Warning] No further splits with positive gain, best gain: -inf\n",
      "[LightGBM] [Warning] No further splits with positive gain, best gain: -inf\n",
      "[LightGBM] [Warning] No further splits with positive gain, best gain: -inf\n",
      "[LightGBM] [Warning] No further splits with positive gain, best gain: -inf\n",
      "[LightGBM] [Warning] No further splits with positive gain, best gain: -inf\n",
      "[LightGBM] [Warning] No further splits with positive gain, best gain: -inf\n",
      "[LightGBM] [Warning] No further splits with positive gain, best gain: -inf\n",
      "[LightGBM] [Warning] No further splits with positive gain, best gain: -inf\n",
      "[LightGBM] [Warning] No further splits with positive gain, best gain: -inf\n",
      "[LightGBM] [Warning] No further splits with positive gain, best gain: -inf\n",
      "[LightGBM] [Warning] No further splits with positive gain, best gain: -inf\n",
      "[LightGBM] [Warning] No further splits with positive gain, best gain: -inf\n",
      "[LightGBM] [Warning] No further splits with positive gain, best gain: -inf\n",
      "[LightGBM] [Warning] No further splits with positive gain, best gain: -inf\n",
      "[LightGBM] [Warning] No further splits with positive gain, best gain: -inf\n",
      "[LightGBM] [Warning] No further splits with positive gain, best gain: -inf\n",
      "[LightGBM] [Warning] No further splits with positive gain, best gain: -inf\n",
      "[LightGBM] [Warning] No further splits with positive gain, best gain: -inf\n",
      "[LightGBM] [Warning] No further splits with positive gain, best gain: -inf\n",
      "[LightGBM] [Warning] No further splits with positive gain, best gain: -inf\n",
      "[LightGBM] [Warning] No further splits with positive gain, best gain: -inf\n",
      "[LightGBM] [Warning] No further splits with positive gain, best gain: -inf\n",
      "[LightGBM] [Warning] No further splits with positive gain, best gain: -inf\n",
      "[LightGBM] [Warning] No further splits with positive gain, best gain: -inf\n",
      "[LightGBM] [Warning] No further splits with positive gain, best gain: -inf\n",
      "[LightGBM] [Warning] No further splits with positive gain, best gain: -inf\n",
      "[LightGBM] [Warning] No further splits with positive gain, best gain: -inf\n",
      "[LightGBM] [Warning] No further splits with positive gain, best gain: -inf\n",
      "[LightGBM] [Warning] No further splits with positive gain, best gain: -inf\n",
      "[LightGBM] [Warning] No further splits with positive gain, best gain: -inf\n",
      "[LightGBM] [Warning] No further splits with positive gain, best gain: -inf\n",
      "[LightGBM] [Warning] No further splits with positive gain, best gain: -inf\n",
      "[LightGBM] [Warning] No further splits with positive gain, best gain: -inf\n",
      "[LightGBM] [Warning] No further splits with positive gain, best gain: -inf\n",
      "[LightGBM] [Warning] No further splits with positive gain, best gain: -inf\n",
      "[LightGBM] [Warning] No further splits with positive gain, best gain: -inf\n",
      "[LightGBM] [Warning] No further splits with positive gain, best gain: -inf\n",
      "[LightGBM] [Warning] No further splits with positive gain, best gain: -inf\n",
      "[LightGBM] [Warning] No further splits with positive gain, best gain: -inf\n",
      "[LightGBM] [Warning] No further splits with positive gain, best gain: -inf\n",
      "[LightGBM] [Warning] No further splits with positive gain, best gain: -inf\n",
      "[LightGBM] [Warning] No further splits with positive gain, best gain: -inf\n",
      "[LightGBM] [Warning] No further splits with positive gain, best gain: -inf\n",
      "[LightGBM] [Warning] No further splits with positive gain, best gain: -inf\n",
      "[LightGBM] [Warning] No further splits with positive gain, best gain: -inf\n",
      "[LightGBM] [Warning] No further splits with positive gain, best gain: -inf\n",
      "[LightGBM] [Warning] No further splits with positive gain, best gain: -inf\n",
      "[LightGBM] [Warning] No further splits with positive gain, best gain: -inf\n",
      "[LightGBM] [Warning] No further splits with positive gain, best gain: -inf\n",
      "[LightGBM] [Warning] No further splits with positive gain, best gain: -inf\n",
      "[LightGBM] [Warning] No further splits with positive gain, best gain: -inf\n",
      "[LightGBM] [Warning] No further splits with positive gain, best gain: -inf\n",
      "[LightGBM] [Warning] No further splits with positive gain, best gain: -inf\n",
      "[LightGBM] [Warning] No further splits with positive gain, best gain: -inf\n",
      "[LightGBM] [Warning] No further splits with positive gain, best gain: -inf\n",
      "[LightGBM] [Warning] No further splits with positive gain, best gain: -inf\n",
      "[LightGBM] [Warning] No further splits with positive gain, best gain: -inf\n",
      "[LightGBM] [Warning] No further splits with positive gain, best gain: -inf\n",
      "[LightGBM] [Warning] No further splits with positive gain, best gain: -inf\n",
      "[LightGBM] [Warning] No further splits with positive gain, best gain: -inf\n",
      "[LightGBM] [Warning] No further splits with positive gain, best gain: -inf\n",
      "[LightGBM] [Warning] No further splits with positive gain, best gain: -inf\n",
      "[LightGBM] [Warning] No further splits with positive gain, best gain: -inf\n",
      "[LightGBM] [Warning] No further splits with positive gain, best gain: -inf\n",
      "[LightGBM] [Warning] No further splits with positive gain, best gain: -inf\n",
      "[LightGBM] [Warning] No further splits with positive gain, best gain: -inf\n",
      "[LightGBM] [Warning] No further splits with positive gain, best gain: -inf\n",
      "[LightGBM] [Warning] No further splits with positive gain, best gain: -inf\n",
      "[LightGBM] [Warning] No further splits with positive gain, best gain: -inf\n",
      "[LightGBM] [Warning] No further splits with positive gain, best gain: -inf\n",
      "[LightGBM] [Warning] No further splits with positive gain, best gain: -inf\n",
      "[LightGBM] [Warning] No further splits with positive gain, best gain: -inf\n",
      "[LightGBM] [Warning] No further splits with positive gain, best gain: -inf\n",
      "[LightGBM] [Warning] No further splits with positive gain, best gain: -inf\n",
      "[LightGBM] [Warning] No further splits with positive gain, best gain: -inf\n",
      "[LightGBM] [Warning] No further splits with positive gain, best gain: -inf\n",
      "[LightGBM] [Warning] No further splits with positive gain, best gain: -inf\n",
      "[LightGBM] [Warning] No further splits with positive gain, best gain: -inf\n",
      "[LightGBM] [Warning] No further splits with positive gain, best gain: -inf\n",
      "[LightGBM] [Warning] No further splits with positive gain, best gain: -inf\n",
      "[LightGBM] [Warning] No further splits with positive gain, best gain: -inf\n",
      "[LightGBM] [Warning] No further splits with positive gain, best gain: -inf\n",
      "[LightGBM] [Warning] No further splits with positive gain, best gain: -inf\n",
      "[LightGBM] [Warning] No further splits with positive gain, best gain: -inf\n",
      "[LightGBM] [Warning] No further splits with positive gain, best gain: -inf\n",
      "[LightGBM] [Warning] No further splits with positive gain, best gain: -inf\n",
      "[LightGBM] [Warning] No further splits with positive gain, best gain: -inf\n",
      "[LightGBM] [Warning] No further splits with positive gain, best gain: -inf\n",
      "[LightGBM] [Warning] No further splits with positive gain, best gain: -inf\n",
      "[LightGBM] [Warning] No further splits with positive gain, best gain: -inf\n",
      "[LightGBM] [Warning] No further splits with positive gain, best gain: -inf\n",
      "[LightGBM] [Warning] No further splits with positive gain, best gain: -inf\n",
      "[LightGBM] [Warning] No further splits with positive gain, best gain: -inf\n",
      "Early stopping, best iteration is:\n",
      "[123]\ttraining's rmse: 2.08727\ttraining's l2: 4.35668\tvalid_1's rmse: 3.85717\tvalid_1's l2: 14.8777\n"
     ]
    },
    {
     "data": {
      "text/html": [
       "<style>#sk-container-id-9 {color: black;background-color: white;}#sk-container-id-9 pre{padding: 0;}#sk-container-id-9 div.sk-toggleable {background-color: white;}#sk-container-id-9 label.sk-toggleable__label {cursor: pointer;display: block;width: 100%;margin-bottom: 0;padding: 0.3em;box-sizing: border-box;text-align: center;}#sk-container-id-9 label.sk-toggleable__label-arrow:before {content: \"▸\";float: left;margin-right: 0.25em;color: #696969;}#sk-container-id-9 label.sk-toggleable__label-arrow:hover:before {color: black;}#sk-container-id-9 div.sk-estimator:hover label.sk-toggleable__label-arrow:before {color: black;}#sk-container-id-9 div.sk-toggleable__content {max-height: 0;max-width: 0;overflow: hidden;text-align: left;background-color: #f0f8ff;}#sk-container-id-9 div.sk-toggleable__content pre {margin: 0.2em;color: black;border-radius: 0.25em;background-color: #f0f8ff;}#sk-container-id-9 input.sk-toggleable__control:checked~div.sk-toggleable__content {max-height: 200px;max-width: 100%;overflow: auto;}#sk-container-id-9 input.sk-toggleable__control:checked~label.sk-toggleable__label-arrow:before {content: \"▾\";}#sk-container-id-9 div.sk-estimator input.sk-toggleable__control:checked~label.sk-toggleable__label {background-color: #d4ebff;}#sk-container-id-9 div.sk-label input.sk-toggleable__control:checked~label.sk-toggleable__label {background-color: #d4ebff;}#sk-container-id-9 input.sk-hidden--visually {border: 0;clip: rect(1px 1px 1px 1px);clip: rect(1px, 1px, 1px, 1px);height: 1px;margin: -1px;overflow: hidden;padding: 0;position: absolute;width: 1px;}#sk-container-id-9 div.sk-estimator {font-family: monospace;background-color: #f0f8ff;border: 1px dotted black;border-radius: 0.25em;box-sizing: border-box;margin-bottom: 0.5em;}#sk-container-id-9 div.sk-estimator:hover {background-color: #d4ebff;}#sk-container-id-9 div.sk-parallel-item::after {content: \"\";width: 100%;border-bottom: 1px solid gray;flex-grow: 1;}#sk-container-id-9 div.sk-label:hover label.sk-toggleable__label {background-color: #d4ebff;}#sk-container-id-9 div.sk-serial::before {content: \"\";position: absolute;border-left: 1px solid gray;box-sizing: border-box;top: 0;bottom: 0;left: 50%;z-index: 0;}#sk-container-id-9 div.sk-serial {display: flex;flex-direction: column;align-items: center;background-color: white;padding-right: 0.2em;padding-left: 0.2em;position: relative;}#sk-container-id-9 div.sk-item {position: relative;z-index: 1;}#sk-container-id-9 div.sk-parallel {display: flex;align-items: stretch;justify-content: center;background-color: white;position: relative;}#sk-container-id-9 div.sk-item::before, #sk-container-id-9 div.sk-parallel-item::before {content: \"\";position: absolute;border-left: 1px solid gray;box-sizing: border-box;top: 0;bottom: 0;left: 50%;z-index: -1;}#sk-container-id-9 div.sk-parallel-item {display: flex;flex-direction: column;z-index: 1;position: relative;background-color: white;}#sk-container-id-9 div.sk-parallel-item:first-child::after {align-self: flex-end;width: 50%;}#sk-container-id-9 div.sk-parallel-item:last-child::after {align-self: flex-start;width: 50%;}#sk-container-id-9 div.sk-parallel-item:only-child::after {width: 0;}#sk-container-id-9 div.sk-dashed-wrapped {border: 1px dashed gray;margin: 0 0.4em 0.5em 0.4em;box-sizing: border-box;padding-bottom: 0.4em;background-color: white;}#sk-container-id-9 div.sk-label label {font-family: monospace;font-weight: bold;display: inline-block;line-height: 1.2em;}#sk-container-id-9 div.sk-label-container {text-align: center;}#sk-container-id-9 div.sk-container {/* jupyter's `normalize.less` sets `[hidden] { display: none; }` but bootstrap.min.css set `[hidden] { display: none !important; }` so we also need the `!important` here to be able to override the default hidden behavior on the sphinx rendered scikit-learn.org. See: https://github.com/scikit-learn/scikit-learn/issues/21755 */display: inline-block !important;position: relative;}#sk-container-id-9 div.sk-text-repr-fallback {display: none;}</style><div id=\"sk-container-id-9\" class=\"sk-top-container\"><div class=\"sk-text-repr-fallback\"><pre>LGBMRegressor(max_depth=3, n_estimators=500)</pre><b>In a Jupyter environment, please rerun this cell to show the HTML representation or trust the notebook. <br />On GitHub, the HTML representation is unable to render, please try loading this page with nbviewer.org.</b></div><div class=\"sk-container\" hidden><div class=\"sk-item\"><div class=\"sk-estimator sk-toggleable\"><input class=\"sk-toggleable__control sk-hidden--visually\" id=\"sk-estimator-id-12\" type=\"checkbox\" checked><label for=\"sk-estimator-id-12\" class=\"sk-toggleable__label sk-toggleable__label-arrow\">LGBMRegressor</label><div class=\"sk-toggleable__content\"><pre>LGBMRegressor(max_depth=3, n_estimators=500)</pre></div></div></div></div></div>"
      ],
      "text/plain": [
       "LGBMRegressor(max_depth=3, n_estimators=500)"
      ]
     },
     "execution_count": 51,
     "metadata": {},
     "output_type": "execute_result"
    }
   ],
   "source": [
    "lgbm_reg = LGBMRegressor(n_estimators=500, learning_rate=0.1, max_depth=3)\n",
    "evals = [(x_train, y_train),(x_val, y_val)]\n",
    "lgbm_reg.fit(x_train, y_train, eval_metric = 'rmse', callbacks=[early_stopping(stopping_rounds=10)], eval_set=evals) # callbacks : 조기 종료를 위한 함수 이름, 리스트 형태여야 함"
   ]
  },
  {
   "cell_type": "code",
   "execution_count": 52,
   "id": "d5211235-155f-4b99-a8c0-470199c5b266",
   "metadata": {},
   "outputs": [
    {
     "name": "stdout",
     "output_type": "stream",
     "text": [
      "RMSE: 3.622\n",
      "R2 Score: 0.867\n"
     ]
    }
   ],
   "source": [
    "y_hat = lgbm_reg.predict(x_test)\n",
    "print(f'RMSE: {np.sqrt(mean_squared_error(y_test, y_hat)):.3f}')\n",
    "print(f'R2 Score: {r2_score(y_test, y_hat):.3f}')"
   ]
  },
  {
   "cell_type": "markdown",
   "id": "1d1254e0-96e2-4ece-9916-c587bffb3685",
   "metadata": {},
   "source": [
    "# 앙상블 분류"
   ]
  },
  {
   "cell_type": "markdown",
   "id": "8c456c07-0779-491d-a549-cb60ec108835",
   "metadata": {},
   "source": [
    "## (공통) 데이터 로딩 및 분할"
   ]
  },
  {
   "cell_type": "code",
   "execution_count": 53,
   "id": "09d33d31-3e96-4cc6-93b2-adcf88f1d76f",
   "metadata": {},
   "outputs": [],
   "source": [
    "from sklearn.model_selection import train_test_split\n",
    "from sklearn.metrics import accuracy_score, roc_auc_score\n",
    "from sklearn.datasets import load_breast_cancer\n",
    "\n",
    "import numpy as np\n",
    "import pandas as pd"
   ]
  },
  {
   "cell_type": "code",
   "execution_count": 54,
   "id": "28b7afda-c36b-4f88-bdaf-9a8ca5d5ce45",
   "metadata": {},
   "outputs": [
    {
     "name": "stdout",
     "output_type": "stream",
     "text": [
      "(569, 30)\n"
     ]
    },
    {
     "data": {
      "text/html": [
       "<div>\n",
       "<style scoped>\n",
       "    .dataframe tbody tr th:only-of-type {\n",
       "        vertical-align: middle;\n",
       "    }\n",
       "\n",
       "    .dataframe tbody tr th {\n",
       "        vertical-align: top;\n",
       "    }\n",
       "\n",
       "    .dataframe thead th {\n",
       "        text-align: right;\n",
       "    }\n",
       "</style>\n",
       "<table border=\"1\" class=\"dataframe\">\n",
       "  <thead>\n",
       "    <tr style=\"text-align: right;\">\n",
       "      <th></th>\n",
       "      <th>mean radius</th>\n",
       "      <th>mean texture</th>\n",
       "      <th>mean perimeter</th>\n",
       "      <th>mean area</th>\n",
       "      <th>mean smoothness</th>\n",
       "      <th>mean compactness</th>\n",
       "      <th>mean concavity</th>\n",
       "      <th>mean concave points</th>\n",
       "      <th>mean symmetry</th>\n",
       "      <th>mean fractal dimension</th>\n",
       "      <th>...</th>\n",
       "      <th>worst radius</th>\n",
       "      <th>worst texture</th>\n",
       "      <th>worst perimeter</th>\n",
       "      <th>worst area</th>\n",
       "      <th>worst smoothness</th>\n",
       "      <th>worst compactness</th>\n",
       "      <th>worst concavity</th>\n",
       "      <th>worst concave points</th>\n",
       "      <th>worst symmetry</th>\n",
       "      <th>worst fractal dimension</th>\n",
       "    </tr>\n",
       "  </thead>\n",
       "  <tbody>\n",
       "    <tr>\n",
       "      <th>0</th>\n",
       "      <td>17.99</td>\n",
       "      <td>10.38</td>\n",
       "      <td>122.80</td>\n",
       "      <td>1001.0</td>\n",
       "      <td>0.11840</td>\n",
       "      <td>0.27760</td>\n",
       "      <td>0.3001</td>\n",
       "      <td>0.14710</td>\n",
       "      <td>0.2419</td>\n",
       "      <td>0.07871</td>\n",
       "      <td>...</td>\n",
       "      <td>25.38</td>\n",
       "      <td>17.33</td>\n",
       "      <td>184.60</td>\n",
       "      <td>2019.0</td>\n",
       "      <td>0.1622</td>\n",
       "      <td>0.6656</td>\n",
       "      <td>0.7119</td>\n",
       "      <td>0.2654</td>\n",
       "      <td>0.4601</td>\n",
       "      <td>0.11890</td>\n",
       "    </tr>\n",
       "    <tr>\n",
       "      <th>1</th>\n",
       "      <td>20.57</td>\n",
       "      <td>17.77</td>\n",
       "      <td>132.90</td>\n",
       "      <td>1326.0</td>\n",
       "      <td>0.08474</td>\n",
       "      <td>0.07864</td>\n",
       "      <td>0.0869</td>\n",
       "      <td>0.07017</td>\n",
       "      <td>0.1812</td>\n",
       "      <td>0.05667</td>\n",
       "      <td>...</td>\n",
       "      <td>24.99</td>\n",
       "      <td>23.41</td>\n",
       "      <td>158.80</td>\n",
       "      <td>1956.0</td>\n",
       "      <td>0.1238</td>\n",
       "      <td>0.1866</td>\n",
       "      <td>0.2416</td>\n",
       "      <td>0.1860</td>\n",
       "      <td>0.2750</td>\n",
       "      <td>0.08902</td>\n",
       "    </tr>\n",
       "    <tr>\n",
       "      <th>2</th>\n",
       "      <td>19.69</td>\n",
       "      <td>21.25</td>\n",
       "      <td>130.00</td>\n",
       "      <td>1203.0</td>\n",
       "      <td>0.10960</td>\n",
       "      <td>0.15990</td>\n",
       "      <td>0.1974</td>\n",
       "      <td>0.12790</td>\n",
       "      <td>0.2069</td>\n",
       "      <td>0.05999</td>\n",
       "      <td>...</td>\n",
       "      <td>23.57</td>\n",
       "      <td>25.53</td>\n",
       "      <td>152.50</td>\n",
       "      <td>1709.0</td>\n",
       "      <td>0.1444</td>\n",
       "      <td>0.4245</td>\n",
       "      <td>0.4504</td>\n",
       "      <td>0.2430</td>\n",
       "      <td>0.3613</td>\n",
       "      <td>0.08758</td>\n",
       "    </tr>\n",
       "    <tr>\n",
       "      <th>3</th>\n",
       "      <td>11.42</td>\n",
       "      <td>20.38</td>\n",
       "      <td>77.58</td>\n",
       "      <td>386.1</td>\n",
       "      <td>0.14250</td>\n",
       "      <td>0.28390</td>\n",
       "      <td>0.2414</td>\n",
       "      <td>0.10520</td>\n",
       "      <td>0.2597</td>\n",
       "      <td>0.09744</td>\n",
       "      <td>...</td>\n",
       "      <td>14.91</td>\n",
       "      <td>26.50</td>\n",
       "      <td>98.87</td>\n",
       "      <td>567.7</td>\n",
       "      <td>0.2098</td>\n",
       "      <td>0.8663</td>\n",
       "      <td>0.6869</td>\n",
       "      <td>0.2575</td>\n",
       "      <td>0.6638</td>\n",
       "      <td>0.17300</td>\n",
       "    </tr>\n",
       "    <tr>\n",
       "      <th>4</th>\n",
       "      <td>20.29</td>\n",
       "      <td>14.34</td>\n",
       "      <td>135.10</td>\n",
       "      <td>1297.0</td>\n",
       "      <td>0.10030</td>\n",
       "      <td>0.13280</td>\n",
       "      <td>0.1980</td>\n",
       "      <td>0.10430</td>\n",
       "      <td>0.1809</td>\n",
       "      <td>0.05883</td>\n",
       "      <td>...</td>\n",
       "      <td>22.54</td>\n",
       "      <td>16.67</td>\n",
       "      <td>152.20</td>\n",
       "      <td>1575.0</td>\n",
       "      <td>0.1374</td>\n",
       "      <td>0.2050</td>\n",
       "      <td>0.4000</td>\n",
       "      <td>0.1625</td>\n",
       "      <td>0.2364</td>\n",
       "      <td>0.07678</td>\n",
       "    </tr>\n",
       "  </tbody>\n",
       "</table>\n",
       "<p>5 rows × 30 columns</p>\n",
       "</div>"
      ],
      "text/plain": [
       "   mean radius  mean texture  mean perimeter  mean area  mean smoothness  \\\n",
       "0        17.99         10.38          122.80     1001.0          0.11840   \n",
       "1        20.57         17.77          132.90     1326.0          0.08474   \n",
       "2        19.69         21.25          130.00     1203.0          0.10960   \n",
       "3        11.42         20.38           77.58      386.1          0.14250   \n",
       "4        20.29         14.34          135.10     1297.0          0.10030   \n",
       "\n",
       "   mean compactness  mean concavity  mean concave points  mean symmetry  \\\n",
       "0           0.27760          0.3001              0.14710         0.2419   \n",
       "1           0.07864          0.0869              0.07017         0.1812   \n",
       "2           0.15990          0.1974              0.12790         0.2069   \n",
       "3           0.28390          0.2414              0.10520         0.2597   \n",
       "4           0.13280          0.1980              0.10430         0.1809   \n",
       "\n",
       "   mean fractal dimension  ...  worst radius  worst texture  worst perimeter  \\\n",
       "0                 0.07871  ...         25.38          17.33           184.60   \n",
       "1                 0.05667  ...         24.99          23.41           158.80   \n",
       "2                 0.05999  ...         23.57          25.53           152.50   \n",
       "3                 0.09744  ...         14.91          26.50            98.87   \n",
       "4                 0.05883  ...         22.54          16.67           152.20   \n",
       "\n",
       "   worst area  worst smoothness  worst compactness  worst concavity  \\\n",
       "0      2019.0            0.1622             0.6656           0.7119   \n",
       "1      1956.0            0.1238             0.1866           0.2416   \n",
       "2      1709.0            0.1444             0.4245           0.4504   \n",
       "3       567.7            0.2098             0.8663           0.6869   \n",
       "4      1575.0            0.1374             0.2050           0.4000   \n",
       "\n",
       "   worst concave points  worst symmetry  worst fractal dimension  \n",
       "0                0.2654          0.4601                  0.11890  \n",
       "1                0.1860          0.2750                  0.08902  \n",
       "2                0.2430          0.3613                  0.08758  \n",
       "3                0.2575          0.6638                  0.17300  \n",
       "4                0.1625          0.2364                  0.07678  \n",
       "\n",
       "[5 rows x 30 columns]"
      ]
     },
     "metadata": {},
     "output_type": "display_data"
    }
   ],
   "source": [
    "cancer = load_breast_cancer()\n",
    "df = pd.DataFrame(cancer.data, columns=cancer.feature_names)\n",
    "print(df.shape)\n",
    "display(df.head())\n",
    "x = df\n",
    "y = cancer.target"
   ]
  },
  {
   "cell_type": "code",
   "execution_count": 55,
   "id": "1279dcbe-3558-4158-858c-216edeb3c6b9",
   "metadata": {},
   "outputs": [],
   "source": [
    "x_train, x_test, y_train, y_test = train_test_split(x, y, train_size=0.8, random_state=0, stratify=y)"
   ]
  },
  {
   "cell_type": "markdown",
   "id": "6441c4bf-e54a-47fa-8c91-78e8ad66b1ea",
   "metadata": {},
   "source": [
    "## Voting"
   ]
  },
  {
   "cell_type": "markdown",
   "id": "9f2f9a54-f219-4109-9fcf-cc2711f783e1",
   "metadata": {},
   "source": [
    "### 패키지 로딩"
   ]
  },
  {
   "cell_type": "code",
   "execution_count": 56,
   "id": "15795a79-0874-4c5d-b60f-427ec528cdbc",
   "metadata": {},
   "outputs": [],
   "source": [
    "from sklearn.ensemble import VotingClassifier\n",
    "from sklearn.linear_model import LogisticRegression\n",
    "from sklearn.neighbors import KNeighborsClassifier\n",
    "from sklearn.naive_bayes import GaussianNB"
   ]
  },
  {
   "cell_type": "markdown",
   "id": "ceffb824-022e-4f89-b9a1-21391d4bf3c5",
   "metadata": {},
   "source": [
    "### 모델 생성\n",
    "- voting : hard, soft 값 사용(default : hard)"
   ]
  },
  {
   "cell_type": "code",
   "execution_count": 57,
   "id": "1be85a8f-0696-42d0-9428-188b329130d9",
   "metadata": {},
   "outputs": [],
   "source": [
    "logistic = LogisticRegression(max_iter=1000)\n",
    "knn = KNeighborsClassifier(n_neighbors=3)\n",
    "nb = GaussianNB()\n",
    "\n",
    "vo_c = VotingClassifier(estimators=[('Logistic', logistic),('KNN', knn),('Naive_Bayes', nb)], voting='soft') # soft voting : 각 모델 확률값들의 평균"
   ]
  },
  {
   "cell_type": "markdown",
   "id": "a4df9c1a-8eb6-4246-a93b-ccafd53ea350",
   "metadata": {},
   "source": [
    "### 학습 및 평가"
   ]
  },
  {
   "cell_type": "code",
   "execution_count": 59,
   "id": "8ddbe2a8-a933-4371-9273-6256c5b1d1af",
   "metadata": {},
   "outputs": [
    {
     "name": "stdout",
     "output_type": "stream",
     "text": [
      "정확도: 0.956\n",
      "AUC:0.988\n"
     ]
    }
   ],
   "source": [
    "vo_c.fit(x_train, y_train)\n",
    "y_hat = vo_c.predict(x_test)\n",
    "\n",
    "print(f'정확도: {accuracy_score(y_test, y_hat):.3f}')\n",
    "print(f'AUC:{roc_auc_score(y_test, vo_c.predict_proba(x_test)[:,1]):.3f}')"
   ]
  },
  {
   "cell_type": "markdown",
   "id": "f06222c4-1a4e-4dc9-9919-3726c5f82bf5",
   "metadata": {},
   "source": [
    "### 개별 분류모형 학습결과 비교"
   ]
  },
  {
   "cell_type": "code",
   "execution_count": 60,
   "id": "660c9008-23c5-4228-833e-548dd33d5e38",
   "metadata": {},
   "outputs": [
    {
     "name": "stdout",
     "output_type": "stream",
     "text": [
      "Logistic 모델 정확도: 0.947\n",
      "Logistic 모델 AUC:0.994\n",
      "========================================\n",
      "KNN 모델 정확도: 0.904\n",
      "KNN 모델 AUC:0.931\n",
      "========================================\n",
      "Naive_Bayes 모델 정확도: 0.921\n",
      "Naive_Bayes 모델 AUC:0.971\n",
      "========================================\n"
     ]
    }
   ],
   "source": [
    "estimators=[('Logistic', logistic),('KNN', knn),('Naive_Bayes', nb)]\n",
    "\n",
    "for name, model in estimators:\n",
    "    model.fit(x_train, y_train)\n",
    "    y_hat = model.predict(x_test)\n",
    "    \n",
    "    print(f'{name} 모델 정확도: {accuracy_score(y_test, y_hat):.3f}')\n",
    "    print(f'{name} 모델 AUC:{roc_auc_score(y_test, model.predict_proba(x_test)[:,1]):.3f}')\n",
    "    print('='*40)"
   ]
  },
  {
   "cell_type": "markdown",
   "id": "e02d062d-c00e-454b-afce-c7eac31132ef",
   "metadata": {},
   "source": [
    "## Boosting"
   ]
  },
  {
   "cell_type": "markdown",
   "id": "53dc69df-dfff-4ad5-b7ef-6d7387344cdf",
   "metadata": {},
   "source": [
    "### AdaBoost"
   ]
  },
  {
   "cell_type": "markdown",
   "id": "091be4e6-826e-417b-bce0-c344a81fae73",
   "metadata": {},
   "source": [
    "#### 패키지 로딩"
   ]
  },
  {
   "cell_type": "code",
   "execution_count": 61,
   "id": "78d5546d-1779-444a-8541-6072446c7073",
   "metadata": {},
   "outputs": [],
   "source": [
    "from sklearn.ensemble import AdaBoostClassifier\n",
    "from sklearn.tree import DecisionTreeClassifier"
   ]
  },
  {
   "cell_type": "markdown",
   "id": "84a27c6b-8889-42b6-9b49-773abbc83889",
   "metadata": {},
   "source": [
    "#### 모델 생성"
   ]
  },
  {
   "cell_type": "code",
   "execution_count": 63,
   "id": "fbb5f337-b21e-4cc1-bea8-02858bae898b",
   "metadata": {},
   "outputs": [],
   "source": [
    "boo_c = AdaBoostClassifier(base_estimator=DecisionTreeClassifier(max_depth=4), n_estimators = 300, random_state=0)"
   ]
  },
  {
   "cell_type": "markdown",
   "id": "1f09390f-2e4f-4125-b3eb-1374ed99b4e3",
   "metadata": {},
   "source": [
    "#### 학습 및 평가"
   ]
  },
  {
   "cell_type": "code",
   "execution_count": 64,
   "id": "364f0bbf-cdba-40f0-a0c4-75e20ae4daa0",
   "metadata": {},
   "outputs": [
    {
     "name": "stdout",
     "output_type": "stream",
     "text": [
      "정확도: 0.921\n",
      "AUC:0.969\n"
     ]
    }
   ],
   "source": [
    "boo_c.fit(x_train, y_train)\n",
    "y_hat = boo_c.predict(x_test)\n",
    "\n",
    "print(f'정확도: {accuracy_score(y_test, y_hat):.3f}')\n",
    "print(f'AUC:{roc_auc_score(y_test, boo_c.predict_proba(x_test)[:,1]):.3f}')"
   ]
  },
  {
   "cell_type": "markdown",
   "id": "c8457e2a-51ab-477d-861e-96d3a5bc83fa",
   "metadata": {},
   "source": [
    "### GradientBoost"
   ]
  },
  {
   "cell_type": "markdown",
   "id": "bc52da9a-ef60-43ea-b575-cc7c52d84c62",
   "metadata": {},
   "source": [
    "#### 패키지 로딩"
   ]
  },
  {
   "cell_type": "code",
   "execution_count": 65,
   "id": "0350dfdf-8259-467e-82ba-2c6588458e6d",
   "metadata": {},
   "outputs": [],
   "source": [
    "from sklearn.ensemble import GradientBoostingClassifier"
   ]
  },
  {
   "cell_type": "markdown",
   "id": "8c2f4363-4960-4b25-8431-a64fbb622340",
   "metadata": {},
   "source": [
    "#### 모델 생성 및 학습 "
   ]
  },
  {
   "cell_type": "code",
   "execution_count": 67,
   "id": "418487f2-26b4-43cf-ba73-6c03eb90e808",
   "metadata": {},
   "outputs": [
    {
     "data": {
      "text/html": [
       "<style>#sk-container-id-10 {color: black;background-color: white;}#sk-container-id-10 pre{padding: 0;}#sk-container-id-10 div.sk-toggleable {background-color: white;}#sk-container-id-10 label.sk-toggleable__label {cursor: pointer;display: block;width: 100%;margin-bottom: 0;padding: 0.3em;box-sizing: border-box;text-align: center;}#sk-container-id-10 label.sk-toggleable__label-arrow:before {content: \"▸\";float: left;margin-right: 0.25em;color: #696969;}#sk-container-id-10 label.sk-toggleable__label-arrow:hover:before {color: black;}#sk-container-id-10 div.sk-estimator:hover label.sk-toggleable__label-arrow:before {color: black;}#sk-container-id-10 div.sk-toggleable__content {max-height: 0;max-width: 0;overflow: hidden;text-align: left;background-color: #f0f8ff;}#sk-container-id-10 div.sk-toggleable__content pre {margin: 0.2em;color: black;border-radius: 0.25em;background-color: #f0f8ff;}#sk-container-id-10 input.sk-toggleable__control:checked~div.sk-toggleable__content {max-height: 200px;max-width: 100%;overflow: auto;}#sk-container-id-10 input.sk-toggleable__control:checked~label.sk-toggleable__label-arrow:before {content: \"▾\";}#sk-container-id-10 div.sk-estimator input.sk-toggleable__control:checked~label.sk-toggleable__label {background-color: #d4ebff;}#sk-container-id-10 div.sk-label input.sk-toggleable__control:checked~label.sk-toggleable__label {background-color: #d4ebff;}#sk-container-id-10 input.sk-hidden--visually {border: 0;clip: rect(1px 1px 1px 1px);clip: rect(1px, 1px, 1px, 1px);height: 1px;margin: -1px;overflow: hidden;padding: 0;position: absolute;width: 1px;}#sk-container-id-10 div.sk-estimator {font-family: monospace;background-color: #f0f8ff;border: 1px dotted black;border-radius: 0.25em;box-sizing: border-box;margin-bottom: 0.5em;}#sk-container-id-10 div.sk-estimator:hover {background-color: #d4ebff;}#sk-container-id-10 div.sk-parallel-item::after {content: \"\";width: 100%;border-bottom: 1px solid gray;flex-grow: 1;}#sk-container-id-10 div.sk-label:hover label.sk-toggleable__label {background-color: #d4ebff;}#sk-container-id-10 div.sk-serial::before {content: \"\";position: absolute;border-left: 1px solid gray;box-sizing: border-box;top: 0;bottom: 0;left: 50%;z-index: 0;}#sk-container-id-10 div.sk-serial {display: flex;flex-direction: column;align-items: center;background-color: white;padding-right: 0.2em;padding-left: 0.2em;position: relative;}#sk-container-id-10 div.sk-item {position: relative;z-index: 1;}#sk-container-id-10 div.sk-parallel {display: flex;align-items: stretch;justify-content: center;background-color: white;position: relative;}#sk-container-id-10 div.sk-item::before, #sk-container-id-10 div.sk-parallel-item::before {content: \"\";position: absolute;border-left: 1px solid gray;box-sizing: border-box;top: 0;bottom: 0;left: 50%;z-index: -1;}#sk-container-id-10 div.sk-parallel-item {display: flex;flex-direction: column;z-index: 1;position: relative;background-color: white;}#sk-container-id-10 div.sk-parallel-item:first-child::after {align-self: flex-end;width: 50%;}#sk-container-id-10 div.sk-parallel-item:last-child::after {align-self: flex-start;width: 50%;}#sk-container-id-10 div.sk-parallel-item:only-child::after {width: 0;}#sk-container-id-10 div.sk-dashed-wrapped {border: 1px dashed gray;margin: 0 0.4em 0.5em 0.4em;box-sizing: border-box;padding-bottom: 0.4em;background-color: white;}#sk-container-id-10 div.sk-label label {font-family: monospace;font-weight: bold;display: inline-block;line-height: 1.2em;}#sk-container-id-10 div.sk-label-container {text-align: center;}#sk-container-id-10 div.sk-container {/* jupyter's `normalize.less` sets `[hidden] { display: none; }` but bootstrap.min.css set `[hidden] { display: none !important; }` so we also need the `!important` here to be able to override the default hidden behavior on the sphinx rendered scikit-learn.org. See: https://github.com/scikit-learn/scikit-learn/issues/21755 */display: inline-block !important;position: relative;}#sk-container-id-10 div.sk-text-repr-fallback {display: none;}</style><div id=\"sk-container-id-10\" class=\"sk-top-container\"><div class=\"sk-text-repr-fallback\"><pre>GradientBoostingClassifier(random_state=0)</pre><b>In a Jupyter environment, please rerun this cell to show the HTML representation or trust the notebook. <br />On GitHub, the HTML representation is unable to render, please try loading this page with nbviewer.org.</b></div><div class=\"sk-container\" hidden><div class=\"sk-item\"><div class=\"sk-estimator sk-toggleable\"><input class=\"sk-toggleable__control sk-hidden--visually\" id=\"sk-estimator-id-13\" type=\"checkbox\" checked><label for=\"sk-estimator-id-13\" class=\"sk-toggleable__label sk-toggleable__label-arrow\">GradientBoostingClassifier</label><div class=\"sk-toggleable__content\"><pre>GradientBoostingClassifier(random_state=0)</pre></div></div></div></div></div>"
      ],
      "text/plain": [
       "GradientBoostingClassifier(random_state=0)"
      ]
     },
     "execution_count": 67,
     "metadata": {},
     "output_type": "execute_result"
    }
   ],
   "source": [
    "gb_c = GradientBoostingClassifier(random_state=0)\n",
    "gb_c.fit(x_train, y_train)"
   ]
  },
  {
   "cell_type": "markdown",
   "id": "c75d875e-ccf0-46e2-a25a-beda16687056",
   "metadata": {},
   "source": [
    "#### 예측 및 평가"
   ]
  },
  {
   "cell_type": "code",
   "execution_count": 68,
   "id": "eb13d8f3-0139-4f3b-a8d7-9137342d7ef8",
   "metadata": {},
   "outputs": [
    {
     "name": "stdout",
     "output_type": "stream",
     "text": [
      "정확도: 0.939\n",
      "AUC:0.983\n"
     ]
    }
   ],
   "source": [
    "y_hat = gb_c.predict(x_test)\n",
    "\n",
    "print(f'정확도: {accuracy_score(y_test, y_hat):.3f}')\n",
    "print(f'AUC:{roc_auc_score(y_test, gb_c.predict_proba(x_test)[:,1]):.3f}')"
   ]
  },
  {
   "cell_type": "markdown",
   "id": "44a5dfdc-00e5-4f4b-a9c2-c2f9f71aa3fc",
   "metadata": {},
   "source": [
    "#### 하이퍼 파라메터 튜닝 "
   ]
  },
  {
   "cell_type": "code",
   "execution_count": 69,
   "id": "c0725025-ad58-4868-b897-9c485c45cc4b",
   "metadata": {},
   "outputs": [
    {
     "data": {
      "text/html": [
       "<style>#sk-container-id-11 {color: black;background-color: white;}#sk-container-id-11 pre{padding: 0;}#sk-container-id-11 div.sk-toggleable {background-color: white;}#sk-container-id-11 label.sk-toggleable__label {cursor: pointer;display: block;width: 100%;margin-bottom: 0;padding: 0.3em;box-sizing: border-box;text-align: center;}#sk-container-id-11 label.sk-toggleable__label-arrow:before {content: \"▸\";float: left;margin-right: 0.25em;color: #696969;}#sk-container-id-11 label.sk-toggleable__label-arrow:hover:before {color: black;}#sk-container-id-11 div.sk-estimator:hover label.sk-toggleable__label-arrow:before {color: black;}#sk-container-id-11 div.sk-toggleable__content {max-height: 0;max-width: 0;overflow: hidden;text-align: left;background-color: #f0f8ff;}#sk-container-id-11 div.sk-toggleable__content pre {margin: 0.2em;color: black;border-radius: 0.25em;background-color: #f0f8ff;}#sk-container-id-11 input.sk-toggleable__control:checked~div.sk-toggleable__content {max-height: 200px;max-width: 100%;overflow: auto;}#sk-container-id-11 input.sk-toggleable__control:checked~label.sk-toggleable__label-arrow:before {content: \"▾\";}#sk-container-id-11 div.sk-estimator input.sk-toggleable__control:checked~label.sk-toggleable__label {background-color: #d4ebff;}#sk-container-id-11 div.sk-label input.sk-toggleable__control:checked~label.sk-toggleable__label {background-color: #d4ebff;}#sk-container-id-11 input.sk-hidden--visually {border: 0;clip: rect(1px 1px 1px 1px);clip: rect(1px, 1px, 1px, 1px);height: 1px;margin: -1px;overflow: hidden;padding: 0;position: absolute;width: 1px;}#sk-container-id-11 div.sk-estimator {font-family: monospace;background-color: #f0f8ff;border: 1px dotted black;border-radius: 0.25em;box-sizing: border-box;margin-bottom: 0.5em;}#sk-container-id-11 div.sk-estimator:hover {background-color: #d4ebff;}#sk-container-id-11 div.sk-parallel-item::after {content: \"\";width: 100%;border-bottom: 1px solid gray;flex-grow: 1;}#sk-container-id-11 div.sk-label:hover label.sk-toggleable__label {background-color: #d4ebff;}#sk-container-id-11 div.sk-serial::before {content: \"\";position: absolute;border-left: 1px solid gray;box-sizing: border-box;top: 0;bottom: 0;left: 50%;z-index: 0;}#sk-container-id-11 div.sk-serial {display: flex;flex-direction: column;align-items: center;background-color: white;padding-right: 0.2em;padding-left: 0.2em;position: relative;}#sk-container-id-11 div.sk-item {position: relative;z-index: 1;}#sk-container-id-11 div.sk-parallel {display: flex;align-items: stretch;justify-content: center;background-color: white;position: relative;}#sk-container-id-11 div.sk-item::before, #sk-container-id-11 div.sk-parallel-item::before {content: \"\";position: absolute;border-left: 1px solid gray;box-sizing: border-box;top: 0;bottom: 0;left: 50%;z-index: -1;}#sk-container-id-11 div.sk-parallel-item {display: flex;flex-direction: column;z-index: 1;position: relative;background-color: white;}#sk-container-id-11 div.sk-parallel-item:first-child::after {align-self: flex-end;width: 50%;}#sk-container-id-11 div.sk-parallel-item:last-child::after {align-self: flex-start;width: 50%;}#sk-container-id-11 div.sk-parallel-item:only-child::after {width: 0;}#sk-container-id-11 div.sk-dashed-wrapped {border: 1px dashed gray;margin: 0 0.4em 0.5em 0.4em;box-sizing: border-box;padding-bottom: 0.4em;background-color: white;}#sk-container-id-11 div.sk-label label {font-family: monospace;font-weight: bold;display: inline-block;line-height: 1.2em;}#sk-container-id-11 div.sk-label-container {text-align: center;}#sk-container-id-11 div.sk-container {/* jupyter's `normalize.less` sets `[hidden] { display: none; }` but bootstrap.min.css set `[hidden] { display: none !important; }` so we also need the `!important` here to be able to override the default hidden behavior on the sphinx rendered scikit-learn.org. See: https://github.com/scikit-learn/scikit-learn/issues/21755 */display: inline-block !important;position: relative;}#sk-container-id-11 div.sk-text-repr-fallback {display: none;}</style><div id=\"sk-container-id-11\" class=\"sk-top-container\"><div class=\"sk-text-repr-fallback\"><pre>GridSearchCV(cv=5, estimator=GradientBoostingClassifier(random_state=0),\n",
       "             n_jobs=-1,\n",
       "             param_grid={&#x27;learning_rate&#x27;: [0.05, 0.1, 0.2],\n",
       "                         &#x27;max_depth&#x27;: [3, 6, 8],\n",
       "                         &#x27;min_samples_split&#x27;: [2, 3, 5, 10],\n",
       "                         &#x27;n_estimators&#x27;: [200, 300]},\n",
       "             scoring=&#x27;accuracy&#x27;)</pre><b>In a Jupyter environment, please rerun this cell to show the HTML representation or trust the notebook. <br />On GitHub, the HTML representation is unable to render, please try loading this page with nbviewer.org.</b></div><div class=\"sk-container\" hidden><div class=\"sk-item sk-dashed-wrapped\"><div class=\"sk-label-container\"><div class=\"sk-label sk-toggleable\"><input class=\"sk-toggleable__control sk-hidden--visually\" id=\"sk-estimator-id-14\" type=\"checkbox\" ><label for=\"sk-estimator-id-14\" class=\"sk-toggleable__label sk-toggleable__label-arrow\">GridSearchCV</label><div class=\"sk-toggleable__content\"><pre>GridSearchCV(cv=5, estimator=GradientBoostingClassifier(random_state=0),\n",
       "             n_jobs=-1,\n",
       "             param_grid={&#x27;learning_rate&#x27;: [0.05, 0.1, 0.2],\n",
       "                         &#x27;max_depth&#x27;: [3, 6, 8],\n",
       "                         &#x27;min_samples_split&#x27;: [2, 3, 5, 10],\n",
       "                         &#x27;n_estimators&#x27;: [200, 300]},\n",
       "             scoring=&#x27;accuracy&#x27;)</pre></div></div></div><div class=\"sk-parallel\"><div class=\"sk-parallel-item\"><div class=\"sk-item\"><div class=\"sk-label-container\"><div class=\"sk-label sk-toggleable\"><input class=\"sk-toggleable__control sk-hidden--visually\" id=\"sk-estimator-id-15\" type=\"checkbox\" ><label for=\"sk-estimator-id-15\" class=\"sk-toggleable__label sk-toggleable__label-arrow\">estimator: GradientBoostingClassifier</label><div class=\"sk-toggleable__content\"><pre>GradientBoostingClassifier(random_state=0)</pre></div></div></div><div class=\"sk-serial\"><div class=\"sk-item\"><div class=\"sk-estimator sk-toggleable\"><input class=\"sk-toggleable__control sk-hidden--visually\" id=\"sk-estimator-id-16\" type=\"checkbox\" ><label for=\"sk-estimator-id-16\" class=\"sk-toggleable__label sk-toggleable__label-arrow\">GradientBoostingClassifier</label><div class=\"sk-toggleable__content\"><pre>GradientBoostingClassifier(random_state=0)</pre></div></div></div></div></div></div></div></div></div></div>"
      ],
      "text/plain": [
       "GridSearchCV(cv=5, estimator=GradientBoostingClassifier(random_state=0),\n",
       "             n_jobs=-1,\n",
       "             param_grid={'learning_rate': [0.05, 0.1, 0.2],\n",
       "                         'max_depth': [3, 6, 8],\n",
       "                         'min_samples_split': [2, 3, 5, 10],\n",
       "                         'n_estimators': [200, 300]},\n",
       "             scoring='accuracy')"
      ]
     },
     "execution_count": 69,
     "metadata": {},
     "output_type": "execute_result"
    }
   ],
   "source": [
    "from sklearn.model_selection import GridSearchCV\n",
    "\n",
    "params = {\n",
    "    'n_estimators' : [200, 300],\n",
    "    'max_depth' : [3,6,8],\n",
    "    'min_samples_split' : [2, 3, 5, 10], # 샘플 수가 적을수록 나무의 깊이가 깊어짐\n",
    "    'learning_rate' : [0.05, 0.1, 0.2]\n",
    "}\n",
    "\n",
    "gb_grid = GridSearchCV(gb_c, params, cv = 5, scoring='accuracy', n_jobs=-1)\n",
    "gb_grid.fit(x, y)"
   ]
  },
  {
   "cell_type": "code",
   "execution_count": 70,
   "id": "cbb83d79-a837-4542-8d0a-5fd37d56d79e",
   "metadata": {},
   "outputs": [
    {
     "name": "stdout",
     "output_type": "stream",
     "text": [
      "최적 파라메터 : {'learning_rate': 0.2, 'max_depth': 3, 'min_samples_split': 5, 'n_estimators': 200}\n",
      "평균 정확도 : 0.9666200900481291\n"
     ]
    }
   ],
   "source": [
    "print(f'최적 파라메터 : {gb_grid.best_params_}')\n",
    "print(f'평균 정확도 : {gb_grid.best_score_}')"
   ]
  },
  {
   "cell_type": "code",
   "execution_count": 71,
   "id": "2bdb9790-2680-4850-9e85-d8e27573dde1",
   "metadata": {},
   "outputs": [
    {
     "name": "stdout",
     "output_type": "stream",
     "text": [
      "정확도: 1.000\n",
      "AUC:1.000\n"
     ]
    }
   ],
   "source": [
    "estimators = gb_grid.best_estimator_\n",
    "y_hat = estimators.predict(x_test)\n",
    "\n",
    "print(f'정확도: {accuracy_score(y_test, y_hat):.3f}')\n",
    "print(f'AUC:{roc_auc_score(y_test, estimators.predict_proba(x_test)[:,1]):.3f}')"
   ]
  },
  {
   "cell_type": "markdown",
   "id": "cf0d95e0-138c-49b2-930b-13fbb8f4749d",
   "metadata": {},
   "source": [
    "### XGBoost (사이킷런 래퍼)"
   ]
  },
  {
   "cell_type": "code",
   "execution_count": 72,
   "id": "f916c2de-858c-4472-bf8e-970a39cdb084",
   "metadata": {},
   "outputs": [],
   "source": [
    "# 학습 데이터로부터 10%의 검증용 데이터를 분리\n",
    "x_train, x_val, y_train, y_val = train_test_split(x_train, y_train, train_size=0.9, stratify=y_train)"
   ]
  },
  {
   "cell_type": "code",
   "execution_count": 73,
   "id": "a98ff0e4-d19a-4ee8-9b30-71c98d8a057c",
   "metadata": {},
   "outputs": [
    {
     "name": "stdout",
     "output_type": "stream",
     "text": [
      "[0]\tvalidation_0-logloss:0.61963\tvalidation_1-logloss:0.61936\n",
      "[1]\tvalidation_0-logloss:0.58231\tvalidation_1-logloss:0.58398\n",
      "[2]\tvalidation_0-logloss:0.54854\tvalidation_1-logloss:0.55207\n",
      "[3]\tvalidation_0-logloss:0.51704\tvalidation_1-logloss:0.51922\n",
      "[4]\tvalidation_0-logloss:0.48742\tvalidation_1-logloss:0.48863\n",
      "[5]\tvalidation_0-logloss:0.46068\tvalidation_1-logloss:0.46463\n",
      "[6]\tvalidation_0-logloss:0.43558\tvalidation_1-logloss:0.43867\n",
      "[7]\tvalidation_0-logloss:0.41205\tvalidation_1-logloss:0.41542\n",
      "[8]\tvalidation_0-logloss:0.39031\tvalidation_1-logloss:0.39330\n",
      "[9]\tvalidation_0-logloss:0.37084\tvalidation_1-logloss:0.37313\n",
      "[10]\tvalidation_0-logloss:0.35201\tvalidation_1-logloss:0.35400\n",
      "[11]\tvalidation_0-logloss:0.33482\tvalidation_1-logloss:0.33474\n",
      "[12]\tvalidation_0-logloss:0.31944\tvalidation_1-logloss:0.32149\n",
      "[13]\tvalidation_0-logloss:0.30435\tvalidation_1-logloss:0.30451\n",
      "[14]\tvalidation_0-logloss:0.28998\tvalidation_1-logloss:0.28979\n",
      "[15]\tvalidation_0-logloss:0.27671\tvalidation_1-logloss:0.27483\n",
      "[16]\tvalidation_0-logloss:0.26414\tvalidation_1-logloss:0.26301\n",
      "[17]\tvalidation_0-logloss:0.25249\tvalidation_1-logloss:0.25095\n",
      "[18]\tvalidation_0-logloss:0.24107\tvalidation_1-logloss:0.23971\n",
      "[19]\tvalidation_0-logloss:0.22988\tvalidation_1-logloss:0.22794\n",
      "[20]\tvalidation_0-logloss:0.22004\tvalidation_1-logloss:0.21674\n",
      "[21]\tvalidation_0-logloss:0.21120\tvalidation_1-logloss:0.20941\n",
      "[22]\tvalidation_0-logloss:0.20174\tvalidation_1-logloss:0.19945\n",
      "[23]\tvalidation_0-logloss:0.19334\tvalidation_1-logloss:0.19216\n",
      "[24]\tvalidation_0-logloss:0.18536\tvalidation_1-logloss:0.18350\n",
      "[25]\tvalidation_0-logloss:0.17786\tvalidation_1-logloss:0.17655\n",
      "[26]\tvalidation_0-logloss:0.17074\tvalidation_1-logloss:0.17047\n",
      "[27]\tvalidation_0-logloss:0.16403\tvalidation_1-logloss:0.16429\n",
      "[28]\tvalidation_0-logloss:0.15752\tvalidation_1-logloss:0.15743\n",
      "[29]\tvalidation_0-logloss:0.15147\tvalidation_1-logloss:0.15113\n",
      "[30]\tvalidation_0-logloss:0.14554\tvalidation_1-logloss:0.14530\n",
      "[31]\tvalidation_0-logloss:0.14047\tvalidation_1-logloss:0.14147\n",
      "[32]\tvalidation_0-logloss:0.13512\tvalidation_1-logloss:0.13614\n",
      "[33]\tvalidation_0-logloss:0.13057\tvalidation_1-logloss:0.13278\n",
      "[34]\tvalidation_0-logloss:0.12536\tvalidation_1-logloss:0.12739\n",
      "[35]\tvalidation_0-logloss:0.12079\tvalidation_1-logloss:0.12240\n",
      "[36]\tvalidation_0-logloss:0.11634\tvalidation_1-logloss:0.11918\n",
      "[37]\tvalidation_0-logloss:0.11264\tvalidation_1-logloss:0.11658\n",
      "[38]\tvalidation_0-logloss:0.10832\tvalidation_1-logloss:0.11206\n",
      "[39]\tvalidation_0-logloss:0.10450\tvalidation_1-logloss:0.10799\n",
      "[40]\tvalidation_0-logloss:0.10133\tvalidation_1-logloss:0.10585\n",
      "[41]\tvalidation_0-logloss:0.09756\tvalidation_1-logloss:0.10179\n",
      "[42]\tvalidation_0-logloss:0.09425\tvalidation_1-logloss:0.09907\n",
      "[43]\tvalidation_0-logloss:0.09104\tvalidation_1-logloss:0.09556\n",
      "[44]\tvalidation_0-logloss:0.08847\tvalidation_1-logloss:0.09407\n",
      "[45]\tvalidation_0-logloss:0.08534\tvalidation_1-logloss:0.09063\n",
      "[46]\tvalidation_0-logloss:0.08269\tvalidation_1-logloss:0.08765\n",
      "[47]\tvalidation_0-logloss:0.08023\tvalidation_1-logloss:0.08555\n",
      "[48]\tvalidation_0-logloss:0.07753\tvalidation_1-logloss:0.08253\n",
      "[49]\tvalidation_0-logloss:0.07550\tvalidation_1-logloss:0.08193\n",
      "[50]\tvalidation_0-logloss:0.07332\tvalidation_1-logloss:0.08052\n",
      "[51]\tvalidation_0-logloss:0.07129\tvalidation_1-logloss:0.07986\n",
      "[52]\tvalidation_0-logloss:0.06921\tvalidation_1-logloss:0.07766\n",
      "[53]\tvalidation_0-logloss:0.06739\tvalidation_1-logloss:0.07749\n",
      "[54]\tvalidation_0-logloss:0.06551\tvalidation_1-logloss:0.07515\n",
      "[55]\tvalidation_0-logloss:0.06370\tvalidation_1-logloss:0.07409\n",
      "[56]\tvalidation_0-logloss:0.06183\tvalidation_1-logloss:0.07182\n",
      "[57]\tvalidation_0-logloss:0.06020\tvalidation_1-logloss:0.07097\n",
      "[58]\tvalidation_0-logloss:0.05849\tvalidation_1-logloss:0.06887\n",
      "[59]\tvalidation_0-logloss:0.05690\tvalidation_1-logloss:0.06808\n",
      "[60]\tvalidation_0-logloss:0.05548\tvalidation_1-logloss:0.06694\n",
      "[61]\tvalidation_0-logloss:0.05405\tvalidation_1-logloss:0.06515\n",
      "[62]\tvalidation_0-logloss:0.05281\tvalidation_1-logloss:0.06508\n",
      "[63]\tvalidation_0-logloss:0.05139\tvalidation_1-logloss:0.06401\n",
      "[64]\tvalidation_0-logloss:0.05020\tvalidation_1-logloss:0.06351\n",
      "[65]\tvalidation_0-logloss:0.04889\tvalidation_1-logloss:0.06254\n",
      "[66]\tvalidation_0-logloss:0.04770\tvalidation_1-logloss:0.06097\n",
      "[67]\tvalidation_0-logloss:0.04663\tvalidation_1-logloss:0.06048\n",
      "[68]\tvalidation_0-logloss:0.04551\tvalidation_1-logloss:0.05898\n",
      "[69]\tvalidation_0-logloss:0.04445\tvalidation_1-logloss:0.05758\n",
      "[70]\tvalidation_0-logloss:0.04352\tvalidation_1-logloss:0.05721\n",
      "[71]\tvalidation_0-logloss:0.04244\tvalidation_1-logloss:0.05651\n",
      "[72]\tvalidation_0-logloss:0.04157\tvalidation_1-logloss:0.05607\n",
      "[73]\tvalidation_0-logloss:0.04065\tvalidation_1-logloss:0.05590\n",
      "[74]\tvalidation_0-logloss:0.03980\tvalidation_1-logloss:0.05570\n",
      "[75]\tvalidation_0-logloss:0.03894\tvalidation_1-logloss:0.05439\n",
      "[76]\tvalidation_0-logloss:0.03819\tvalidation_1-logloss:0.05419\n",
      "[77]\tvalidation_0-logloss:0.03730\tvalidation_1-logloss:0.05368\n",
      "[78]\tvalidation_0-logloss:0.03656\tvalidation_1-logloss:0.05292\n",
      "[79]\tvalidation_0-logloss:0.03591\tvalidation_1-logloss:0.05268\n",
      "[80]\tvalidation_0-logloss:0.03525\tvalidation_1-logloss:0.05277\n",
      "[81]\tvalidation_0-logloss:0.03450\tvalidation_1-logloss:0.05234\n",
      "[82]\tvalidation_0-logloss:0.03377\tvalidation_1-logloss:0.05150\n",
      "[83]\tvalidation_0-logloss:0.03307\tvalidation_1-logloss:0.05112\n",
      "[84]\tvalidation_0-logloss:0.03252\tvalidation_1-logloss:0.05116\n",
      "[85]\tvalidation_0-logloss:0.03198\tvalidation_1-logloss:0.05050\n",
      "[86]\tvalidation_0-logloss:0.03145\tvalidation_1-logloss:0.05065\n",
      "[87]\tvalidation_0-logloss:0.03082\tvalidation_1-logloss:0.04990\n",
      "[88]\tvalidation_0-logloss:0.03025\tvalidation_1-logloss:0.04961\n",
      "[89]\tvalidation_0-logloss:0.02967\tvalidation_1-logloss:0.04891\n",
      "[90]\tvalidation_0-logloss:0.02919\tvalidation_1-logloss:0.04902\n",
      "[91]\tvalidation_0-logloss:0.02874\tvalidation_1-logloss:0.04878\n",
      "[92]\tvalidation_0-logloss:0.02821\tvalidation_1-logloss:0.04811\n",
      "[93]\tvalidation_0-logloss:0.02780\tvalidation_1-logloss:0.04775\n",
      "[94]\tvalidation_0-logloss:0.02744\tvalidation_1-logloss:0.04731\n",
      "[95]\tvalidation_0-logloss:0.02696\tvalidation_1-logloss:0.04668\n",
      "[96]\tvalidation_0-logloss:0.02654\tvalidation_1-logloss:0.04569\n",
      "[97]\tvalidation_0-logloss:0.02616\tvalidation_1-logloss:0.04583\n",
      "[98]\tvalidation_0-logloss:0.02579\tvalidation_1-logloss:0.04566\n",
      "[99]\tvalidation_0-logloss:0.02536\tvalidation_1-logloss:0.04508\n",
      "[100]\tvalidation_0-logloss:0.02493\tvalidation_1-logloss:0.04455\n",
      "[101]\tvalidation_0-logloss:0.02460\tvalidation_1-logloss:0.04441\n",
      "[102]\tvalidation_0-logloss:0.02426\tvalidation_1-logloss:0.04460\n",
      "[103]\tvalidation_0-logloss:0.02387\tvalidation_1-logloss:0.04409\n",
      "[104]\tvalidation_0-logloss:0.02351\tvalidation_1-logloss:0.04342\n",
      "[105]\tvalidation_0-logloss:0.02315\tvalidation_1-logloss:0.04295\n",
      "[106]\tvalidation_0-logloss:0.02281\tvalidation_1-logloss:0.04283\n",
      "[107]\tvalidation_0-logloss:0.02247\tvalidation_1-logloss:0.04240\n",
      "[108]\tvalidation_0-logloss:0.02217\tvalidation_1-logloss:0.04220\n",
      "[109]\tvalidation_0-logloss:0.02190\tvalidation_1-logloss:0.04208\n",
      "[110]\tvalidation_0-logloss:0.02160\tvalidation_1-logloss:0.04148\n",
      "[111]\tvalidation_0-logloss:0.02132\tvalidation_1-logloss:0.04129\n",
      "[112]\tvalidation_0-logloss:0.02107\tvalidation_1-logloss:0.04149\n",
      "[113]\tvalidation_0-logloss:0.02079\tvalidation_1-logloss:0.04091\n",
      "[114]\tvalidation_0-logloss:0.02051\tvalidation_1-logloss:0.04086\n",
      "[115]\tvalidation_0-logloss:0.02030\tvalidation_1-logloss:0.04124\n",
      "[116]\tvalidation_0-logloss:0.02005\tvalidation_1-logloss:0.04186\n",
      "[117]\tvalidation_0-logloss:0.01979\tvalidation_1-logloss:0.04130\n",
      "[118]\tvalidation_0-logloss:0.01959\tvalidation_1-logloss:0.04071\n",
      "[119]\tvalidation_0-logloss:0.01935\tvalidation_1-logloss:0.04043\n",
      "[120]\tvalidation_0-logloss:0.01909\tvalidation_1-logloss:0.03983\n",
      "[121]\tvalidation_0-logloss:0.01887\tvalidation_1-logloss:0.04043\n",
      "[122]\tvalidation_0-logloss:0.01869\tvalidation_1-logloss:0.03987\n",
      "[123]\tvalidation_0-logloss:0.01847\tvalidation_1-logloss:0.03937\n",
      "[124]\tvalidation_0-logloss:0.01823\tvalidation_1-logloss:0.03903\n",
      "[125]\tvalidation_0-logloss:0.01805\tvalidation_1-logloss:0.03891\n",
      "[126]\tvalidation_0-logloss:0.01788\tvalidation_1-logloss:0.03925\n",
      "[127]\tvalidation_0-logloss:0.01772\tvalidation_1-logloss:0.03873\n",
      "[128]\tvalidation_0-logloss:0.01752\tvalidation_1-logloss:0.03848\n",
      "[129]\tvalidation_0-logloss:0.01731\tvalidation_1-logloss:0.03872\n",
      "[130]\tvalidation_0-logloss:0.01714\tvalidation_1-logloss:0.03860\n",
      "[131]\tvalidation_0-logloss:0.01695\tvalidation_1-logloss:0.03814\n",
      "[132]\tvalidation_0-logloss:0.01675\tvalidation_1-logloss:0.03838\n",
      "[133]\tvalidation_0-logloss:0.01657\tvalidation_1-logloss:0.03894\n",
      "[134]\tvalidation_0-logloss:0.01643\tvalidation_1-logloss:0.03933\n",
      "[135]\tvalidation_0-logloss:0.01625\tvalidation_1-logloss:0.03958\n",
      "[136]\tvalidation_0-logloss:0.01611\tvalidation_1-logloss:0.03909\n",
      "[137]\tvalidation_0-logloss:0.01591\tvalidation_1-logloss:0.03863\n",
      "[138]\tvalidation_0-logloss:0.01578\tvalidation_1-logloss:0.03901\n",
      "[139]\tvalidation_0-logloss:0.01559\tvalidation_1-logloss:0.03858\n",
      "[140]\tvalidation_0-logloss:0.01546\tvalidation_1-logloss:0.03891\n",
      "[141]\tvalidation_0-logloss:0.01533\tvalidation_1-logloss:0.03844\n"
     ]
    },
    {
     "data": {
      "text/html": [
       "<style>#sk-container-id-12 {color: black;background-color: white;}#sk-container-id-12 pre{padding: 0;}#sk-container-id-12 div.sk-toggleable {background-color: white;}#sk-container-id-12 label.sk-toggleable__label {cursor: pointer;display: block;width: 100%;margin-bottom: 0;padding: 0.3em;box-sizing: border-box;text-align: center;}#sk-container-id-12 label.sk-toggleable__label-arrow:before {content: \"▸\";float: left;margin-right: 0.25em;color: #696969;}#sk-container-id-12 label.sk-toggleable__label-arrow:hover:before {color: black;}#sk-container-id-12 div.sk-estimator:hover label.sk-toggleable__label-arrow:before {color: black;}#sk-container-id-12 div.sk-toggleable__content {max-height: 0;max-width: 0;overflow: hidden;text-align: left;background-color: #f0f8ff;}#sk-container-id-12 div.sk-toggleable__content pre {margin: 0.2em;color: black;border-radius: 0.25em;background-color: #f0f8ff;}#sk-container-id-12 input.sk-toggleable__control:checked~div.sk-toggleable__content {max-height: 200px;max-width: 100%;overflow: auto;}#sk-container-id-12 input.sk-toggleable__control:checked~label.sk-toggleable__label-arrow:before {content: \"▾\";}#sk-container-id-12 div.sk-estimator input.sk-toggleable__control:checked~label.sk-toggleable__label {background-color: #d4ebff;}#sk-container-id-12 div.sk-label input.sk-toggleable__control:checked~label.sk-toggleable__label {background-color: #d4ebff;}#sk-container-id-12 input.sk-hidden--visually {border: 0;clip: rect(1px 1px 1px 1px);clip: rect(1px, 1px, 1px, 1px);height: 1px;margin: -1px;overflow: hidden;padding: 0;position: absolute;width: 1px;}#sk-container-id-12 div.sk-estimator {font-family: monospace;background-color: #f0f8ff;border: 1px dotted black;border-radius: 0.25em;box-sizing: border-box;margin-bottom: 0.5em;}#sk-container-id-12 div.sk-estimator:hover {background-color: #d4ebff;}#sk-container-id-12 div.sk-parallel-item::after {content: \"\";width: 100%;border-bottom: 1px solid gray;flex-grow: 1;}#sk-container-id-12 div.sk-label:hover label.sk-toggleable__label {background-color: #d4ebff;}#sk-container-id-12 div.sk-serial::before {content: \"\";position: absolute;border-left: 1px solid gray;box-sizing: border-box;top: 0;bottom: 0;left: 50%;z-index: 0;}#sk-container-id-12 div.sk-serial {display: flex;flex-direction: column;align-items: center;background-color: white;padding-right: 0.2em;padding-left: 0.2em;position: relative;}#sk-container-id-12 div.sk-item {position: relative;z-index: 1;}#sk-container-id-12 div.sk-parallel {display: flex;align-items: stretch;justify-content: center;background-color: white;position: relative;}#sk-container-id-12 div.sk-item::before, #sk-container-id-12 div.sk-parallel-item::before {content: \"\";position: absolute;border-left: 1px solid gray;box-sizing: border-box;top: 0;bottom: 0;left: 50%;z-index: -1;}#sk-container-id-12 div.sk-parallel-item {display: flex;flex-direction: column;z-index: 1;position: relative;background-color: white;}#sk-container-id-12 div.sk-parallel-item:first-child::after {align-self: flex-end;width: 50%;}#sk-container-id-12 div.sk-parallel-item:last-child::after {align-self: flex-start;width: 50%;}#sk-container-id-12 div.sk-parallel-item:only-child::after {width: 0;}#sk-container-id-12 div.sk-dashed-wrapped {border: 1px dashed gray;margin: 0 0.4em 0.5em 0.4em;box-sizing: border-box;padding-bottom: 0.4em;background-color: white;}#sk-container-id-12 div.sk-label label {font-family: monospace;font-weight: bold;display: inline-block;line-height: 1.2em;}#sk-container-id-12 div.sk-label-container {text-align: center;}#sk-container-id-12 div.sk-container {/* jupyter's `normalize.less` sets `[hidden] { display: none; }` but bootstrap.min.css set `[hidden] { display: none !important; }` so we also need the `!important` here to be able to override the default hidden behavior on the sphinx rendered scikit-learn.org. See: https://github.com/scikit-learn/scikit-learn/issues/21755 */display: inline-block !important;position: relative;}#sk-container-id-12 div.sk-text-repr-fallback {display: none;}</style><div id=\"sk-container-id-12\" class=\"sk-top-container\"><div class=\"sk-text-repr-fallback\"><pre>XGBClassifier(base_score=None, booster=None, callbacks=None,\n",
       "              colsample_bylevel=None, colsample_bynode=None,\n",
       "              colsample_bytree=None, device=None, early_stopping_rounds=None,\n",
       "              enable_categorical=False, eval_metric=None, feature_types=None,\n",
       "              gamma=None, grow_policy=None, importance_type=None,\n",
       "              interaction_constraints=None, learning_rate=0.05, max_bin=None,\n",
       "              max_cat_threshold=None, max_cat_to_onehot=None,\n",
       "              max_delta_step=None, max_depth=3, max_leaves=None,\n",
       "              min_child_weight=None, missing=nan, monotone_constraints=None,\n",
       "              multi_strategy=None, n_estimators=300, n_jobs=None,\n",
       "              num_parallel_tree=None, random_state=None, ...)</pre><b>In a Jupyter environment, please rerun this cell to show the HTML representation or trust the notebook. <br />On GitHub, the HTML representation is unable to render, please try loading this page with nbviewer.org.</b></div><div class=\"sk-container\" hidden><div class=\"sk-item\"><div class=\"sk-estimator sk-toggleable\"><input class=\"sk-toggleable__control sk-hidden--visually\" id=\"sk-estimator-id-17\" type=\"checkbox\" checked><label for=\"sk-estimator-id-17\" class=\"sk-toggleable__label sk-toggleable__label-arrow\">XGBClassifier</label><div class=\"sk-toggleable__content\"><pre>XGBClassifier(base_score=None, booster=None, callbacks=None,\n",
       "              colsample_bylevel=None, colsample_bynode=None,\n",
       "              colsample_bytree=None, device=None, early_stopping_rounds=None,\n",
       "              enable_categorical=False, eval_metric=None, feature_types=None,\n",
       "              gamma=None, grow_policy=None, importance_type=None,\n",
       "              interaction_constraints=None, learning_rate=0.05, max_bin=None,\n",
       "              max_cat_threshold=None, max_cat_to_onehot=None,\n",
       "              max_delta_step=None, max_depth=3, max_leaves=None,\n",
       "              min_child_weight=None, missing=nan, monotone_constraints=None,\n",
       "              multi_strategy=None, n_estimators=300, n_jobs=None,\n",
       "              num_parallel_tree=None, random_state=None, ...)</pre></div></div></div></div></div>"
      ],
      "text/plain": [
       "XGBClassifier(base_score=None, booster=None, callbacks=None,\n",
       "              colsample_bylevel=None, colsample_bynode=None,\n",
       "              colsample_bytree=None, device=None, early_stopping_rounds=None,\n",
       "              enable_categorical=False, eval_metric=None, feature_types=None,\n",
       "              gamma=None, grow_policy=None, importance_type=None,\n",
       "              interaction_constraints=None, learning_rate=0.05, max_bin=None,\n",
       "              max_cat_threshold=None, max_cat_to_onehot=None,\n",
       "              max_delta_step=None, max_depth=3, max_leaves=None,\n",
       "              min_child_weight=None, missing=nan, monotone_constraints=None,\n",
       "              multi_strategy=None, n_estimators=300, n_jobs=None,\n",
       "              num_parallel_tree=None, random_state=None, ...)"
      ]
     },
     "execution_count": 73,
     "metadata": {},
     "output_type": "execute_result"
    }
   ],
   "source": [
    "from xgboost import XGBClassifier\n",
    "\n",
    "xgb_c = XGBClassifier(n_estimators=300, learning_rate=0.05, max_depth=3)\n",
    "evals = [(x_train, y_train), (x_val, y_val)]\n",
    "# logloss : 분류 문제에 사용되는 손실 함수, cross-entropy error라고도 한다. \n",
    "xgb_c.fit(x_train, y_train, early_stopping_rounds=10, eval_metric = 'logloss', eval_set = evals, verbose =True)"
   ]
  },
  {
   "cell_type": "code",
   "execution_count": 74,
   "id": "8606d4da-015a-4f03-919c-6b46cbb555f9",
   "metadata": {},
   "outputs": [
    {
     "name": "stdout",
     "output_type": "stream",
     "text": [
      "정확도: 0.947\n",
      "AUC:0.979\n"
     ]
    }
   ],
   "source": [
    "y_hat = xgb_c.predict(x_test)\n",
    "\n",
    "print(f'정확도: {accuracy_score(y_test, y_hat):.3f}')\n",
    "print(f'AUC:{roc_auc_score(y_test, xgb_c.predict_proba(x_test)[:,1]):.3f}')"
   ]
  },
  {
   "cell_type": "code",
   "execution_count": 77,
   "id": "90630752-282b-4c3e-9560-93dc15487c8f",
   "metadata": {},
   "outputs": [
    {
     "data": {
      "image/png": "[encoded data removed]",
      "text/plain": [
       "<Figure size 1200x1000 with 1 Axes>"
      ]
     },
     "metadata": {},
     "output_type": "display_data"
    }
   ],
   "source": [
    "import matplotlib.pyplot as plt\n",
    "from xgboost import plot_importance\n",
    "\n",
    "fig, ax = plt.subplots(figsize=(12,10))\n",
    "plot_importance(xgb_c, ax=ax)\n",
    "plt.show()"
   ]
  },
  {
   "cell_type": "markdown",
   "id": "f56abe1c-bf8e-41fa-acb3-a23672f23b93",
   "metadata": {},
   "source": [
    "### LightGBM (사이킷런 래퍼)"
   ]
  },
  {
   "cell_type": "code",
   "execution_count": 78,
   "id": "7d7ccdff-e71d-44d1-b57c-d622ef260570",
   "metadata": {},
   "outputs": [
    {
     "name": "stdout",
     "output_type": "stream",
     "text": [
      "[LightGBM] [Warning] Found whitespace in feature_names, replace with underlines\n",
      "[LightGBM] [Info] Number of positive: 256, number of negative: 153\n",
      "[LightGBM] [Info] Auto-choosing col-wise multi-threading, the overhead of testing was 0.000432 seconds.\n",
      "You can set `force_col_wise=true` to remove the overhead.\n",
      "[LightGBM] [Info] Total Bins 4092\n",
      "[LightGBM] [Info] Number of data points in the train set: 409, number of used features: 30\n",
      "[LightGBM] [Warning] Found whitespace in feature_names, replace with underlines\n",
      "[LightGBM] [Info] [binary:BoostFromScore]: pavg=0.625917 -> initscore=0.514740\n",
      "[LightGBM] [Info] Start training from score 0.514740\n",
      "[LightGBM] [Warning] No further splits with positive gain, best gain: -inf\n",
      "Training until validation scores don't improve for 10 rounds\n",
      "[LightGBM] [Warning] No further splits with positive gain, best gain: -inf\n",
      "[LightGBM] [Warning] No further splits with positive gain, best gain: -inf\n",
      "[LightGBM] [Warning] No further splits with positive gain, best gain: -inf\n",
      "[LightGBM] [Warning] No further splits with positive gain, best gain: -inf\n",
      "[LightGBM] [Warning] No further splits with positive gain, best gain: -inf\n",
      "[LightGBM] [Warning] No further splits with positive gain, best gain: -inf\n",
      "[LightGBM] [Warning] No further splits with positive gain, best gain: -inf\n",
      "[LightGBM] [Warning] No further splits with positive gain, best gain: -inf\n",
      "[LightGBM] [Warning] No further splits with positive gain, best gain: -inf\n",
      "[LightGBM] [Warning] No further splits with positive gain, best gain: -inf\n",
      "[LightGBM] [Warning] No further splits with positive gain, best gain: -inf\n",
      "[LightGBM] [Warning] No further splits with positive gain, best gain: -inf\n",
      "[LightGBM] [Warning] No further splits with positive gain, best gain: -inf\n",
      "[LightGBM] [Warning] No further splits with positive gain, best gain: -inf\n",
      "[LightGBM] [Warning] No further splits with positive gain, best gain: -inf\n",
      "[LightGBM] [Warning] No further splits with positive gain, best gain: -inf\n",
      "[LightGBM] [Warning] No further splits with positive gain, best gain: -inf\n",
      "[LightGBM] [Warning] No further splits with positive gain, best gain: -inf\n",
      "[LightGBM] [Warning] No further splits with positive gain, best gain: -inf\n",
      "[LightGBM] [Warning] No further splits with positive gain, best gain: -inf\n",
      "[LightGBM] [Warning] No further splits with positive gain, best gain: -inf\n",
      "[LightGBM] [Warning] No further splits with positive gain, best gain: -inf\n",
      "[LightGBM] [Warning] No further splits with positive gain, best gain: -inf\n",
      "[LightGBM] [Warning] No further splits with positive gain, best gain: -inf\n",
      "[LightGBM] [Warning] No further splits with positive gain, best gain: -inf\n",
      "[LightGBM] [Warning] No further splits with positive gain, best gain: -inf\n",
      "[LightGBM] [Warning] No further splits with positive gain, best gain: -inf\n",
      "[LightGBM] [Warning] No further splits with positive gain, best gain: -inf\n",
      "[LightGBM] [Warning] No further splits with positive gain, best gain: -inf\n",
      "[LightGBM] [Warning] No further splits with positive gain, best gain: -inf\n",
      "[LightGBM] [Warning] No further splits with positive gain, best gain: -inf\n",
      "[LightGBM] [Warning] No further splits with positive gain, best gain: -inf\n",
      "[LightGBM] [Warning] No further splits with positive gain, best gain: -inf\n",
      "[LightGBM] [Warning] No further splits with positive gain, best gain: -inf\n",
      "[LightGBM] [Warning] No further splits with positive gain, best gain: -inf\n",
      "[LightGBM] [Warning] No further splits with positive gain, best gain: -inf\n",
      "[LightGBM] [Warning] No further splits with positive gain, best gain: -inf\n",
      "[LightGBM] [Warning] No further splits with positive gain, best gain: -inf\n",
      "[LightGBM] [Warning] No further splits with positive gain, best gain: -inf\n",
      "[LightGBM] [Warning] No further splits with positive gain, best gain: -inf\n",
      "[LightGBM] [Warning] No further splits with positive gain, best gain: -inf\n",
      "[LightGBM] [Warning] No further splits with positive gain, best gain: -inf\n",
      "[LightGBM] [Warning] No further splits with positive gain, best gain: -inf\n",
      "[LightGBM] [Warning] No further splits with positive gain, best gain: -inf\n",
      "[LightGBM] [Warning] No further splits with positive gain, best gain: -inf\n",
      "[LightGBM] [Warning] No further splits with positive gain, best gain: -inf\n",
      "[LightGBM] [Warning] No further splits with positive gain, best gain: -inf\n",
      "[LightGBM] [Warning] No further splits with positive gain, best gain: -inf\n",
      "[LightGBM] [Warning] No further splits with positive gain, best gain: -inf\n",
      "[LightGBM] [Warning] No further splits with positive gain, best gain: -inf\n",
      "[LightGBM] [Warning] No further splits with positive gain, best gain: -inf\n",
      "[LightGBM] [Warning] No further splits with positive gain, best gain: -inf\n",
      "[LightGBM] [Warning] No further splits with positive gain, best gain: -inf\n",
      "[LightGBM] [Warning] No further splits with positive gain, best gain: -inf\n",
      "[LightGBM] [Warning] No further splits with positive gain, best gain: -inf\n",
      "[LightGBM] [Warning] No further splits with positive gain, best gain: -inf\n",
      "[LightGBM] [Warning] No further splits with positive gain, best gain: -inf\n",
      "[LightGBM] [Warning] No further splits with positive gain, best gain: -inf\n",
      "[LightGBM] [Warning] No further splits with positive gain, best gain: -inf\n",
      "[LightGBM] [Warning] No further splits with positive gain, best gain: -inf\n",
      "[LightGBM] [Warning] No further splits with positive gain, best gain: -inf\n",
      "[LightGBM] [Warning] No further splits with positive gain, best gain: -inf\n",
      "[LightGBM] [Warning] No further splits with positive gain, best gain: -inf\n",
      "[LightGBM] [Warning] No further splits with positive gain, best gain: -inf\n",
      "[LightGBM] [Warning] No further splits with positive gain, best gain: -inf\n",
      "[LightGBM] [Warning] No further splits with positive gain, best gain: -inf\n",
      "[LightGBM] [Warning] No further splits with positive gain, best gain: -inf\n",
      "[LightGBM] [Warning] No further splits with positive gain, best gain: -inf\n",
      "[LightGBM] [Warning] No further splits with positive gain, best gain: -inf\n",
      "[LightGBM] [Warning] No further splits with positive gain, best gain: -inf\n",
      "[LightGBM] [Warning] No further splits with positive gain, best gain: -inf\n",
      "[LightGBM] [Warning] No further splits with positive gain, best gain: -inf\n",
      "[LightGBM] [Warning] No further splits with positive gain, best gain: -inf\n",
      "[LightGBM] [Warning] No further splits with positive gain, best gain: -inf\n",
      "[LightGBM] [Warning] No further splits with positive gain, best gain: -inf\n",
      "[LightGBM] [Warning] No further splits with positive gain, best gain: -inf\n",
      "[LightGBM] [Warning] No further splits with positive gain, best gain: -inf\n",
      "[LightGBM] [Warning] No further splits with positive gain, best gain: -inf\n",
      "[LightGBM] [Warning] No further splits with positive gain, best gain: -inf\n",
      "[LightGBM] [Warning] No further splits with positive gain, best gain: -inf\n",
      "[LightGBM] [Warning] No further splits with positive gain, best gain: -inf\n",
      "[LightGBM] [Warning] No further splits with positive gain, best gain: -inf\n",
      "[LightGBM] [Warning] No further splits with positive gain, best gain: -inf\n",
      "[LightGBM] [Warning] No further splits with positive gain, best gain: -inf\n",
      "[LightGBM] [Warning] No further splits with positive gain, best gain: -inf\n",
      "[LightGBM] [Warning] No further splits with positive gain, best gain: -inf\n",
      "[LightGBM] [Warning] No further splits with positive gain, best gain: -inf\n",
      "[LightGBM] [Warning] No further splits with positive gain, best gain: -inf\n",
      "[LightGBM] [Warning] No further splits with positive gain, best gain: -inf\n",
      "[LightGBM] [Warning] No further splits with positive gain, best gain: -inf\n",
      "[LightGBM] [Warning] No further splits with positive gain, best gain: -inf\n",
      "[LightGBM] [Warning] No further splits with positive gain, best gain: -inf\n",
      "[LightGBM] [Warning] No further splits with positive gain, best gain: -inf\n",
      "[LightGBM] [Warning] No further splits with positive gain, best gain: -inf\n",
      "[LightGBM] [Warning] No further splits with positive gain, best gain: -inf\n",
      "[LightGBM] [Warning] No further splits with positive gain, best gain: -inf\n",
      "[LightGBM] [Warning] No further splits with positive gain, best gain: -inf\n",
      "[LightGBM] [Warning] No further splits with positive gain, best gain: -inf\n",
      "[LightGBM] [Warning] No further splits with positive gain, best gain: -inf\n",
      "[LightGBM] [Warning] No further splits with positive gain, best gain: -inf\n",
      "[LightGBM] [Warning] No further splits with positive gain, best gain: -inf\n",
      "[LightGBM] [Warning] No further splits with positive gain, best gain: -inf\n",
      "[LightGBM] [Warning] No further splits with positive gain, best gain: -inf\n",
      "[LightGBM] [Warning] No further splits with positive gain, best gain: -inf\n",
      "[LightGBM] [Warning] No further splits with positive gain, best gain: -inf\n",
      "[LightGBM] [Warning] No further splits with positive gain, best gain: -inf\n",
      "[LightGBM] [Warning] No further splits with positive gain, best gain: -inf\n",
      "[LightGBM] [Warning] No further splits with positive gain, best gain: -inf\n",
      "[LightGBM] [Warning] No further splits with positive gain, best gain: -inf\n",
      "[LightGBM] [Warning] No further splits with positive gain, best gain: -inf\n",
      "[LightGBM] [Warning] No further splits with positive gain, best gain: -inf\n",
      "[LightGBM] [Warning] No further splits with positive gain, best gain: -inf\n",
      "[LightGBM] [Warning] No further splits with positive gain, best gain: -inf\n",
      "[LightGBM] [Warning] No further splits with positive gain, best gain: -inf\n",
      "[LightGBM] [Warning] No further splits with positive gain, best gain: -inf\n",
      "[LightGBM] [Warning] No further splits with positive gain, best gain: -inf\n",
      "[LightGBM] [Warning] No further splits with positive gain, best gain: -inf\n",
      "[LightGBM] [Warning] No further splits with positive gain, best gain: -inf\n",
      "[LightGBM] [Warning] No further splits with positive gain, best gain: -inf\n",
      "[LightGBM] [Warning] No further splits with positive gain, best gain: -inf\n",
      "[LightGBM] [Warning] No further splits with positive gain, best gain: -inf\n",
      "[LightGBM] [Warning] No further splits with positive gain, best gain: -inf\n",
      "[LightGBM] [Warning] No further splits with positive gain, best gain: -inf\n",
      "[LightGBM] [Warning] No further splits with positive gain, best gain: -inf\n",
      "[LightGBM] [Warning] No further splits with positive gain, best gain: -inf\n",
      "[LightGBM] [Warning] No further splits with positive gain, best gain: -inf\n",
      "[LightGBM] [Warning] No further splits with positive gain, best gain: -inf\n",
      "[LightGBM] [Warning] No further splits with positive gain, best gain: -inf\n",
      "[LightGBM] [Warning] No further splits with positive gain, best gain: -inf\n",
      "[LightGBM] [Warning] No further splits with positive gain, best gain: -inf\n",
      "[LightGBM] [Warning] No further splits with positive gain, best gain: -inf\n",
      "[LightGBM] [Warning] No further splits with positive gain, best gain: -inf\n",
      "[LightGBM] [Warning] No further splits with positive gain, best gain: -inf\n",
      "[LightGBM] [Warning] No further splits with positive gain, best gain: -inf\n",
      "[LightGBM] [Warning] No further splits with positive gain, best gain: -inf\n",
      "[LightGBM] [Warning] No further splits with positive gain, best gain: -inf\n",
      "[LightGBM] [Warning] No further splits with positive gain, best gain: -inf\n",
      "[LightGBM] [Warning] No further splits with positive gain, best gain: -inf\n",
      "[LightGBM] [Warning] No further splits with positive gain, best gain: -inf\n",
      "[LightGBM] [Warning] No further splits with positive gain, best gain: -inf\n",
      "[LightGBM] [Warning] No further splits with positive gain, best gain: -inf\n",
      "[LightGBM] [Warning] No further splits with positive gain, best gain: -inf\n",
      "[LightGBM] [Warning] No further splits with positive gain, best gain: -inf\n",
      "[LightGBM] [Warning] No further splits with positive gain, best gain: -inf\n",
      "[LightGBM] [Warning] No further splits with positive gain, best gain: -inf\n",
      "[LightGBM] [Warning] No further splits with positive gain, best gain: -inf\n",
      "[LightGBM] [Warning] No further splits with positive gain, best gain: -inf\n",
      "[LightGBM] [Warning] No further splits with positive gain, best gain: -inf\n",
      "[LightGBM] [Warning] No further splits with positive gain, best gain: -inf\n",
      "[LightGBM] [Warning] No further splits with positive gain, best gain: -inf\n",
      "[LightGBM] [Warning] No further splits with positive gain, best gain: -inf\n",
      "[LightGBM] [Warning] No further splits with positive gain, best gain: -inf\n",
      "[LightGBM] [Warning] No further splits with positive gain, best gain: -inf\n",
      "[LightGBM] [Warning] No further splits with positive gain, best gain: -inf\n",
      "[LightGBM] [Warning] No further splits with positive gain, best gain: -inf\n",
      "[LightGBM] [Warning] No further splits with positive gain, best gain: -inf\n",
      "[LightGBM] [Warning] No further splits with positive gain, best gain: -inf\n",
      "[LightGBM] [Warning] No further splits with positive gain, best gain: -inf\n",
      "[LightGBM] [Warning] No further splits with positive gain, best gain: -inf\n",
      "[LightGBM] [Warning] No further splits with positive gain, best gain: -inf\n",
      "[LightGBM] [Warning] No further splits with positive gain, best gain: -inf\n",
      "[LightGBM] [Warning] No further splits with positive gain, best gain: -inf\n",
      "[LightGBM] [Warning] No further splits with positive gain, best gain: -inf\n",
      "[LightGBM] [Warning] No further splits with positive gain, best gain: -inf\n",
      "[LightGBM] [Warning] No further splits with positive gain, best gain: -inf\n",
      "[LightGBM] [Warning] No further splits with positive gain, best gain: -inf\n",
      "[LightGBM] [Warning] No further splits with positive gain, best gain: -inf\n",
      "[LightGBM] [Warning] No further splits with positive gain, best gain: -inf\n",
      "[LightGBM] [Warning] No further splits with positive gain, best gain: -inf\n",
      "[LightGBM] [Warning] No further splits with positive gain, best gain: -inf\n",
      "[LightGBM] [Warning] No further splits with positive gain, best gain: -inf\n",
      "Early stopping, best iteration is:\n",
      "[170]\ttraining's binary_logloss: 0.00109099\tvalid_1's binary_logloss: 0.020012\n"
     ]
    },
    {
     "data": {
      "text/html": [
       "<style>#sk-container-id-13 {color: black;background-color: white;}#sk-container-id-13 pre{padding: 0;}#sk-container-id-13 div.sk-toggleable {background-color: white;}#sk-container-id-13 label.sk-toggleable__label {cursor: pointer;display: block;width: 100%;margin-bottom: 0;padding: 0.3em;box-sizing: border-box;text-align: center;}#sk-container-id-13 label.sk-toggleable__label-arrow:before {content: \"▸\";float: left;margin-right: 0.25em;color: #696969;}#sk-container-id-13 label.sk-toggleable__label-arrow:hover:before {color: black;}#sk-container-id-13 div.sk-estimator:hover label.sk-toggleable__label-arrow:before {color: black;}#sk-container-id-13 div.sk-toggleable__content {max-height: 0;max-width: 0;overflow: hidden;text-align: left;background-color: #f0f8ff;}#sk-container-id-13 div.sk-toggleable__content pre {margin: 0.2em;color: black;border-radius: 0.25em;background-color: #f0f8ff;}#sk-container-id-13 input.sk-toggleable__control:checked~div.sk-toggleable__content {max-height: 200px;max-width: 100%;overflow: auto;}#sk-container-id-13 input.sk-toggleable__control:checked~label.sk-toggleable__label-arrow:before {content: \"▾\";}#sk-container-id-13 div.sk-estimator input.sk-toggleable__control:checked~label.sk-toggleable__label {background-color: #d4ebff;}#sk-container-id-13 div.sk-label input.sk-toggleable__control:checked~label.sk-toggleable__label {background-color: #d4ebff;}#sk-container-id-13 input.sk-hidden--visually {border: 0;clip: rect(1px 1px 1px 1px);clip: rect(1px, 1px, 1px, 1px);height: 1px;margin: -1px;overflow: hidden;padding: 0;position: absolute;width: 1px;}#sk-container-id-13 div.sk-estimator {font-family: monospace;background-color: #f0f8ff;border: 1px dotted black;border-radius: 0.25em;box-sizing: border-box;margin-bottom: 0.5em;}#sk-container-id-13 div.sk-estimator:hover {background-color: #d4ebff;}#sk-container-id-13 div.sk-parallel-item::after {content: \"\";width: 100%;border-bottom: 1px solid gray;flex-grow: 1;}#sk-container-id-13 div.sk-label:hover label.sk-toggleable__label {background-color: #d4ebff;}#sk-container-id-13 div.sk-serial::before {content: \"\";position: absolute;border-left: 1px solid gray;box-sizing: border-box;top: 0;bottom: 0;left: 50%;z-index: 0;}#sk-container-id-13 div.sk-serial {display: flex;flex-direction: column;align-items: center;background-color: white;padding-right: 0.2em;padding-left: 0.2em;position: relative;}#sk-container-id-13 div.sk-item {position: relative;z-index: 1;}#sk-container-id-13 div.sk-parallel {display: flex;align-items: stretch;justify-content: center;background-color: white;position: relative;}#sk-container-id-13 div.sk-item::before, #sk-container-id-13 div.sk-parallel-item::before {content: \"\";position: absolute;border-left: 1px solid gray;box-sizing: border-box;top: 0;bottom: 0;left: 50%;z-index: -1;}#sk-container-id-13 div.sk-parallel-item {display: flex;flex-direction: column;z-index: 1;position: relative;background-color: white;}#sk-container-id-13 div.sk-parallel-item:first-child::after {align-self: flex-end;width: 50%;}#sk-container-id-13 div.sk-parallel-item:last-child::after {align-self: flex-start;width: 50%;}#sk-container-id-13 div.sk-parallel-item:only-child::after {width: 0;}#sk-container-id-13 div.sk-dashed-wrapped {border: 1px dashed gray;margin: 0 0.4em 0.5em 0.4em;box-sizing: border-box;padding-bottom: 0.4em;background-color: white;}#sk-container-id-13 div.sk-label label {font-family: monospace;font-weight: bold;display: inline-block;line-height: 1.2em;}#sk-container-id-13 div.sk-label-container {text-align: center;}#sk-container-id-13 div.sk-container {/* jupyter's `normalize.less` sets `[hidden] { display: none; }` but bootstrap.min.css set `[hidden] { display: none !important; }` so we also need the `!important` here to be able to override the default hidden behavior on the sphinx rendered scikit-learn.org. See: https://github.com/scikit-learn/scikit-learn/issues/21755 */display: inline-block !important;position: relative;}#sk-container-id-13 div.sk-text-repr-fallback {display: none;}</style><div id=\"sk-container-id-13\" class=\"sk-top-container\"><div class=\"sk-text-repr-fallback\"><pre>LGBMClassifier(learning_rate=0.05, n_estimators=300)</pre><b>In a Jupyter environment, please rerun this cell to show the HTML representation or trust the notebook. <br />On GitHub, the HTML representation is unable to render, please try loading this page with nbviewer.org.</b></div><div class=\"sk-container\" hidden><div class=\"sk-item\"><div class=\"sk-estimator sk-toggleable\"><input class=\"sk-toggleable__control sk-hidden--visually\" id=\"sk-estimator-id-18\" type=\"checkbox\" checked><label for=\"sk-estimator-id-18\" class=\"sk-toggleable__label sk-toggleable__label-arrow\">LGBMClassifier</label><div class=\"sk-toggleable__content\"><pre>LGBMClassifier(learning_rate=0.05, n_estimators=300)</pre></div></div></div></div></div>"
      ],
      "text/plain": [
       "LGBMClassifier(learning_rate=0.05, n_estimators=300)"
      ]
     },
     "execution_count": 78,
     "metadata": {},
     "output_type": "execute_result"
    }
   ],
   "source": [
    "from lightgbm import LGBMClassifier, early_stopping\n",
    "lgbm_c = LGBMClassifier(n_estimators=300, learning_rate=0.05)\n",
    "evals = [(x_train, y_train), (x_val, y_val)]\n",
    "callbacks = [early_stopping(stopping_rounds=10)]\n",
    "lgbm_c.fit(x_train, y_train, eval_metric='logloss', callbacks=callbacks, eval_set=evals)"
   ]
  },
  {
   "cell_type": "code",
   "execution_count": 81,
   "id": "bae985a0-27b2-4802-9045-e4721d97e2ff",
   "metadata": {},
   "outputs": [
    {
     "name": "stdout",
     "output_type": "stream",
     "text": [
      "정확도: 0.947\n",
      "AUC:0.977\n"
     ]
    }
   ],
   "source": [
    "y_hat = lgbm_c.predict(x_test)\n",
    "\n",
    "print(f'정확도: {accuracy_score(y_test, y_hat):.3f}')\n",
    "print(f'AUC:{roc_auc_score(y_test, lgbm_c.predict_proba(x_test)[:,1]):.3f}')"
   ]
  },
  {
   "cell_type": "markdown",
   "id": "5a790695-a79a-4577-a49f-6091a9b9bfc4",
   "metadata": {},
   "source": [
    "## Stacking"
   ]
  },
  {
   "cell_type": "markdown",
   "id": "e98ccdb1-de76-4943-b35c-d94c2bc98228",
   "metadata": {},
   "source": [
    "### 패키지 로딩"
   ]
  },
  {
   "cell_type": "code",
   "execution_count": 82,
   "id": "3c542120-fc00-4aa2-b7a9-69ad141f4ddd",
   "metadata": {},
   "outputs": [],
   "source": [
    "# 1st model\n",
    "from sklearn.neighbors import KNeighborsClassifier\n",
    "from sklearn.ensemble import RandomForestClassifier\n",
    "from sklearn.ensemble import AdaBoostClassifier\n",
    "from sklearn.tree import DecisionTreeClassifier\n",
    "# 2nd meta model \n",
    "from sklearn.linear_model import LogisticRegression "
   ]
  },
  {
   "cell_type": "markdown",
   "id": "2fdb2fe7-8db6-42ee-bcdc-940bd75ab2c0",
   "metadata": {},
   "source": [
    "### 모델 생성"
   ]
  },
  {
   "cell_type": "code",
   "execution_count": 84,
   "id": "8ea249bb-1a11-4268-984a-8e4cb7a416f8",
   "metadata": {},
   "outputs": [],
   "source": [
    "knn_1st = KNeighborsClassifier(n_neighbors=3)\n",
    "rf_1st = RandomForestClassifier(random_state=0)\n",
    "dt_1st = DecisionTreeClassifier() # 하나의 의사결정 나무\n",
    "ada_1st = AdaBoostClassifier(n_estimators=200)\n",
    "\n",
    "lr_final = LogisticRegression()"
   ]
  },
  {
   "cell_type": "markdown",
   "id": "8b3fc205-e2ee-4961-916c-25530565e371",
   "metadata": {},
   "source": [
    "### 학습 및 평가"
   ]
  },
  {
   "cell_type": "code",
   "execution_count": 86,
   "id": "7e5d2fd1-bfd2-473b-a22c-79df320f48c2",
   "metadata": {},
   "outputs": [
    {
     "data": {
      "text/html": [
       "<style>#sk-container-id-14 {color: black;background-color: white;}#sk-container-id-14 pre{padding: 0;}#sk-container-id-14 div.sk-toggleable {background-color: white;}#sk-container-id-14 label.sk-toggleable__label {cursor: pointer;display: block;width: 100%;margin-bottom: 0;padding: 0.3em;box-sizing: border-box;text-align: center;}#sk-container-id-14 label.sk-toggleable__label-arrow:before {content: \"▸\";float: left;margin-right: 0.25em;color: #696969;}#sk-container-id-14 label.sk-toggleable__label-arrow:hover:before {color: black;}#sk-container-id-14 div.sk-estimator:hover label.sk-toggleable__label-arrow:before {color: black;}#sk-container-id-14 div.sk-toggleable__content {max-height: 0;max-width: 0;overflow: hidden;text-align: left;background-color: #f0f8ff;}#sk-container-id-14 div.sk-toggleable__content pre {margin: 0.2em;color: black;border-radius: 0.25em;background-color: #f0f8ff;}#sk-container-id-14 input.sk-toggleable__control:checked~div.sk-toggleable__content {max-height: 200px;max-width: 100%;overflow: auto;}#sk-container-id-14 input.sk-toggleable__control:checked~label.sk-toggleable__label-arrow:before {content: \"▾\";}#sk-container-id-14 div.sk-estimator input.sk-toggleable__control:checked~label.sk-toggleable__label {background-color: #d4ebff;}#sk-container-id-14 div.sk-label input.sk-toggleable__control:checked~label.sk-toggleable__label {background-color: #d4ebff;}#sk-container-id-14 input.sk-hidden--visually {border: 0;clip: rect(1px 1px 1px 1px);clip: rect(1px, 1px, 1px, 1px);height: 1px;margin: -1px;overflow: hidden;padding: 0;position: absolute;width: 1px;}#sk-container-id-14 div.sk-estimator {font-family: monospace;background-color: #f0f8ff;border: 1px dotted black;border-radius: 0.25em;box-sizing: border-box;margin-bottom: 0.5em;}#sk-container-id-14 div.sk-estimator:hover {background-color: #d4ebff;}#sk-container-id-14 div.sk-parallel-item::after {content: \"\";width: 100%;border-bottom: 1px solid gray;flex-grow: 1;}#sk-container-id-14 div.sk-label:hover label.sk-toggleable__label {background-color: #d4ebff;}#sk-container-id-14 div.sk-serial::before {content: \"\";position: absolute;border-left: 1px solid gray;box-sizing: border-box;top: 0;bottom: 0;left: 50%;z-index: 0;}#sk-container-id-14 div.sk-serial {display: flex;flex-direction: column;align-items: center;background-color: white;padding-right: 0.2em;padding-left: 0.2em;position: relative;}#sk-container-id-14 div.sk-item {position: relative;z-index: 1;}#sk-container-id-14 div.sk-parallel {display: flex;align-items: stretch;justify-content: center;background-color: white;position: relative;}#sk-container-id-14 div.sk-item::before, #sk-container-id-14 div.sk-parallel-item::before {content: \"\";position: absolute;border-left: 1px solid gray;box-sizing: border-box;top: 0;bottom: 0;left: 50%;z-index: -1;}#sk-container-id-14 div.sk-parallel-item {display: flex;flex-direction: column;z-index: 1;position: relative;background-color: white;}#sk-container-id-14 div.sk-parallel-item:first-child::after {align-self: flex-end;width: 50%;}#sk-container-id-14 div.sk-parallel-item:last-child::after {align-self: flex-start;width: 50%;}#sk-container-id-14 div.sk-parallel-item:only-child::after {width: 0;}#sk-container-id-14 div.sk-dashed-wrapped {border: 1px dashed gray;margin: 0 0.4em 0.5em 0.4em;box-sizing: border-box;padding-bottom: 0.4em;background-color: white;}#sk-container-id-14 div.sk-label label {font-family: monospace;font-weight: bold;display: inline-block;line-height: 1.2em;}#sk-container-id-14 div.sk-label-container {text-align: center;}#sk-container-id-14 div.sk-container {/* jupyter's `normalize.less` sets `[hidden] { display: none; }` but bootstrap.min.css set `[hidden] { display: none !important; }` so we also need the `!important` here to be able to override the default hidden behavior on the sphinx rendered scikit-learn.org. See: https://github.com/scikit-learn/scikit-learn/issues/21755 */display: inline-block !important;position: relative;}#sk-container-id-14 div.sk-text-repr-fallback {display: none;}</style><div id=\"sk-container-id-14\" class=\"sk-top-container\"><div class=\"sk-text-repr-fallback\"><pre>AdaBoostClassifier(n_estimators=200)</pre><b>In a Jupyter environment, please rerun this cell to show the HTML representation or trust the notebook. <br />On GitHub, the HTML representation is unable to render, please try loading this page with nbviewer.org.</b></div><div class=\"sk-container\" hidden><div class=\"sk-item\"><div class=\"sk-estimator sk-toggleable\"><input class=\"sk-toggleable__control sk-hidden--visually\" id=\"sk-estimator-id-19\" type=\"checkbox\" checked><label for=\"sk-estimator-id-19\" class=\"sk-toggleable__label sk-toggleable__label-arrow\">AdaBoostClassifier</label><div class=\"sk-toggleable__content\"><pre>AdaBoostClassifier(n_estimators=200)</pre></div></div></div></div></div>"
      ],
      "text/plain": [
       "AdaBoostClassifier(n_estimators=200)"
      ]
     },
     "execution_count": 86,
     "metadata": {},
     "output_type": "execute_result"
    }
   ],
   "source": [
    "knn_1st.fit(x_train, y_train)\n",
    "rf_1st.fit(x_train, y_train)\n",
    "dt_1st.fit(x_train, y_train)\n",
    "ada_1st.fit(x_train, y_train)"
   ]
  },
  {
   "cell_type": "code",
   "execution_count": 87,
   "id": "da52dcf9-0082-4043-b283-f3603e6f21b0",
   "metadata": {},
   "outputs": [],
   "source": [
    "knn_pred = knn_1st.predict(x_test)\n",
    "rf_pred = rf_1st.predict(x_test)\n",
    "dt_pred = dt_1st.predict(x_test)\n",
    "ada_pred = ada_1st.predict(x_test)"
   ]
  },
  {
   "cell_type": "markdown",
   "id": "84bcc148-93dd-4314-881a-af0a1a1f33e0",
   "metadata": {},
   "source": [
    "### 스태킹(Stacking)"
   ]
  },
  {
   "cell_type": "code",
   "execution_count": 90,
   "id": "b4b6817c-afbc-4e2f-b150-b24f8f314431",
   "metadata": {},
   "outputs": [
    {
     "name": "stdout",
     "output_type": "stream",
     "text": [
      "(114,)\n",
      "(4, 114)\n",
      "(114, 4)\n"
     ]
    }
   ],
   "source": [
    "print(knn_pred.shape)\n",
    "y_hat = np.array([knn_pred, rf_pred, dt_pred, ada_pred])\n",
    "print(y_hat.shape)\n",
    "y_hat = np.transpose(y_hat) # transpose : 열과 행 위치 바꿈 \n",
    "print(y_hat.shape)"
   ]
  },
  {
   "cell_type": "markdown",
   "id": "d822cb65-7d74-45c6-a24f-8716c88df969",
   "metadata": {},
   "source": [
    "### 메타 모델 학습 및 평가"
   ]
  },
  {
   "cell_type": "code",
   "execution_count": 91,
   "id": "3d1edab4-f7b9-4278-9818-782453f011fc",
   "metadata": {},
   "outputs": [
    {
     "name": "stdout",
     "output_type": "stream",
     "text": [
      "최종 메타 모델의 예측 정확도 : 0.974\n"
     ]
    }
   ],
   "source": [
    "lr_final.fit(y_hat, y_test)\n",
    "final_y_hat = lr_final.predict(y_hat)\n",
    "print(f'최종 메타 모델의 예측 정확도 : {accuracy_score(y_test, final_y_hat):.3f}')"
   ]
  }
 ],
 "metadata": {
  "kernelspec": {
   "display_name": "Python 3 (ipykernel)",
   "language": "python",
   "name": "python3"
  },
  "language_info": {
   "codemirror_mode": {
    "name": "ipython",
    "version": 3
   },
   "file_extension": ".py",
   "mimetype": "text/x-python",
   "name": "python",
   "nbconvert_exporter": "python",
   "pygments_lexer": "ipython3",
   "version": "3.11.7"
  }
 },
 "nbformat": 4,
 "nbformat_minor": 5
}
